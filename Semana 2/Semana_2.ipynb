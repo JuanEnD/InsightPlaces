{
  "nbformat": 4,
  "nbformat_minor": 0,
  "metadata": {
    "colab": {
      "provenance": [],
      "collapsed_sections": [
        "1gGRW-fOWg2o",
        "Y8U7MozkqUaU",
        "diNU_oGXOrdD",
        "Fi56bQdnOza_",
        "Gt4hVKX7kmKE",
        "mXaUpvZWnRxY",
        "2xg1cBl_zNOf",
        "f8gyBmmi6Y56",
        "3n_HYPpr9mlM",
        "GHM-Zy-nBYSW",
        "KrkLRQ2AD3wr",
        "XvmrQNWGEFgz",
        "0CC0esYfGHIR",
        "lOXweCXmH-Pe"
      ]
    },
    "kernelspec": {
      "name": "python3",
      "display_name": "Python 3"
    },
    "language_info": {
      "name": "python"
    }
  },
  "cells": [
    {
      "cell_type": "markdown",
      "source": [
        "# **Preparando o Ambiente**"
      ],
      "metadata": {
        "id": "1gGRW-fOWg2o"
      }
    },
    {
      "cell_type": "code",
      "execution_count": 1,
      "metadata": {
        "colab": {
          "base_uri": "https://localhost:8080/"
        },
        "id": "mclKN26ZSH1i",
        "outputId": "2168ea55-87b7-4549-cb63-188ccd354c06"
      },
      "outputs": [
        {
          "output_type": "stream",
          "name": "stdout",
          "text": [
            "Looking in indexes: https://pypi.org/simple, https://us-python.pkg.dev/colab-wheels/public/simple/\n",
            "Collecting pyspark\n",
            "  Downloading pyspark-3.4.0.tar.gz (310.8 MB)\n",
            "\u001b[2K     \u001b[90m━━━━━━━━━━━━━━━━━━━━━━━━━━━━━━━━━━━━━━━\u001b[0m \u001b[32m310.8/310.8 MB\u001b[0m \u001b[31m3.7 MB/s\u001b[0m eta \u001b[36m0:00:00\u001b[0m\n",
            "\u001b[?25h  Preparing metadata (setup.py) ... \u001b[?25l\u001b[?25hdone\n",
            "Requirement already satisfied: py4j==0.10.9.7 in /usr/local/lib/python3.9/dist-packages (from pyspark) (0.10.9.7)\n",
            "Building wheels for collected packages: pyspark\n",
            "  Building wheel for pyspark (setup.py) ... \u001b[?25l\u001b[?25hdone\n",
            "  Created wheel for pyspark: filename=pyspark-3.4.0-py2.py3-none-any.whl size=311317145 sha256=83e6dc4f874e9d7d6834d5d7ca199d550aae7bbfe72ea3ae44a26fffe5b351bc\n",
            "  Stored in directory: /root/.cache/pip/wheels/9f/34/a4/159aa12d0a510d5ff7c8f0220abbea42e5d81ecf588c4fd884\n",
            "Successfully built pyspark\n",
            "Installing collected packages: pyspark\n",
            "Successfully installed pyspark-3.4.0\n"
          ]
        }
      ],
      "source": [
        "!pip install pyspark"
      ]
    },
    {
      "cell_type": "code",
      "source": [
        "from pyspark.sql import SparkSession\n",
        "\n",
        "spark = SparkSession.builder \\\n",
        "    .master('local[*]') \\\n",
        "    .appName(\"Challenge da Alura\") \\\n",
        "    .getOrCreate()\n",
        "\n",
        "spark"
      ],
      "metadata": {
        "colab": {
          "base_uri": "https://localhost:8080/",
          "height": 344
        },
        "id": "eWSWokwFWvFo",
        "outputId": "4a53c7bc-1a5e-4635-a9d2-1993951ba66b"
      },
      "execution_count": 2,
      "outputs": [
        {
          "output_type": "execute_result",
          "data": {
            "text/plain": [
              "<pyspark.sql.session.SparkSession at 0x7f204fe59490>"
            ],
            "text/html": [
              "\n",
              "            <div>\n",
              "                <p><b>SparkSession - in-memory</b></p>\n",
              "                \n",
              "        <div>\n",
              "            <p><b>SparkContext</b></p>\n",
              "\n",
              "            <p><a href=\"http://d4cbae1c25e4:4040\">Spark UI</a></p>\n",
              "\n",
              "            <dl>\n",
              "              <dt>Version</dt>\n",
              "                <dd><code>v3.4.0</code></dd>\n",
              "              <dt>Master</dt>\n",
              "                <dd><code>local[*]</code></dd>\n",
              "              <dt>AppName</dt>\n",
              "                <dd><code>Challenge da Alura</code></dd>\n",
              "            </dl>\n",
              "        </div>\n",
              "        \n",
              "            </div>\n",
              "        "
            ]
          },
          "metadata": {},
          "execution_count": 2
        }
      ]
    },
    {
      "cell_type": "markdown",
      "source": [
        "Montando o Drive"
      ],
      "metadata": {
        "id": "BAE0oKEaXWJg"
      }
    },
    {
      "cell_type": "code",
      "source": [
        "from google.colab import drive\n",
        "drive.mount('/content/drive')"
      ],
      "metadata": {
        "colab": {
          "base_uri": "https://localhost:8080/"
        },
        "id": "72uZv0NzWfVH",
        "outputId": "968ce52e-8408-4dc0-e978-fe1a0ebeb8f5"
      },
      "execution_count": 3,
      "outputs": [
        {
          "output_type": "stream",
          "name": "stdout",
          "text": [
            "Mounted at /content/drive\n"
          ]
        }
      ]
    },
    {
      "cell_type": "code",
      "source": [
        "dados = spark.read.parquet('/content/drive/MyDrive/Challenge_Pyspark_Alura/parquet/part-00000-67f0ea53-49e1-482e-954e-8c385eabc181-c000.snappy.parquet')"
      ],
      "metadata": {
        "id": "xswA7csKXy3I"
      },
      "execution_count": 4,
      "outputs": []
    },
    {
      "cell_type": "code",
      "source": [
        "dados"
      ],
      "metadata": {
        "colab": {
          "base_uri": "https://localhost:8080/"
        },
        "id": "1k3LuU2bZljK",
        "outputId": "ba4d3593-83cf-4ab0-c4e9-131c0e3ede25"
      },
      "execution_count": 5,
      "outputs": [
        {
          "output_type": "execute_result",
          "data": {
            "text/plain": [
              "DataFrame[id: string, andar: bigint, area_total: string, area_util: string, banheiros: bigint, caracteristicas: array<string>, quartos: bigint, suites: bigint, tipo_anuncio: string, tipo_unidade: string, tipo_uso: string, vaga: bigint, bairro: string, zona: string, condominio: string, iptu: string, tipo: string, valor: string]"
            ]
          },
          "metadata": {},
          "execution_count": 5
        }
      ]
    },
    {
      "cell_type": "code",
      "source": [
        "dados.show()"
      ],
      "metadata": {
        "colab": {
          "base_uri": "https://localhost:8080/"
        },
        "id": "2MMEWB8ZZqyB",
        "outputId": "33259b73-756f-4a09-e423-e072bd667203"
      },
      "execution_count": 6,
      "outputs": [
        {
          "output_type": "stream",
          "name": "stdout",
          "text": [
            "+--------------------+-----+----------+---------+---------+--------------------+-------+------+------------+------------+-----------+----+--------------------+------------+----------+----+-----+------+\n",
            "|                  id|andar|area_total|area_util|banheiros|     caracteristicas|quartos|suites|tipo_anuncio|tipo_unidade|   tipo_uso|vaga|              bairro|        zona|condominio|iptu| tipo| valor|\n",
            "+--------------------+-----+----------+---------+---------+--------------------+-------+------+------------+------------+-----------+----+--------------------+------------+----------+----+-----+------+\n",
            "|03a386b6-7ab8-4ef...|    0|        43|       43|        1|[Churrasqueira, A...|      2|  null|       Usado| Apartamento|Residencial|   1|            Realengo|  Zona Oeste|       285|null|Venda| 22999|\n",
            "|1fe78d41-b8e0-4d2...|    0|        44|       44|        1|                  []|      2|     0|       Usado| Apartamento|Residencial|   0|               Irajá|  Zona Norte|       170|   0|Venda|110000|\n",
            "|1fa1c1e5-e98c-433...|    4|      null|       55|        1|                  []|      2|     0|       Usado| Apartamento|Residencial|   1|              Cosmos|  Zona Oeste|      null|null|Venda|115000|\n",
            "|a6ab01ae-3d40-40e...|    2|      null|       55|        1|                  []|      2|     0|       Usado| Apartamento|Residencial|   0|        Tomás Coelho|  Zona Norte|      null|null|Venda|115000|\n",
            "|1d8ff7a2-16bd-4e3...|    0|      null|       50|        1|                  []|      1|  null|       Usado| Apartamento|Residencial|   0|              Centro|Zona Central|      1300|2679|Venda|125000|\n",
            "|40a2cbde-946b-42d...|    2|        47|       47|        1|[Condomínio fecha...|      2|     0|       Usado| Apartamento|Residencial|   1|        Campo Grande|  Zona Oeste|       380|null|Venda|138000|\n",
            "|be269ddf-a4a3-4a7...|    0|     17089|       45|        1|[Churrasqueira, C...|      2|     0|       Usado| Apartamento|Residencial|   1|        Campo Grande|  Zona Oeste|       356|   0|Venda|140000|\n",
            "|4b7e3d59-34fd-4ba...|    3|        48|       48|        1|[Churrasqueira, P...|      2|  null|       Usado| Apartamento|Residencial|   1|        Campo Grande|  Zona Oeste|         0|   0|Venda|150000|\n",
            "|a1a0c2ac-4fa8-4b0...|    9|      null|       55|        1|[Churrasqueira, E...|      2|  null|       Usado| Apartamento|Residencial|   1|Freguesia (Jacare...|  Zona Oeste|       780| 660|Venda|160000|\n",
            "|390d2b88-e06d-47e...|    0|        70|       70|        2|   [Salão de festas]|      2|     0|       Usado| Apartamento|Residencial|   1|          Praça Seca|  Zona Oeste|    420000|null|Venda|159000|\n",
            "|07bb07c1-21cc-4da...|    2|        50|       48|        1|[Condomínio fecha...|      1|     0|       Usado| Apartamento|Residencial|   0|             Piedade|  Zona Norte|        10|  10|Venda|170000|\n",
            "|7d3a1bae-988c-44b...|    5|        40|       40|        1|[Playground, Chur...|      2|     0|       Usado| Apartamento|Residencial|   1|        Braz de Pina|  Zona Norte|       150| 120|Venda|189000|\n",
            "|47af17f0-1c81-474...|    0|        65|       65|        1|                  []|      2|     0|       Usado| Apartamento|Residencial|   1|            Campinho|  Zona Oeste|       432|null|Venda|185000|\n",
            "|a9bd1575-e9f2-43d...|    2|        50|       50|        1|[Condomínio fecha...|      1|     0|       Usado| Apartamento|Residencial|   1|           Madureira|  Zona Norte|       650|   1|Venda|185000|\n",
            "|cfca7253-3d02-4cd...|    5|        45|       45|        1|[Academia, Churra...|      2|     1|       Usado| Apartamento|Residencial|   0|             Taquara|  Zona Oeste|       150|  40|Venda|199000|\n",
            "|b571ae97-e3d8-4fb...|    0|        48|       48|        1|[Academia, Condom...|      2|  null|       Usado| Apartamento|Residencial|   0|          Bonsucesso|  Zona Norte|         0|   0|Venda|205933|\n",
            "|eb5fdc65-acae-45f...|    0|        44|       44|        1|[Academia, Condom...|      2|  null|       Usado| Apartamento|Residencial|   0|          Bonsucesso|  Zona Norte|         0|   0|Venda|206000|\n",
            "|77cd0388-e3ff-40c...|    2|        64|       64|        1|                  []|      2|     0|       Usado| Apartamento|Residencial|   0|      Jardim América|  Zona Norte|         0|   0|Venda|220000|\n",
            "|74a91f07-7387-4a8...|    0|        55|       55|        2|[Salão de festas,...|      1|     0|       Usado| Apartamento|Residencial|   1|        Engenho Novo|  Zona Norte|       600| 652|Venda|219130|\n",
            "|6aab1165-508d-455...|    3|        60|       60|        1|[Animais permitidos]|      3|     0|       Usado| Apartamento|Residencial|   1|           Cascadura|  Zona Norte|        98|   1|Venda|230000|\n",
            "+--------------------+-----+----------+---------+---------+--------------------+-------+------+------------+------------+-----------+----+--------------------+------------+----------+----+-----+------+\n",
            "only showing top 20 rows\n",
            "\n"
          ]
        }
      ]
    },
    {
      "cell_type": "markdown",
      "source": [
        "# Seleção de Freatures"
      ],
      "metadata": {
        "id": "Y8U7MozkqUaU"
      }
    },
    {
      "cell_type": "markdown",
      "source": [
        "Algumas colunas possuem apenas um único valor. Essas colunas estão dessa forma devido aos filtros que foram realizados na base de dados durante a semana 1."
      ],
      "metadata": {
        "id": "8ra0mOFxrtaP"
      }
    },
    {
      "cell_type": "code",
      "source": [
        "dados.printSchema()"
      ],
      "metadata": {
        "colab": {
          "base_uri": "https://localhost:8080/"
        },
        "id": "BAFRtojGqUJ3",
        "outputId": "371b848e-53ef-4843-c303-706ce806dd31"
      },
      "execution_count": 7,
      "outputs": [
        {
          "output_type": "stream",
          "name": "stdout",
          "text": [
            "root\n",
            " |-- id: string (nullable = true)\n",
            " |-- andar: long (nullable = true)\n",
            " |-- area_total: string (nullable = true)\n",
            " |-- area_util: string (nullable = true)\n",
            " |-- banheiros: long (nullable = true)\n",
            " |-- caracteristicas: array (nullable = true)\n",
            " |    |-- element: string (containsNull = true)\n",
            " |-- quartos: long (nullable = true)\n",
            " |-- suites: long (nullable = true)\n",
            " |-- tipo_anuncio: string (nullable = true)\n",
            " |-- tipo_unidade: string (nullable = true)\n",
            " |-- tipo_uso: string (nullable = true)\n",
            " |-- vaga: long (nullable = true)\n",
            " |-- bairro: string (nullable = true)\n",
            " |-- zona: string (nullable = true)\n",
            " |-- condominio: string (nullable = true)\n",
            " |-- iptu: string (nullable = true)\n",
            " |-- tipo: string (nullable = true)\n",
            " |-- valor: string (nullable = true)\n",
            "\n"
          ]
        }
      ]
    },
    {
      "cell_type": "code",
      "source": [
        "dados.select(\"tipo\").distinct().show(5)"
      ],
      "metadata": {
        "colab": {
          "base_uri": "https://localhost:8080/"
        },
        "id": "RD6ByhkXBTpx",
        "outputId": "39cd10f5-9428-428e-819f-80c6ccb26e9c"
      },
      "execution_count": 8,
      "outputs": [
        {
          "output_type": "stream",
          "name": "stdout",
          "text": [
            "+-----+\n",
            "| tipo|\n",
            "+-----+\n",
            "|Venda|\n",
            "+-----+\n",
            "\n"
          ]
        }
      ]
    },
    {
      "cell_type": "code",
      "source": [
        "dados.select(\"tipo_uso\").distinct().show(5)"
      ],
      "metadata": {
        "colab": {
          "base_uri": "https://localhost:8080/"
        },
        "id": "fnFyAhFmZx2x",
        "outputId": "9242f3d5-0c72-4d42-dcd2-f9499416e2c0"
      },
      "execution_count": 9,
      "outputs": [
        {
          "output_type": "stream",
          "name": "stdout",
          "text": [
            "+-----------+\n",
            "|   tipo_uso|\n",
            "+-----------+\n",
            "|Residencial|\n",
            "+-----------+\n",
            "\n"
          ]
        }
      ]
    },
    {
      "cell_type": "code",
      "source": [
        "dados.select(\"tipo_unidade\").distinct().show(5)"
      ],
      "metadata": {
        "colab": {
          "base_uri": "https://localhost:8080/"
        },
        "id": "xuuhxVRrsDU_",
        "outputId": "44fc43a2-a832-48b7-e355-4a79e7b897d2"
      },
      "execution_count": 10,
      "outputs": [
        {
          "output_type": "stream",
          "name": "stdout",
          "text": [
            "+------------+\n",
            "|tipo_unidade|\n",
            "+------------+\n",
            "| Apartamento|\n",
            "+------------+\n",
            "\n"
          ]
        }
      ]
    },
    {
      "cell_type": "code",
      "source": [
        "dados.select(\"tipo_anuncio\").distinct().show(5)"
      ],
      "metadata": {
        "colab": {
          "base_uri": "https://localhost:8080/"
        },
        "id": "Uz0wKmf9Ac7G",
        "outputId": "d530b296-4926-4429-a73b-0612487257a6"
      },
      "execution_count": 11,
      "outputs": [
        {
          "output_type": "stream",
          "name": "stdout",
          "text": [
            "+------------+\n",
            "|tipo_anuncio|\n",
            "+------------+\n",
            "|       Usado|\n",
            "+------------+\n",
            "\n"
          ]
        }
      ]
    },
    {
      "cell_type": "code",
      "source": [
        "dados.select(\"area_total\", \"area_util\").show()"
      ],
      "metadata": {
        "colab": {
          "base_uri": "https://localhost:8080/"
        },
        "id": "tBxcIps4AhfW",
        "outputId": "7501e878-028d-4896-b671-a715cee1c599"
      },
      "execution_count": 12,
      "outputs": [
        {
          "output_type": "stream",
          "name": "stdout",
          "text": [
            "+----------+---------+\n",
            "|area_total|area_util|\n",
            "+----------+---------+\n",
            "|        43|       43|\n",
            "|        44|       44|\n",
            "|      null|       55|\n",
            "|      null|       55|\n",
            "|      null|       50|\n",
            "|        47|       47|\n",
            "|     17089|       45|\n",
            "|        48|       48|\n",
            "|      null|       55|\n",
            "|        70|       70|\n",
            "|        50|       48|\n",
            "|        40|       40|\n",
            "|        65|       65|\n",
            "|        50|       50|\n",
            "|        45|       45|\n",
            "|        48|       48|\n",
            "|        44|       44|\n",
            "|        64|       64|\n",
            "|        55|       55|\n",
            "|        60|       60|\n",
            "+----------+---------+\n",
            "only showing top 20 rows\n",
            "\n"
          ]
        }
      ]
    },
    {
      "cell_type": "code",
      "source": [
        "from pyspark.sql import functions as f\n",
        "\n",
        "dados_nulos = dados\\\n",
        "        .select('area_util', 'area_total')\\\n",
        "        .na\\\n",
        "        .drop()\n",
        "\n",
        "quantidade_total = dados_nulos.count()\n",
        "quantidades_iguais = dados_nulos.filter(f.col('area_util') == f.col('area_total')).count()\n",
        "quantidades_diferentes = quantidade_total - quantidades_iguais"
      ],
      "metadata": {
        "id": "SzgrQHXeCshI"
      },
      "execution_count": 13,
      "outputs": []
    },
    {
      "cell_type": "code",
      "source": [
        "print(f'Quantidade total de dados: {quantidade_total}')\n",
        "print(f'Quantidade de dados iguais nas duas colunas: {quantidades_iguais}')\n",
        "print(f'Quantidades de dados diferentes nas duas colunas: {quantidades_diferentes}')"
      ],
      "metadata": {
        "colab": {
          "base_uri": "https://localhost:8080/"
        },
        "id": "1Pb6_xAoDzeA",
        "outputId": "4c3809a3-6929-4880-e409-a6a37534c046"
      },
      "execution_count": 14,
      "outputs": [
        {
          "output_type": "stream",
          "name": "stdout",
          "text": [
            "Quantidade total de dados: 57368\n",
            "Quantidade de dados iguais nas duas colunas: 55384\n",
            "Quantidades de dados diferentes nas duas colunas: 1984\n"
          ]
        }
      ]
    },
    {
      "cell_type": "code",
      "source": [
        "colunas = [\"area_util\", \"area_total\"]\n",
        "\n",
        "dados\\\n",
        "    .select([f.count(f.when(dados[c].isNull(), True)).alias(c) for c in colunas])\\\n",
        "    .show()"
      ],
      "metadata": {
        "colab": {
          "base_uri": "https://localhost:8080/"
        },
        "id": "JpDvEH9TMB_3",
        "outputId": "b5a9bf33-daaa-4580-ca79-db7a0216fd8a"
      },
      "execution_count": 15,
      "outputs": [
        {
          "output_type": "stream",
          "name": "stdout",
          "text": [
            "+---------+----------+\n",
            "|area_util|area_total|\n",
            "+---------+----------+\n",
            "|        0|      9194|\n",
            "+---------+----------+\n",
            "\n"
          ]
        }
      ]
    },
    {
      "cell_type": "code",
      "source": [
        "dados\\\n",
        "  .drop(\"area_total\", \"tipo_anuncio\", \"tipo_unidade\", \"tipo_uso\", \"tipo\")\\\n",
        "  .show()"
      ],
      "metadata": {
        "colab": {
          "base_uri": "https://localhost:8080/"
        },
        "id": "QVCYVbENM9xA",
        "outputId": "485fd2d7-0886-4fd7-de6c-b748bfcf81ea"
      },
      "execution_count": 16,
      "outputs": [
        {
          "output_type": "stream",
          "name": "stdout",
          "text": [
            "+--------------------+-----+---------+---------+--------------------+-------+------+----+--------------------+------------+----------+----+------+\n",
            "|                  id|andar|area_util|banheiros|     caracteristicas|quartos|suites|vaga|              bairro|        zona|condominio|iptu| valor|\n",
            "+--------------------+-----+---------+---------+--------------------+-------+------+----+--------------------+------------+----------+----+------+\n",
            "|03a386b6-7ab8-4ef...|    0|       43|        1|[Churrasqueira, A...|      2|  null|   1|            Realengo|  Zona Oeste|       285|null| 22999|\n",
            "|1fe78d41-b8e0-4d2...|    0|       44|        1|                  []|      2|     0|   0|               Irajá|  Zona Norte|       170|   0|110000|\n",
            "|1fa1c1e5-e98c-433...|    4|       55|        1|                  []|      2|     0|   1|              Cosmos|  Zona Oeste|      null|null|115000|\n",
            "|a6ab01ae-3d40-40e...|    2|       55|        1|                  []|      2|     0|   0|        Tomás Coelho|  Zona Norte|      null|null|115000|\n",
            "|1d8ff7a2-16bd-4e3...|    0|       50|        1|                  []|      1|  null|   0|              Centro|Zona Central|      1300|2679|125000|\n",
            "|40a2cbde-946b-42d...|    2|       47|        1|[Condomínio fecha...|      2|     0|   1|        Campo Grande|  Zona Oeste|       380|null|138000|\n",
            "|be269ddf-a4a3-4a7...|    0|       45|        1|[Churrasqueira, C...|      2|     0|   1|        Campo Grande|  Zona Oeste|       356|   0|140000|\n",
            "|4b7e3d59-34fd-4ba...|    3|       48|        1|[Churrasqueira, P...|      2|  null|   1|        Campo Grande|  Zona Oeste|         0|   0|150000|\n",
            "|a1a0c2ac-4fa8-4b0...|    9|       55|        1|[Churrasqueira, E...|      2|  null|   1|Freguesia (Jacare...|  Zona Oeste|       780| 660|160000|\n",
            "|390d2b88-e06d-47e...|    0|       70|        2|   [Salão de festas]|      2|     0|   1|          Praça Seca|  Zona Oeste|    420000|null|159000|\n",
            "|07bb07c1-21cc-4da...|    2|       48|        1|[Condomínio fecha...|      1|     0|   0|             Piedade|  Zona Norte|        10|  10|170000|\n",
            "|7d3a1bae-988c-44b...|    5|       40|        1|[Playground, Chur...|      2|     0|   1|        Braz de Pina|  Zona Norte|       150| 120|189000|\n",
            "|47af17f0-1c81-474...|    0|       65|        1|                  []|      2|     0|   1|            Campinho|  Zona Oeste|       432|null|185000|\n",
            "|a9bd1575-e9f2-43d...|    2|       50|        1|[Condomínio fecha...|      1|     0|   1|           Madureira|  Zona Norte|       650|   1|185000|\n",
            "|cfca7253-3d02-4cd...|    5|       45|        1|[Academia, Churra...|      2|     1|   0|             Taquara|  Zona Oeste|       150|  40|199000|\n",
            "|b571ae97-e3d8-4fb...|    0|       48|        1|[Academia, Condom...|      2|  null|   0|          Bonsucesso|  Zona Norte|         0|   0|205933|\n",
            "|eb5fdc65-acae-45f...|    0|       44|        1|[Academia, Condom...|      2|  null|   0|          Bonsucesso|  Zona Norte|         0|   0|206000|\n",
            "|77cd0388-e3ff-40c...|    2|       64|        1|                  []|      2|     0|   0|      Jardim América|  Zona Norte|         0|   0|220000|\n",
            "|74a91f07-7387-4a8...|    0|       55|        2|[Salão de festas,...|      1|     0|   1|        Engenho Novo|  Zona Norte|       600| 652|219130|\n",
            "|6aab1165-508d-455...|    3|       60|        1|[Animais permitidos]|      3|     0|   1|           Cascadura|  Zona Norte|        98|   1|230000|\n",
            "+--------------------+-----+---------+---------+--------------------+-------+------+----+--------------------+------------+----------+----+------+\n",
            "only showing top 20 rows\n",
            "\n"
          ]
        }
      ]
    },
    {
      "cell_type": "code",
      "source": [
        "dataset = dados\\\n",
        "              .drop(\"area_total\", \"tipo_anuncio\", \"tipo_unidade\", \"tipo_uso\", \"tipo\")\n",
        "dataset.show()"
      ],
      "metadata": {
        "colab": {
          "base_uri": "https://localhost:8080/"
        },
        "id": "gB3cyRntNefF",
        "outputId": "ae5c08c2-5393-450d-e68f-29729e4b16bc"
      },
      "execution_count": 17,
      "outputs": [
        {
          "output_type": "stream",
          "name": "stdout",
          "text": [
            "+--------------------+-----+---------+---------+--------------------+-------+------+----+--------------------+------------+----------+----+------+\n",
            "|                  id|andar|area_util|banheiros|     caracteristicas|quartos|suites|vaga|              bairro|        zona|condominio|iptu| valor|\n",
            "+--------------------+-----+---------+---------+--------------------+-------+------+----+--------------------+------------+----------+----+------+\n",
            "|03a386b6-7ab8-4ef...|    0|       43|        1|[Churrasqueira, A...|      2|  null|   1|            Realengo|  Zona Oeste|       285|null| 22999|\n",
            "|1fe78d41-b8e0-4d2...|    0|       44|        1|                  []|      2|     0|   0|               Irajá|  Zona Norte|       170|   0|110000|\n",
            "|1fa1c1e5-e98c-433...|    4|       55|        1|                  []|      2|     0|   1|              Cosmos|  Zona Oeste|      null|null|115000|\n",
            "|a6ab01ae-3d40-40e...|    2|       55|        1|                  []|      2|     0|   0|        Tomás Coelho|  Zona Norte|      null|null|115000|\n",
            "|1d8ff7a2-16bd-4e3...|    0|       50|        1|                  []|      1|  null|   0|              Centro|Zona Central|      1300|2679|125000|\n",
            "|40a2cbde-946b-42d...|    2|       47|        1|[Condomínio fecha...|      2|     0|   1|        Campo Grande|  Zona Oeste|       380|null|138000|\n",
            "|be269ddf-a4a3-4a7...|    0|       45|        1|[Churrasqueira, C...|      2|     0|   1|        Campo Grande|  Zona Oeste|       356|   0|140000|\n",
            "|4b7e3d59-34fd-4ba...|    3|       48|        1|[Churrasqueira, P...|      2|  null|   1|        Campo Grande|  Zona Oeste|         0|   0|150000|\n",
            "|a1a0c2ac-4fa8-4b0...|    9|       55|        1|[Churrasqueira, E...|      2|  null|   1|Freguesia (Jacare...|  Zona Oeste|       780| 660|160000|\n",
            "|390d2b88-e06d-47e...|    0|       70|        2|   [Salão de festas]|      2|     0|   1|          Praça Seca|  Zona Oeste|    420000|null|159000|\n",
            "|07bb07c1-21cc-4da...|    2|       48|        1|[Condomínio fecha...|      1|     0|   0|             Piedade|  Zona Norte|        10|  10|170000|\n",
            "|7d3a1bae-988c-44b...|    5|       40|        1|[Playground, Chur...|      2|     0|   1|        Braz de Pina|  Zona Norte|       150| 120|189000|\n",
            "|47af17f0-1c81-474...|    0|       65|        1|                  []|      2|     0|   1|            Campinho|  Zona Oeste|       432|null|185000|\n",
            "|a9bd1575-e9f2-43d...|    2|       50|        1|[Condomínio fecha...|      1|     0|   1|           Madureira|  Zona Norte|       650|   1|185000|\n",
            "|cfca7253-3d02-4cd...|    5|       45|        1|[Academia, Churra...|      2|     1|   0|             Taquara|  Zona Oeste|       150|  40|199000|\n",
            "|b571ae97-e3d8-4fb...|    0|       48|        1|[Academia, Condom...|      2|  null|   0|          Bonsucesso|  Zona Norte|         0|   0|205933|\n",
            "|eb5fdc65-acae-45f...|    0|       44|        1|[Academia, Condom...|      2|  null|   0|          Bonsucesso|  Zona Norte|         0|   0|206000|\n",
            "|77cd0388-e3ff-40c...|    2|       64|        1|                  []|      2|     0|   0|      Jardim América|  Zona Norte|         0|   0|220000|\n",
            "|74a91f07-7387-4a8...|    0|       55|        2|[Salão de festas,...|      1|     0|   1|        Engenho Novo|  Zona Norte|       600| 652|219130|\n",
            "|6aab1165-508d-455...|    3|       60|        1|[Animais permitidos]|      3|     0|   1|           Cascadura|  Zona Norte|        98|   1|230000|\n",
            "+--------------------+-----+---------+---------+--------------------+-------+------+----+--------------------+------------+----------+----+------+\n",
            "only showing top 20 rows\n",
            "\n"
          ]
        }
      ]
    },
    {
      "cell_type": "markdown",
      "source": [
        "# Convertendo os tipos das colunas"
      ],
      "metadata": {
        "id": "diNU_oGXOrdD"
      }
    },
    {
      "cell_type": "code",
      "source": [
        "dataset.printSchema()"
      ],
      "metadata": {
        "colab": {
          "base_uri": "https://localhost:8080/"
        },
        "id": "BAuL7u2_PNdO",
        "outputId": "15be2c6d-d6df-4ce5-a94d-d4717de44a05"
      },
      "execution_count": 18,
      "outputs": [
        {
          "output_type": "stream",
          "name": "stdout",
          "text": [
            "root\n",
            " |-- id: string (nullable = true)\n",
            " |-- andar: long (nullable = true)\n",
            " |-- area_util: string (nullable = true)\n",
            " |-- banheiros: long (nullable = true)\n",
            " |-- caracteristicas: array (nullable = true)\n",
            " |    |-- element: string (containsNull = true)\n",
            " |-- quartos: long (nullable = true)\n",
            " |-- suites: long (nullable = true)\n",
            " |-- vaga: long (nullable = true)\n",
            " |-- bairro: string (nullable = true)\n",
            " |-- zona: string (nullable = true)\n",
            " |-- condominio: string (nullable = true)\n",
            " |-- iptu: string (nullable = true)\n",
            " |-- valor: string (nullable = true)\n",
            "\n"
          ]
        }
      ]
    },
    {
      "cell_type": "markdown",
      "source": [
        "## Colunas numéricas para inteiro (\"andar\", \"banheiros\", \"suites\" e \"quartos\")"
      ],
      "metadata": {
        "id": "Fi56bQdnOza_"
      }
    },
    {
      "cell_type": "code",
      "source": [
        "from pyspark.sql.types import IntegerType"
      ],
      "metadata": {
        "id": "8C-JU8pRQKZ1"
      },
      "execution_count": 19,
      "outputs": []
    },
    {
      "cell_type": "code",
      "source": [
        "dataset\\\n",
        "        .withColumn(\"andar\", dataset[\"andar\"].cast(IntegerType()))\\\n",
        "        .withColumn(\"banheiros\", dataset[\"banheiros\"].cast(IntegerType()))\\\n",
        "        .withColumn(\"suites\", dataset[\"suites\"].cast(IntegerType()))\\\n",
        "        .withColumn(\"quartos\", dataset[\"quartos\"].cast(IntegerType()))\\\n",
        "        .printSchema()"
      ],
      "metadata": {
        "colab": {
          "base_uri": "https://localhost:8080/"
        },
        "id": "7t8TmpaxN31I",
        "outputId": "ef6a330e-4561-41a9-ea4a-878de3dd479d"
      },
      "execution_count": 20,
      "outputs": [
        {
          "output_type": "stream",
          "name": "stdout",
          "text": [
            "root\n",
            " |-- id: string (nullable = true)\n",
            " |-- andar: integer (nullable = true)\n",
            " |-- area_util: string (nullable = true)\n",
            " |-- banheiros: integer (nullable = true)\n",
            " |-- caracteristicas: array (nullable = true)\n",
            " |    |-- element: string (containsNull = true)\n",
            " |-- quartos: integer (nullable = true)\n",
            " |-- suites: integer (nullable = true)\n",
            " |-- vaga: long (nullable = true)\n",
            " |-- bairro: string (nullable = true)\n",
            " |-- zona: string (nullable = true)\n",
            " |-- condominio: string (nullable = true)\n",
            " |-- iptu: string (nullable = true)\n",
            " |-- valor: string (nullable = true)\n",
            "\n"
          ]
        }
      ]
    },
    {
      "cell_type": "code",
      "source": [
        "dataset = dataset\\\n",
        "        .withColumn(\"andar\", dataset[\"andar\"].cast(IntegerType()))\\\n",
        "        .withColumn(\"banheiros\", dataset[\"banheiros\"].cast(IntegerType()))\\\n",
        "        .withColumn(\"suites\", dataset[\"suites\"].cast(IntegerType()))\\\n",
        "        .withColumn(\"quartos\", dataset[\"quartos\"].cast(IntegerType()))"
      ],
      "metadata": {
        "id": "pMBkS-DKSIH6"
      },
      "execution_count": 21,
      "outputs": []
    },
    {
      "cell_type": "markdown",
      "source": [
        "# Colunas Strings para DoubleType (\"area_util\", \"condominio\", \"iptu\" e \"valor\")"
      ],
      "metadata": {
        "id": "Gt4hVKX7kmKE"
      }
    },
    {
      "cell_type": "code",
      "source": [
        "from pyspark.sql.types import DoubleType"
      ],
      "metadata": {
        "id": "g1Uh5Xq0kdd4"
      },
      "execution_count": 22,
      "outputs": []
    },
    {
      "cell_type": "code",
      "source": [
        "dataset\\\n",
        "      .withColumn(\"area_util\", dataset[\"area_util\"].cast(DoubleType()))\\\n",
        "      .withColumn(\"condominio\", dataset[\"condominio\"].cast(DoubleType()))\\\n",
        "      .withColumn(\"iptu\", dataset[\"iptu\"].cast(DoubleType()))\\\n",
        "      .withColumn(\"valor\", dataset[\"valor\"].cast(DoubleType()))\\\n",
        "      .printSchema()"
      ],
      "metadata": {
        "colab": {
          "base_uri": "https://localhost:8080/"
        },
        "id": "iTSS2s1yk3Ry",
        "outputId": "5d37c6f1-6cbf-4970-fb75-180182080135"
      },
      "execution_count": 23,
      "outputs": [
        {
          "output_type": "stream",
          "name": "stdout",
          "text": [
            "root\n",
            " |-- id: string (nullable = true)\n",
            " |-- andar: integer (nullable = true)\n",
            " |-- area_util: double (nullable = true)\n",
            " |-- banheiros: integer (nullable = true)\n",
            " |-- caracteristicas: array (nullable = true)\n",
            " |    |-- element: string (containsNull = true)\n",
            " |-- quartos: integer (nullable = true)\n",
            " |-- suites: integer (nullable = true)\n",
            " |-- vaga: long (nullable = true)\n",
            " |-- bairro: string (nullable = true)\n",
            " |-- zona: string (nullable = true)\n",
            " |-- condominio: double (nullable = true)\n",
            " |-- iptu: double (nullable = true)\n",
            " |-- valor: double (nullable = true)\n",
            "\n"
          ]
        }
      ]
    },
    {
      "cell_type": "code",
      "source": [
        "dataset = dataset\\\n",
        "      .withColumn(\"area_util\", dataset[\"area_util\"].cast(DoubleType()))\\\n",
        "      .withColumn(\"condominio\", dataset[\"condominio\"].cast(DoubleType()))\\\n",
        "      .withColumn(\"iptu\", dataset[\"iptu\"].cast(DoubleType()))\\\n",
        "      .withColumn(\"valor\", dataset[\"valor\"].cast(DoubleType()))"
      ],
      "metadata": {
        "id": "i3AsHKx6li0a"
      },
      "execution_count": 24,
      "outputs": []
    },
    {
      "cell_type": "code",
      "source": [
        "dataset.printSchema()"
      ],
      "metadata": {
        "colab": {
          "base_uri": "https://localhost:8080/"
        },
        "id": "yshq0ZF6mtb9",
        "outputId": "f82d026f-85f3-4c2a-a991-bd55192630d5"
      },
      "execution_count": 25,
      "outputs": [
        {
          "output_type": "stream",
          "name": "stdout",
          "text": [
            "root\n",
            " |-- id: string (nullable = true)\n",
            " |-- andar: integer (nullable = true)\n",
            " |-- area_util: double (nullable = true)\n",
            " |-- banheiros: integer (nullable = true)\n",
            " |-- caracteristicas: array (nullable = true)\n",
            " |    |-- element: string (containsNull = true)\n",
            " |-- quartos: integer (nullable = true)\n",
            " |-- suites: integer (nullable = true)\n",
            " |-- vaga: long (nullable = true)\n",
            " |-- bairro: string (nullable = true)\n",
            " |-- zona: string (nullable = true)\n",
            " |-- condominio: double (nullable = true)\n",
            " |-- iptu: double (nullable = true)\n",
            " |-- valor: double (nullable = true)\n",
            "\n"
          ]
        }
      ]
    },
    {
      "cell_type": "markdown",
      "source": [
        "# Tratamento da coluna \"caracteristicas\"\n"
      ],
      "metadata": {
        "id": "mXaUpvZWnRxY"
      }
    },
    {
      "cell_type": "code",
      "source": [
        "dataset.select(f.explode(\"caracteristicas\")).distinct().show()"
      ],
      "metadata": {
        "colab": {
          "base_uri": "https://localhost:8080/"
        },
        "id": "UVyJlY9Hmv9T",
        "outputId": "a9c5d750-fa69-4d10-c7e9-5e35628d2657"
      },
      "execution_count": 26,
      "outputs": [
        {
          "output_type": "stream",
          "name": "stdout",
          "text": [
            "+------------------+\n",
            "|               col|\n",
            "+------------------+\n",
            "|Condomínio fechado|\n",
            "|        Playground|\n",
            "| Portão eletrônico|\n",
            "|           Piscina|\n",
            "|Animais permitidos|\n",
            "|      Portaria 24h|\n",
            "|          Elevador|\n",
            "|          Academia|\n",
            "|   Salão de festas|\n",
            "|     Churrasqueira|\n",
            "+------------------+\n",
            "\n"
          ]
        }
      ]
    },
    {
      "cell_type": "code",
      "source": [
        "dataset.show()"
      ],
      "metadata": {
        "colab": {
          "base_uri": "https://localhost:8080/"
        },
        "id": "MzggzmrOwAuE",
        "outputId": "3a0dcbed-cf58-4d7b-b7df-17af337c406e"
      },
      "execution_count": 27,
      "outputs": [
        {
          "output_type": "stream",
          "name": "stdout",
          "text": [
            "+--------------------+-----+---------+---------+--------------------+-------+------+----+--------------------+------------+----------+------+--------+\n",
            "|                  id|andar|area_util|banheiros|     caracteristicas|quartos|suites|vaga|              bairro|        zona|condominio|  iptu|   valor|\n",
            "+--------------------+-----+---------+---------+--------------------+-------+------+----+--------------------+------------+----------+------+--------+\n",
            "|03a386b6-7ab8-4ef...|    0|     43.0|        1|[Churrasqueira, A...|      2|  null|   1|            Realengo|  Zona Oeste|     285.0|  null| 22999.0|\n",
            "|1fe78d41-b8e0-4d2...|    0|     44.0|        1|                  []|      2|     0|   0|               Irajá|  Zona Norte|     170.0|   0.0|110000.0|\n",
            "|1fa1c1e5-e98c-433...|    4|     55.0|        1|                  []|      2|     0|   1|              Cosmos|  Zona Oeste|      null|  null|115000.0|\n",
            "|a6ab01ae-3d40-40e...|    2|     55.0|        1|                  []|      2|     0|   0|        Tomás Coelho|  Zona Norte|      null|  null|115000.0|\n",
            "|1d8ff7a2-16bd-4e3...|    0|     50.0|        1|                  []|      1|  null|   0|              Centro|Zona Central|    1300.0|2679.0|125000.0|\n",
            "|40a2cbde-946b-42d...|    2|     47.0|        1|[Condomínio fecha...|      2|     0|   1|        Campo Grande|  Zona Oeste|     380.0|  null|138000.0|\n",
            "|be269ddf-a4a3-4a7...|    0|     45.0|        1|[Churrasqueira, C...|      2|     0|   1|        Campo Grande|  Zona Oeste|     356.0|   0.0|140000.0|\n",
            "|4b7e3d59-34fd-4ba...|    3|     48.0|        1|[Churrasqueira, P...|      2|  null|   1|        Campo Grande|  Zona Oeste|       0.0|   0.0|150000.0|\n",
            "|a1a0c2ac-4fa8-4b0...|    9|     55.0|        1|[Churrasqueira, E...|      2|  null|   1|Freguesia (Jacare...|  Zona Oeste|     780.0| 660.0|160000.0|\n",
            "|390d2b88-e06d-47e...|    0|     70.0|        2|   [Salão de festas]|      2|     0|   1|          Praça Seca|  Zona Oeste|  420000.0|  null|159000.0|\n",
            "|07bb07c1-21cc-4da...|    2|     48.0|        1|[Condomínio fecha...|      1|     0|   0|             Piedade|  Zona Norte|      10.0|  10.0|170000.0|\n",
            "|7d3a1bae-988c-44b...|    5|     40.0|        1|[Playground, Chur...|      2|     0|   1|        Braz de Pina|  Zona Norte|     150.0| 120.0|189000.0|\n",
            "|47af17f0-1c81-474...|    0|     65.0|        1|                  []|      2|     0|   1|            Campinho|  Zona Oeste|     432.0|  null|185000.0|\n",
            "|a9bd1575-e9f2-43d...|    2|     50.0|        1|[Condomínio fecha...|      1|     0|   1|           Madureira|  Zona Norte|     650.0|   1.0|185000.0|\n",
            "|cfca7253-3d02-4cd...|    5|     45.0|        1|[Academia, Churra...|      2|     1|   0|             Taquara|  Zona Oeste|     150.0|  40.0|199000.0|\n",
            "|b571ae97-e3d8-4fb...|    0|     48.0|        1|[Academia, Condom...|      2|  null|   0|          Bonsucesso|  Zona Norte|       0.0|   0.0|205933.0|\n",
            "|eb5fdc65-acae-45f...|    0|     44.0|        1|[Academia, Condom...|      2|  null|   0|          Bonsucesso|  Zona Norte|       0.0|   0.0|206000.0|\n",
            "|77cd0388-e3ff-40c...|    2|     64.0|        1|                  []|      2|     0|   0|      Jardim América|  Zona Norte|       0.0|   0.0|220000.0|\n",
            "|74a91f07-7387-4a8...|    0|     55.0|        2|[Salão de festas,...|      1|     0|   1|        Engenho Novo|  Zona Norte|     600.0| 652.0|219130.0|\n",
            "|6aab1165-508d-455...|    3|     60.0|        1|[Animais permitidos]|      3|     0|   1|           Cascadura|  Zona Norte|      98.0|   1.0|230000.0|\n",
            "+--------------------+-----+---------+---------+--------------------+-------+------+----+--------------------+------------+----------+------+--------+\n",
            "only showing top 20 rows\n",
            "\n"
          ]
        }
      ]
    },
    {
      "cell_type": "code",
      "source": [
        "dataset = dataset.withColumn('caracteristicas', f.when((f.size(f.col('caracteristicas')) == 0), f.lit(None)).otherwise(f.col('caracteristicas')))\n",
        "dataset.show()"
      ],
      "metadata": {
        "colab": {
          "base_uri": "https://localhost:8080/"
        },
        "id": "SvCQT-dKw9_p",
        "outputId": "c3676e1d-7ca0-4991-ee53-619837661e28"
      },
      "execution_count": 28,
      "outputs": [
        {
          "output_type": "stream",
          "name": "stdout",
          "text": [
            "+--------------------+-----+---------+---------+--------------------+-------+------+----+--------------------+------------+----------+------+--------+\n",
            "|                  id|andar|area_util|banheiros|     caracteristicas|quartos|suites|vaga|              bairro|        zona|condominio|  iptu|   valor|\n",
            "+--------------------+-----+---------+---------+--------------------+-------+------+----+--------------------+------------+----------+------+--------+\n",
            "|03a386b6-7ab8-4ef...|    0|     43.0|        1|[Churrasqueira, A...|      2|  null|   1|            Realengo|  Zona Oeste|     285.0|  null| 22999.0|\n",
            "|1fe78d41-b8e0-4d2...|    0|     44.0|        1|                null|      2|     0|   0|               Irajá|  Zona Norte|     170.0|   0.0|110000.0|\n",
            "|1fa1c1e5-e98c-433...|    4|     55.0|        1|                null|      2|     0|   1|              Cosmos|  Zona Oeste|      null|  null|115000.0|\n",
            "|a6ab01ae-3d40-40e...|    2|     55.0|        1|                null|      2|     0|   0|        Tomás Coelho|  Zona Norte|      null|  null|115000.0|\n",
            "|1d8ff7a2-16bd-4e3...|    0|     50.0|        1|                null|      1|  null|   0|              Centro|Zona Central|    1300.0|2679.0|125000.0|\n",
            "|40a2cbde-946b-42d...|    2|     47.0|        1|[Condomínio fecha...|      2|     0|   1|        Campo Grande|  Zona Oeste|     380.0|  null|138000.0|\n",
            "|be269ddf-a4a3-4a7...|    0|     45.0|        1|[Churrasqueira, C...|      2|     0|   1|        Campo Grande|  Zona Oeste|     356.0|   0.0|140000.0|\n",
            "|4b7e3d59-34fd-4ba...|    3|     48.0|        1|[Churrasqueira, P...|      2|  null|   1|        Campo Grande|  Zona Oeste|       0.0|   0.0|150000.0|\n",
            "|a1a0c2ac-4fa8-4b0...|    9|     55.0|        1|[Churrasqueira, E...|      2|  null|   1|Freguesia (Jacare...|  Zona Oeste|     780.0| 660.0|160000.0|\n",
            "|390d2b88-e06d-47e...|    0|     70.0|        2|   [Salão de festas]|      2|     0|   1|          Praça Seca|  Zona Oeste|  420000.0|  null|159000.0|\n",
            "|07bb07c1-21cc-4da...|    2|     48.0|        1|[Condomínio fecha...|      1|     0|   0|             Piedade|  Zona Norte|      10.0|  10.0|170000.0|\n",
            "|7d3a1bae-988c-44b...|    5|     40.0|        1|[Playground, Chur...|      2|     0|   1|        Braz de Pina|  Zona Norte|     150.0| 120.0|189000.0|\n",
            "|47af17f0-1c81-474...|    0|     65.0|        1|                null|      2|     0|   1|            Campinho|  Zona Oeste|     432.0|  null|185000.0|\n",
            "|a9bd1575-e9f2-43d...|    2|     50.0|        1|[Condomínio fecha...|      1|     0|   1|           Madureira|  Zona Norte|     650.0|   1.0|185000.0|\n",
            "|cfca7253-3d02-4cd...|    5|     45.0|        1|[Academia, Churra...|      2|     1|   0|             Taquara|  Zona Oeste|     150.0|  40.0|199000.0|\n",
            "|b571ae97-e3d8-4fb...|    0|     48.0|        1|[Academia, Condom...|      2|  null|   0|          Bonsucesso|  Zona Norte|       0.0|   0.0|205933.0|\n",
            "|eb5fdc65-acae-45f...|    0|     44.0|        1|[Academia, Condom...|      2|  null|   0|          Bonsucesso|  Zona Norte|       0.0|   0.0|206000.0|\n",
            "|77cd0388-e3ff-40c...|    2|     64.0|        1|                null|      2|     0|   0|      Jardim América|  Zona Norte|       0.0|   0.0|220000.0|\n",
            "|74a91f07-7387-4a8...|    0|     55.0|        2|[Salão de festas,...|      1|     0|   1|        Engenho Novo|  Zona Norte|     600.0| 652.0|219130.0|\n",
            "|6aab1165-508d-455...|    3|     60.0|        1|[Animais permitidos]|      3|     0|   1|           Cascadura|  Zona Norte|      98.0|   1.0|230000.0|\n",
            "+--------------------+-----+---------+---------+--------------------+-------+------+----+--------------------+------------+----------+------+--------+\n",
            "only showing top 20 rows\n",
            "\n"
          ]
        }
      ]
    },
    {
      "cell_type": "markdown",
      "source": [
        "# Tratando dados faltantes\n"
      ],
      "metadata": {
        "id": "2xg1cBl_zNOf"
      }
    },
    {
      "cell_type": "code",
      "source": [
        "dataset.printSchema()"
      ],
      "metadata": {
        "colab": {
          "base_uri": "https://localhost:8080/"
        },
        "id": "oybxe1LZyNX3",
        "outputId": "b5374b97-3cf1-49b8-bb53-678f716ec12d"
      },
      "execution_count": 29,
      "outputs": [
        {
          "output_type": "stream",
          "name": "stdout",
          "text": [
            "root\n",
            " |-- id: string (nullable = true)\n",
            " |-- andar: integer (nullable = true)\n",
            " |-- area_util: double (nullable = true)\n",
            " |-- banheiros: integer (nullable = true)\n",
            " |-- caracteristicas: array (nullable = true)\n",
            " |    |-- element: string (containsNull = true)\n",
            " |-- quartos: integer (nullable = true)\n",
            " |-- suites: integer (nullable = true)\n",
            " |-- vaga: long (nullable = true)\n",
            " |-- bairro: string (nullable = true)\n",
            " |-- zona: string (nullable = true)\n",
            " |-- condominio: double (nullable = true)\n",
            " |-- iptu: double (nullable = true)\n",
            " |-- valor: double (nullable = true)\n",
            "\n"
          ]
        }
      ]
    },
    {
      "cell_type": "code",
      "source": [
        "dataset\\\n",
        "      .select([f.count(f.when(dataset[c].isNull(), True)).alias(c) for c in dataset.columns])\\\n",
        "      .show()"
      ],
      "metadata": {
        "colab": {
          "base_uri": "https://localhost:8080/"
        },
        "id": "zndbCN-ezffA",
        "outputId": "88f475db-b063-45f9-8e65-27b0890edbb5"
      },
      "execution_count": 30,
      "outputs": [
        {
          "output_type": "stream",
          "name": "stdout",
          "text": [
            "+---+-----+---------+---------+---------------+-------+------+----+------+----+----------+----+-----+\n",
            "| id|andar|area_util|banheiros|caracteristicas|quartos|suites|vaga|bairro|zona|condominio|iptu|valor|\n",
            "+---+-----+---------+---------+---------------+-------+------+----+------+----+----------+----+-----+\n",
            "|  0|    0|        0|        0|          12736|      0|  5554|3017|     0|   0|      2371|7199|    0|\n",
            "+---+-----+---------+---------+---------------+-------+------+----+------+----+----------+----+-----+\n",
            "\n"
          ]
        }
      ]
    },
    {
      "cell_type": "code",
      "source": [
        "'''\n",
        "dataset\\\n",
        "    .select([f.count(f.when(f.isnan(c) | f.isnull(c), True)).alias(c) for c in dataset.columns if c != 'caracteristicas' ])\\\n",
        "    .show()\n",
        "'''"
      ],
      "metadata": {
        "colab": {
          "base_uri": "https://localhost:8080/",
          "height": 1000
        },
        "id": "NsEWAYa-14ej",
        "outputId": "08fb131b-70e0-42b2-eb0f-4d919b823920"
      },
      "execution_count": 31,
      "outputs": [
        {
          "output_type": "execute_result",
          "data": {
            "text/plain": [
              "\"\\ndataset    .select([f.count(f.when(f.isnan(c) | f.isnull(c), True)).alias(c) for c in dataset.columns if c != 'caracteristicas' ])    .show()\\n\""
            ],
            "application/vnd.google.colaboratory.intrinsic+json": {
              "type": "string"
            }
          },
          "metadata": {},
          "execution_count": 31
        }
      ]
    },
    {
      "cell_type": "code",
      "source": [
        "dataset\\\n",
        "    .select('*')\\\n",
        "    .na\\\n",
        "    .fill(0)\\\n",
        "    .show()"
      ],
      "metadata": {
        "colab": {
          "base_uri": "https://localhost:8080/"
        },
        "id": "MyNgkJrT2-H1",
        "outputId": "7a798648-31c1-4ccf-ed94-5054f7c9c901"
      },
      "execution_count": 32,
      "outputs": [
        {
          "output_type": "stream",
          "name": "stdout",
          "text": [
            "+--------------------+-----+---------+---------+--------------------+-------+------+----+--------------------+------------+----------+------+--------+\n",
            "|                  id|andar|area_util|banheiros|     caracteristicas|quartos|suites|vaga|              bairro|        zona|condominio|  iptu|   valor|\n",
            "+--------------------+-----+---------+---------+--------------------+-------+------+----+--------------------+------------+----------+------+--------+\n",
            "|03a386b6-7ab8-4ef...|    0|     43.0|        1|[Churrasqueira, A...|      2|     0|   1|            Realengo|  Zona Oeste|     285.0|   0.0| 22999.0|\n",
            "|1fe78d41-b8e0-4d2...|    0|     44.0|        1|                null|      2|     0|   0|               Irajá|  Zona Norte|     170.0|   0.0|110000.0|\n",
            "|1fa1c1e5-e98c-433...|    4|     55.0|        1|                null|      2|     0|   1|              Cosmos|  Zona Oeste|       0.0|   0.0|115000.0|\n",
            "|a6ab01ae-3d40-40e...|    2|     55.0|        1|                null|      2|     0|   0|        Tomás Coelho|  Zona Norte|       0.0|   0.0|115000.0|\n",
            "|1d8ff7a2-16bd-4e3...|    0|     50.0|        1|                null|      1|     0|   0|              Centro|Zona Central|    1300.0|2679.0|125000.0|\n",
            "|40a2cbde-946b-42d...|    2|     47.0|        1|[Condomínio fecha...|      2|     0|   1|        Campo Grande|  Zona Oeste|     380.0|   0.0|138000.0|\n",
            "|be269ddf-a4a3-4a7...|    0|     45.0|        1|[Churrasqueira, C...|      2|     0|   1|        Campo Grande|  Zona Oeste|     356.0|   0.0|140000.0|\n",
            "|4b7e3d59-34fd-4ba...|    3|     48.0|        1|[Churrasqueira, P...|      2|     0|   1|        Campo Grande|  Zona Oeste|       0.0|   0.0|150000.0|\n",
            "|a1a0c2ac-4fa8-4b0...|    9|     55.0|        1|[Churrasqueira, E...|      2|     0|   1|Freguesia (Jacare...|  Zona Oeste|     780.0| 660.0|160000.0|\n",
            "|390d2b88-e06d-47e...|    0|     70.0|        2|   [Salão de festas]|      2|     0|   1|          Praça Seca|  Zona Oeste|  420000.0|   0.0|159000.0|\n",
            "|07bb07c1-21cc-4da...|    2|     48.0|        1|[Condomínio fecha...|      1|     0|   0|             Piedade|  Zona Norte|      10.0|  10.0|170000.0|\n",
            "|7d3a1bae-988c-44b...|    5|     40.0|        1|[Playground, Chur...|      2|     0|   1|        Braz de Pina|  Zona Norte|     150.0| 120.0|189000.0|\n",
            "|47af17f0-1c81-474...|    0|     65.0|        1|                null|      2|     0|   1|            Campinho|  Zona Oeste|     432.0|   0.0|185000.0|\n",
            "|a9bd1575-e9f2-43d...|    2|     50.0|        1|[Condomínio fecha...|      1|     0|   1|           Madureira|  Zona Norte|     650.0|   1.0|185000.0|\n",
            "|cfca7253-3d02-4cd...|    5|     45.0|        1|[Academia, Churra...|      2|     1|   0|             Taquara|  Zona Oeste|     150.0|  40.0|199000.0|\n",
            "|b571ae97-e3d8-4fb...|    0|     48.0|        1|[Academia, Condom...|      2|     0|   0|          Bonsucesso|  Zona Norte|       0.0|   0.0|205933.0|\n",
            "|eb5fdc65-acae-45f...|    0|     44.0|        1|[Academia, Condom...|      2|     0|   0|          Bonsucesso|  Zona Norte|       0.0|   0.0|206000.0|\n",
            "|77cd0388-e3ff-40c...|    2|     64.0|        1|                null|      2|     0|   0|      Jardim América|  Zona Norte|       0.0|   0.0|220000.0|\n",
            "|74a91f07-7387-4a8...|    0|     55.0|        2|[Salão de festas,...|      1|     0|   1|        Engenho Novo|  Zona Norte|     600.0| 652.0|219130.0|\n",
            "|6aab1165-508d-455...|    3|     60.0|        1|[Animais permitidos]|      3|     0|   1|           Cascadura|  Zona Norte|      98.0|   1.0|230000.0|\n",
            "+--------------------+-----+---------+---------+--------------------+-------+------+----+--------------------+------------+----------+------+--------+\n",
            "only showing top 20 rows\n",
            "\n"
          ]
        }
      ]
    },
    {
      "cell_type": "code",
      "source": [
        "dataset = dataset\\\n",
        "    .select('*')\\\n",
        "    .na\\\n",
        "    .fill(0)"
      ],
      "metadata": {
        "id": "Mijw-9-04XxS"
      },
      "execution_count": 33,
      "outputs": []
    },
    {
      "cell_type": "code",
      "source": [
        "dataset\\\n",
        "    .select('zona')\\\n",
        "    .groupBy('zona')\\\n",
        "    .count()\\\n",
        "    .show()"
      ],
      "metadata": {
        "colab": {
          "base_uri": "https://localhost:8080/"
        },
        "id": "1HTI4qTi6Brk",
        "outputId": "fc35c6de-2a0b-4e5a-d02f-c23f13bc56f4"
      },
      "execution_count": 34,
      "outputs": [
        {
          "output_type": "stream",
          "name": "stdout",
          "text": [
            "+------------+-----+\n",
            "|        zona|count|\n",
            "+------------+-----+\n",
            "|  Zona Norte|11897|\n",
            "|  Zona Oeste|32979|\n",
            "|Zona Central| 1144|\n",
            "|    Zona Sul|20531|\n",
            "|            |   11|\n",
            "+------------+-----+\n",
            "\n"
          ]
        }
      ]
    },
    {
      "cell_type": "code",
      "source": [
        "dataset = dataset\\\n",
        "    .where(f.col('zona') != '')"
      ],
      "metadata": {
        "id": "ejwlA1my6KyX"
      },
      "execution_count": 35,
      "outputs": []
    },
    {
      "cell_type": "markdown",
      "source": [
        "# Preparação dos dados para ML\n"
      ],
      "metadata": {
        "id": "CSmPU0_o467M"
      }
    },
    {
      "cell_type": "markdown",
      "source": [
        "Para conseguirmos utilizar nossos dados em modelos de Machine Learning, é necessário realizarmos algumas técnicas, como a transformação de variáveis categóricas em binárias."
      ],
      "metadata": {
        "id": "6Bu4X2OP6Vlc"
      }
    },
    {
      "cell_type": "markdown",
      "source": [
        "## Variáveis Dummy\n"
      ],
      "metadata": {
        "id": "f8gyBmmi6Y56"
      }
    },
    {
      "cell_type": "code",
      "source": [
        "dataset.printSchema()"
      ],
      "metadata": {
        "colab": {
          "base_uri": "https://localhost:8080/"
        },
        "id": "j7EKHTqd4zoK",
        "outputId": "d9d7fad9-e6a8-4fce-c088-dcd0dc78229a"
      },
      "execution_count": 36,
      "outputs": [
        {
          "output_type": "stream",
          "name": "stdout",
          "text": [
            "root\n",
            " |-- id: string (nullable = true)\n",
            " |-- andar: integer (nullable = true)\n",
            " |-- area_util: double (nullable = false)\n",
            " |-- banheiros: integer (nullable = true)\n",
            " |-- caracteristicas: array (nullable = true)\n",
            " |    |-- element: string (containsNull = true)\n",
            " |-- quartos: integer (nullable = true)\n",
            " |-- suites: integer (nullable = true)\n",
            " |-- vaga: long (nullable = true)\n",
            " |-- bairro: string (nullable = true)\n",
            " |-- zona: string (nullable = true)\n",
            " |-- condominio: double (nullable = false)\n",
            " |-- iptu: double (nullable = false)\n",
            " |-- valor: double (nullable = false)\n",
            "\n"
          ]
        }
      ]
    },
    {
      "cell_type": "code",
      "source": [
        "dataset.select(\"*\", f.explode(\"caracteristicas\").alias(\"caracteristica\")).show()"
      ],
      "metadata": {
        "colab": {
          "base_uri": "https://localhost:8080/"
        },
        "id": "9GasxL1G7pxq",
        "outputId": "d487f9c2-042a-4081-c014-dcd3a6b475c7"
      },
      "execution_count": 37,
      "outputs": [
        {
          "output_type": "stream",
          "name": "stdout",
          "text": [
            "+--------------------+-----+---------+---------+--------------------+-------+------+----+------------+----------+----------+----+--------+------------------+\n",
            "|                  id|andar|area_util|banheiros|     caracteristicas|quartos|suites|vaga|      bairro|      zona|condominio|iptu|   valor|    caracteristica|\n",
            "+--------------------+-----+---------+---------+--------------------+-------+------+----+------------+----------+----------+----+--------+------------------+\n",
            "|03a386b6-7ab8-4ef...|    0|     43.0|        1|[Churrasqueira, A...|      2|     0|   1|    Realengo|Zona Oeste|     285.0| 0.0| 22999.0|     Churrasqueira|\n",
            "|03a386b6-7ab8-4ef...|    0|     43.0|        1|[Churrasqueira, A...|      2|     0|   1|    Realengo|Zona Oeste|     285.0| 0.0| 22999.0|          Academia|\n",
            "|03a386b6-7ab8-4ef...|    0|     43.0|        1|[Churrasqueira, A...|      2|     0|   1|    Realengo|Zona Oeste|     285.0| 0.0| 22999.0|        Playground|\n",
            "|03a386b6-7ab8-4ef...|    0|     43.0|        1|[Churrasqueira, A...|      2|     0|   1|    Realengo|Zona Oeste|     285.0| 0.0| 22999.0|   Salão de festas|\n",
            "|03a386b6-7ab8-4ef...|    0|     43.0|        1|[Churrasqueira, A...|      2|     0|   1|    Realengo|Zona Oeste|     285.0| 0.0| 22999.0|Condomínio fechado|\n",
            "|03a386b6-7ab8-4ef...|    0|     43.0|        1|[Churrasqueira, A...|      2|     0|   1|    Realengo|Zona Oeste|     285.0| 0.0| 22999.0| Portão eletrônico|\n",
            "|03a386b6-7ab8-4ef...|    0|     43.0|        1|[Churrasqueira, A...|      2|     0|   1|    Realengo|Zona Oeste|     285.0| 0.0| 22999.0|      Portaria 24h|\n",
            "|03a386b6-7ab8-4ef...|    0|     43.0|        1|[Churrasqueira, A...|      2|     0|   1|    Realengo|Zona Oeste|     285.0| 0.0| 22999.0|Animais permitidos|\n",
            "|40a2cbde-946b-42d...|    2|     47.0|        1|[Condomínio fecha...|      2|     0|   1|Campo Grande|Zona Oeste|     380.0| 0.0|138000.0|Condomínio fechado|\n",
            "|40a2cbde-946b-42d...|    2|     47.0|        1|[Condomínio fecha...|      2|     0|   1|Campo Grande|Zona Oeste|     380.0| 0.0|138000.0|      Portaria 24h|\n",
            "|40a2cbde-946b-42d...|    2|     47.0|        1|[Condomínio fecha...|      2|     0|   1|Campo Grande|Zona Oeste|     380.0| 0.0|138000.0|   Salão de festas|\n",
            "|40a2cbde-946b-42d...|    2|     47.0|        1|[Condomínio fecha...|      2|     0|   1|Campo Grande|Zona Oeste|     380.0| 0.0|138000.0|     Churrasqueira|\n",
            "|40a2cbde-946b-42d...|    2|     47.0|        1|[Condomínio fecha...|      2|     0|   1|Campo Grande|Zona Oeste|     380.0| 0.0|138000.0|           Piscina|\n",
            "|40a2cbde-946b-42d...|    2|     47.0|        1|[Condomínio fecha...|      2|     0|   1|Campo Grande|Zona Oeste|     380.0| 0.0|138000.0|Animais permitidos|\n",
            "|be269ddf-a4a3-4a7...|    0|     45.0|        1|[Churrasqueira, C...|      2|     0|   1|Campo Grande|Zona Oeste|     356.0| 0.0|140000.0|     Churrasqueira|\n",
            "|be269ddf-a4a3-4a7...|    0|     45.0|        1|[Churrasqueira, C...|      2|     0|   1|Campo Grande|Zona Oeste|     356.0| 0.0|140000.0|Condomínio fechado|\n",
            "|be269ddf-a4a3-4a7...|    0|     45.0|        1|[Churrasqueira, C...|      2|     0|   1|Campo Grande|Zona Oeste|     356.0| 0.0|140000.0|           Piscina|\n",
            "|4b7e3d59-34fd-4ba...|    3|     48.0|        1|[Churrasqueira, P...|      2|     0|   1|Campo Grande|Zona Oeste|       0.0| 0.0|150000.0|     Churrasqueira|\n",
            "|4b7e3d59-34fd-4ba...|    3|     48.0|        1|[Churrasqueira, P...|      2|     0|   1|Campo Grande|Zona Oeste|       0.0| 0.0|150000.0|           Piscina|\n",
            "|4b7e3d59-34fd-4ba...|    3|     48.0|        1|[Churrasqueira, P...|      2|     0|   1|Campo Grande|Zona Oeste|       0.0| 0.0|150000.0|        Playground|\n",
            "+--------------------+-----+---------+---------+--------------------+-------+------+----+------------+----------+----------+----+--------+------------------+\n",
            "only showing top 20 rows\n",
            "\n"
          ]
        }
      ]
    },
    {
      "cell_type": "code",
      "source": [
        "dataset\\\n",
        "    .select(\"*\", f.explode(\"caracteristicas\").alias(\"cara\"))\\\n",
        "    .groupBy(\"id\")\\\n",
        "    .pivot('cara')\\\n",
        "    .agg(f.lit(1))\\\n",
        "    .na\\\n",
        "    .fill(0)\\\n",
        "    .show(truncate=False)"
      ],
      "metadata": {
        "colab": {
          "base_uri": "https://localhost:8080/"
        },
        "id": "Ko35Qysz6xd4",
        "outputId": "42e69b2c-51b2-4b4e-d6c7-d39da9d47f04"
      },
      "execution_count": 38,
      "outputs": [
        {
          "output_type": "stream",
          "name": "stdout",
          "text": [
            "+------------------------------------+--------+------------------+-------------+------------------+--------+-------+----------+------------+-----------------+---------------+\n",
            "|id                                  |Academia|Animais permitidos|Churrasqueira|Condomínio fechado|Elevador|Piscina|Playground|Portaria 24h|Portão eletrônico|Salão de festas|\n",
            "+------------------------------------+--------+------------------+-------------+------------------+--------+-------+----------+------------+-----------------+---------------+\n",
            "|fd96bbd5-d631-416a-9f84-29091cefe14c|1       |1                 |1            |1                 |1       |1      |1         |1           |1                |1              |\n",
            "|bfffedfe-99e7-4aed-9a9f-f766225a0f1f|0       |1                 |1            |1                 |1       |0      |1         |0           |1                |1              |\n",
            "|fcb67af3-5601-415f-9d1f-75280923a4e3|1       |1                 |1            |0                 |0       |1      |1         |0           |0                |1              |\n",
            "|afecddff-f4cc-4ab8-bdbf-242b7dff7241|1       |1                 |1            |1                 |1       |1      |1         |1           |1                |1              |\n",
            "|1bbc40f3-4f5c-4595-99b1-56ef42a54ede|1       |0                 |0            |1                 |1       |1      |1         |1           |1                |1              |\n",
            "|fd26aeb2-a7b3-4f80-97ed-fe3eb928c123|1       |1                 |1            |1                 |1       |1      |1         |1           |1                |1              |\n",
            "|10e9d118-dbad-43c3-879d-6def0d60f8ed|0       |1                 |1            |1                 |0       |1      |1         |1           |1                |1              |\n",
            "|ca1e84d7-86c8-4b1e-aa5a-db99c8c9d0d3|1       |0                 |1            |1                 |1       |1      |1         |1           |1                |1              |\n",
            "|d9e139a5-e85d-4e1b-b77f-1b120d146fb3|1       |1                 |1            |1                 |1       |1      |1         |1           |1                |1              |\n",
            "|156a1fa5-37ca-43db-8448-df4a35f45496|1       |0                 |1            |1                 |1       |1      |1         |1           |1                |1              |\n",
            "|e7be09eb-6223-4b41-b255-30a5f7d67771|1       |1                 |1            |1                 |1       |1      |1         |1           |1                |1              |\n",
            "|631efda0-5e10-422c-990a-f6c47f6ec4c7|1       |1                 |1            |1                 |1       |1      |1         |1           |1                |1              |\n",
            "|07cbfef2-efbf-4e89-a023-db65e76cc820|0       |1                 |0            |0                 |1       |0      |0         |1           |0                |0              |\n",
            "|62baf185-103d-4489-956a-d2cc707a66cd|1       |0                 |1            |1                 |0       |1      |1         |0           |0                |0              |\n",
            "|3030d17c-5681-4b2f-b333-3e363a92ddda|1       |1                 |1            |1                 |1       |1      |0         |1           |1                |1              |\n",
            "|6179c8a4-1fd2-4f54-a91d-68d1ba80dd26|1       |1                 |0            |1                 |1       |1      |1         |1           |1                |1              |\n",
            "|c284072a-7298-4e5a-bc0b-a90b3a0f17fc|1       |1                 |1            |1                 |1       |1      |1         |1           |1                |1              |\n",
            "|7e43514c-3b40-4fbd-9ad4-1fcac078134d|1       |1                 |1            |1                 |1       |1      |1         |1           |1                |1              |\n",
            "|6a4ce9ac-1eb0-4d4b-9a65-5e6d842777bf|1       |0                 |1            |0                 |1       |1      |1         |0           |0                |1              |\n",
            "|bdc6127a-1d97-41b4-a736-85122e76bd5e|1       |0                 |1            |0                 |0       |0      |0         |0           |0                |1              |\n",
            "+------------------------------------+--------+------------------+-------------+------------------+--------+-------+----------+------------+-----------------+---------------+\n",
            "only showing top 20 rows\n",
            "\n"
          ]
        }
      ]
    },
    {
      "cell_type": "code",
      "source": [
        "caracteristicas = dataset\\\n",
        "    .select(\"*\", f.explode(\"caracteristicas\").alias(\"cara\"))\\\n",
        "    .groupBy(\"id\")\\\n",
        "    .pivot('cara')\\\n",
        "    .agg(f.lit(1))"
      ],
      "metadata": {
        "id": "cKceBeSq70iU"
      },
      "execution_count": 39,
      "outputs": []
    },
    {
      "cell_type": "code",
      "source": [
        "zona = dataset\\\n",
        "    .groupBy(\"id\")\\\n",
        "    .pivot('zona')\\\n",
        "    .agg(f.lit(1))"
      ],
      "metadata": {
        "id": "Q7A1NGAE8b3W"
      },
      "execution_count": 40,
      "outputs": []
    },
    {
      "cell_type": "code",
      "source": [
        "dataset.show(10, truncate=False)"
      ],
      "metadata": {
        "colab": {
          "base_uri": "https://localhost:8080/"
        },
        "id": "y3gEDJcl8ehs",
        "outputId": "a62865fe-1022-4498-d7bd-2c5690a7c1b9"
      },
      "execution_count": 41,
      "outputs": [
        {
          "output_type": "stream",
          "name": "stdout",
          "text": [
            "+------------------------------------+-----+---------+---------+-------------------------------------------------------------------------------------------------------------------------------+-------+------+----+-----------------------+------------+----------+------+--------+\n",
            "|id                                  |andar|area_util|banheiros|caracteristicas                                                                                                                |quartos|suites|vaga|bairro                 |zona        |condominio|iptu  |valor   |\n",
            "+------------------------------------+-----+---------+---------+-------------------------------------------------------------------------------------------------------------------------------+-------+------+----+-----------------------+------------+----------+------+--------+\n",
            "|03a386b6-7ab8-4eff-891d-f8a16efc1989|0    |43.0     |1        |[Churrasqueira, Academia, Playground, Salão de festas, Condomínio fechado, Portão eletrônico, Portaria 24h, Animais permitidos]|2      |0     |1   |Realengo               |Zona Oeste  |285.0     |0.0   |22999.0 |\n",
            "|1fe78d41-b8e0-4d21-a1a8-72cb7863f441|0    |44.0     |1        |null                                                                                                                           |2      |0     |0   |Irajá                  |Zona Norte  |170.0     |0.0   |110000.0|\n",
            "|1fa1c1e5-e98c-433f-9675-1b43d7d6da01|4    |55.0     |1        |null                                                                                                                           |2      |0     |1   |Cosmos                 |Zona Oeste  |0.0       |0.0   |115000.0|\n",
            "|a6ab01ae-3d40-40e7-bb6a-f2334e0abbe0|2    |55.0     |1        |null                                                                                                                           |2      |0     |0   |Tomás Coelho           |Zona Norte  |0.0       |0.0   |115000.0|\n",
            "|1d8ff7a2-16bd-4e3f-a92e-1b85f923ebb0|0    |50.0     |1        |null                                                                                                                           |1      |0     |0   |Centro                 |Zona Central|1300.0    |2679.0|125000.0|\n",
            "|40a2cbde-946b-42da-b7f2-b80057c7a47f|2    |47.0     |1        |[Condomínio fechado, Portaria 24h, Salão de festas, Churrasqueira, Piscina, Animais permitidos]                                |2      |0     |1   |Campo Grande           |Zona Oeste  |380.0     |0.0   |138000.0|\n",
            "|be269ddf-a4a3-4a72-bd54-93cdccf512dd|0    |45.0     |1        |[Churrasqueira, Condomínio fechado, Piscina]                                                                                   |2      |0     |1   |Campo Grande           |Zona Oeste  |356.0     |0.0   |140000.0|\n",
            "|4b7e3d59-34fd-4bac-9232-1015cb3b3a24|3    |48.0     |1        |[Churrasqueira, Piscina, Playground, Salão de festas, Condomínio fechado, Portão eletrônico, Portaria 24h, Animais permitidos] |2      |0     |1   |Campo Grande           |Zona Oeste  |0.0       |0.0   |150000.0|\n",
            "|a1a0c2ac-4fa8-4b02-a087-f9d76b6bccb7|9    |55.0     |1        |[Churrasqueira, Elevador, Salão de festas, Condomínio fechado, Portão eletrônico, Portaria 24h, Animais permitidos]            |2      |0     |1   |Freguesia (Jacarepaguá)|Zona Oeste  |780.0     |660.0 |160000.0|\n",
            "|390d2b88-e06d-47e5-ba7f-a680130ac5f0|0    |70.0     |2        |[Salão de festas]                                                                                                              |2      |0     |1   |Praça Seca             |Zona Oeste  |420000.0  |0.0   |159000.0|\n",
            "+------------------------------------+-----+---------+---------+-------------------------------------------------------------------------------------------------------------------------------+-------+------+----+-----------------------+------------+----------+------+--------+\n",
            "only showing top 10 rows\n",
            "\n"
          ]
        }
      ]
    },
    {
      "cell_type": "code",
      "source": [
        "linhas_originais = dataset.count()"
      ],
      "metadata": {
        "id": "u5yzx9qg8g8E"
      },
      "execution_count": 42,
      "outputs": []
    },
    {
      "cell_type": "code",
      "source": [
        "# juntando os dados utilizando o metodo join\n",
        "dataset = dataset\\\n",
        "    .join(zona, 'id', how='inner')\\\n",
        "    .join(caracteristicas, 'id', how='left')\\\n",
        "    .drop('zona', 'cara', 'caracteristicas')\\\n",
        "    .na\\\n",
        "    .fill(0)"
      ],
      "metadata": {
        "id": "Grpuk6Os8y2G"
      },
      "execution_count": 43,
      "outputs": []
    },
    {
      "cell_type": "code",
      "source": [
        "# comparando se o join funcionou corretamente e ainda temos a mesma quantidade de linhas do dataset original\n",
        "print(\"Quantidade de linhas antes: \", linhas_originais)\n",
        "print(\"Quantidade de linhas depois: \", dataset.count())\n",
        "print(\"Quantidade de linhas perdidas: \", linhas_originais - dataset.count())"
      ],
      "metadata": {
        "colab": {
          "base_uri": "https://localhost:8080/"
        },
        "id": "wngeLIFE83ib",
        "outputId": "aa0c4e94-887a-446a-a8b3-cc4af18c19f8"
      },
      "execution_count": 44,
      "outputs": [
        {
          "output_type": "stream",
          "name": "stdout",
          "text": [
            "Quantidade de linhas antes:  66551\n",
            "Quantidade de linhas depois:  66551\n",
            "Quantidade de linhas perdidas:  0\n"
          ]
        }
      ]
    },
    {
      "cell_type": "code",
      "source": [
        "dataset.show(5)"
      ],
      "metadata": {
        "colab": {
          "base_uri": "https://localhost:8080/"
        },
        "id": "6nQTrRiN9FHd",
        "outputId": "d929024b-5f30-49f0-e0d1-ef59b586a720"
      },
      "execution_count": 45,
      "outputs": [
        {
          "output_type": "stream",
          "name": "stdout",
          "text": [
            "+--------------------+-----+---------+---------+-------+------+----+-----------+----------+------+---------+------------+----------+----------+--------+--------+------------------+-------------+------------------+--------+-------+----------+------------+-----------------+---------------+\n",
            "|                  id|andar|area_util|banheiros|quartos|suites|vaga|     bairro|condominio|  iptu|    valor|Zona Central|Zona Norte|Zona Oeste|Zona Sul|Academia|Animais permitidos|Churrasqueira|Condomínio fechado|Elevador|Piscina|Playground|Portaria 24h|Portão eletrônico|Salão de festas|\n",
            "+--------------------+-----+---------+---------+-------+------+----+-----------+----------+------+---------+------------+----------+----------+--------+--------+------------------+-------------+------------------+--------+-------+----------+------------+-----------------+---------------+\n",
            "|02fba6ef-a691-442...|    3|     64.0|        1|      2|     2|   1|Jacarepaguá|     784.0|  80.0| 380000.0|           0|         0|         1|       0|       1|                 1|            1|                 1|       1|      1|         1|           1|                1|              1|\n",
            "|3dd5d200-0a7f-43d...|    0|    170.0|        3|      4|     1|   1|Cosme Velho|    2250.0|3000.0|1450000.0|           0|         0|         0|       1|       0|                 0|            0|                 0|       1|      0|         0|           0|                0|              0|\n",
            "|4e47e4d4-3326-4eb...|    0|     90.0|        2|      3|     1|   0| Copacabana|     950.0|2677.0| 949020.0|           0|         0|         0|       1|       0|                 0|            0|                 0|       1|      0|         0|           0|                0|              0|\n",
            "|82707939-71bd-40c...|    0|    525.0|        4|      4|     2|   2|   Flamengo|    5000.0|2100.0|5199000.0|           0|         0|         0|       1|       0|                 0|            0|                 0|       0|      0|         0|           0|                0|              0|\n",
            "|ece1e671-cb4d-48a...|    0|     50.0|        1|      2|     0|   1|     Centro|     320.0|  80.0| 330000.0|           1|         0|         0|       0|       1|                 1|            1|                 1|       1|      1|         1|           1|                1|              1|\n",
            "+--------------------+-----+---------+---------+-------+------+----+-----------+----------+------+---------+------------+----------+----------+--------+--------+------------------+-------------+------------------+--------+-------+----------+------------+-----------------+---------------+\n",
            "only showing top 5 rows\n",
            "\n"
          ]
        }
      ]
    },
    {
      "cell_type": "markdown",
      "source": [
        "# Salvando os dados em parquet\n"
      ],
      "metadata": {
        "id": "3n_HYPpr9mlM"
      }
    },
    {
      "cell_type": "code",
      "source": [
        "dataset.write.parquet(\n",
        "    '/content/drive/MyDrive/Challenge_Pyspark_Alura/Data/Dataset_ML_Regressao', \n",
        "    mode='overwrite')"
      ],
      "metadata": {
        "id": "wthShlt69YFm"
      },
      "execution_count": 46,
      "outputs": []
    },
    {
      "cell_type": "markdown",
      "source": [
        "# Vetorizando os dados\n"
      ],
      "metadata": {
        "id": "GHM-Zy-nBYSW"
      }
    },
    {
      "cell_type": "markdown",
      "source": [
        "Para utiliz os dados em modelos do PySpark, precisa utilizar a técnica de vetorização dos dados, uutilizando a classe **VectorAssembler** da biblioteca **pyspark.ml.feature**."
      ],
      "metadata": {
        "id": "YGIKGzulBlkm"
      }
    },
    {
      "cell_type": "code",
      "source": [
        "from pyspark.ml.feature import VectorAssembler"
      ],
      "metadata": {
        "id": "jmzjf8nv36Xa"
      },
      "execution_count": 47,
      "outputs": []
    },
    {
      "cell_type": "code",
      "source": [
        "dataset = dataset.withColumnRenamed('valor','label')"
      ],
      "metadata": {
        "id": "eBM2WijO-odk"
      },
      "execution_count": 48,
      "outputs": []
    },
    {
      "cell_type": "code",
      "source": [
        "input_col = [i for i in dataset.columns if i not in ['label', 'id', 'bairro']]"
      ],
      "metadata": {
        "id": "ox8iZBq0B7ow"
      },
      "execution_count": 49,
      "outputs": []
    },
    {
      "cell_type": "code",
      "source": [
        "assembler = VectorAssembler(inputCols = input_col, outputCol = 'features')"
      ],
      "metadata": {
        "id": "x9-7haV5B-A5"
      },
      "execution_count": 50,
      "outputs": []
    },
    {
      "cell_type": "code",
      "source": [
        "dataset.show(5)"
      ],
      "metadata": {
        "colab": {
          "base_uri": "https://localhost:8080/"
        },
        "id": "MEFIWXLoCIJn",
        "outputId": "b6954042-fe16-426a-c2ae-3ef111265509"
      },
      "execution_count": 51,
      "outputs": [
        {
          "output_type": "stream",
          "name": "stdout",
          "text": [
            "+--------------------+-----+---------+---------+-------+------+----+-----------+----------+------+---------+------------+----------+----------+--------+--------+------------------+-------------+------------------+--------+-------+----------+------------+-----------------+---------------+\n",
            "|                  id|andar|area_util|banheiros|quartos|suites|vaga|     bairro|condominio|  iptu|    label|Zona Central|Zona Norte|Zona Oeste|Zona Sul|Academia|Animais permitidos|Churrasqueira|Condomínio fechado|Elevador|Piscina|Playground|Portaria 24h|Portão eletrônico|Salão de festas|\n",
            "+--------------------+-----+---------+---------+-------+------+----+-----------+----------+------+---------+------------+----------+----------+--------+--------+------------------+-------------+------------------+--------+-------+----------+------------+-----------------+---------------+\n",
            "|02fba6ef-a691-442...|    3|     64.0|        1|      2|     2|   1|Jacarepaguá|     784.0|  80.0| 380000.0|           0|         0|         1|       0|       1|                 1|            1|                 1|       1|      1|         1|           1|                1|              1|\n",
            "|3dd5d200-0a7f-43d...|    0|    170.0|        3|      4|     1|   1|Cosme Velho|    2250.0|3000.0|1450000.0|           0|         0|         0|       1|       0|                 0|            0|                 0|       1|      0|         0|           0|                0|              0|\n",
            "|4e47e4d4-3326-4eb...|    0|     90.0|        2|      3|     1|   0| Copacabana|     950.0|2677.0| 949020.0|           0|         0|         0|       1|       0|                 0|            0|                 0|       1|      0|         0|           0|                0|              0|\n",
            "|82707939-71bd-40c...|    0|    525.0|        4|      4|     2|   2|   Flamengo|    5000.0|2100.0|5199000.0|           0|         0|         0|       1|       0|                 0|            0|                 0|       0|      0|         0|           0|                0|              0|\n",
            "|ece1e671-cb4d-48a...|    0|     50.0|        1|      2|     0|   1|     Centro|     320.0|  80.0| 330000.0|           1|         0|         0|       0|       1|                 1|            1|                 1|       1|      1|         1|           1|                1|              1|\n",
            "+--------------------+-----+---------+---------+-------+------+----+-----------+----------+------+---------+------------+----------+----------+--------+--------+------------------+-------------+------------------+--------+-------+----------+------------+-----------------+---------------+\n",
            "only showing top 5 rows\n",
            "\n"
          ]
        }
      ]
    },
    {
      "cell_type": "code",
      "source": [
        "dataset_prep = assembler.transform(dataset).select('features', 'label')"
      ],
      "metadata": {
        "id": "xuzCkllxCLNp"
      },
      "execution_count": 52,
      "outputs": []
    },
    {
      "cell_type": "code",
      "source": [
        "dataset_prep.show(5)"
      ],
      "metadata": {
        "colab": {
          "base_uri": "https://localhost:8080/"
        },
        "id": "obv-fRyUCaHL",
        "outputId": "7f8f529f-b527-4293-983d-45bc313300fd"
      },
      "execution_count": 53,
      "outputs": [
        {
          "output_type": "stream",
          "name": "stdout",
          "text": [
            "+--------------------+---------+\n",
            "|            features|    label|\n",
            "+--------------------+---------+\n",
            "|(22,[1,2,3,4,5,6,...|4600000.0|\n",
            "|(22,[0,1,2,3,5,6,...| 360000.0|\n",
            "|(22,[1,2,3,4,5,10...|1200000.0|\n",
            "|(22,[1,2,3,6,7,11...| 750000.0|\n",
            "|(22,[1,2,3,5,6,7,...|1025000.0|\n",
            "+--------------------+---------+\n",
            "only showing top 5 rows\n",
            "\n"
          ]
        }
      ]
    },
    {
      "cell_type": "markdown",
      "source": [
        "# Criação dos modelos de regressão"
      ],
      "metadata": {
        "id": "qc44WFN6C0LM"
      }
    },
    {
      "cell_type": "markdown",
      "source": [
        "## Random Forest"
      ],
      "metadata": {
        "id": "KrkLRQ2AD3wr"
      }
    },
    {
      "cell_type": "code",
      "source": [
        "from pyspark.ml.regression import RandomForestRegressor"
      ],
      "metadata": {
        "id": "s-k_zr5lDMnB"
      },
      "execution_count": 54,
      "outputs": []
    },
    {
      "cell_type": "code",
      "source": [
        "treino, teste = dataset_prep.randomSplit([0.7, 0.3], seed=101)"
      ],
      "metadata": {
        "id": "hBDHMTjJCcV3"
      },
      "execution_count": 55,
      "outputs": []
    },
    {
      "cell_type": "code",
      "source": [
        "rfr = RandomForestRegressor(seed=100, maxDepth=13, numTrees=13)"
      ],
      "metadata": {
        "id": "ZEdLDmAvDP64"
      },
      "execution_count": 56,
      "outputs": []
    },
    {
      "cell_type": "code",
      "source": [
        "modelo_rfr = rfr.fit(treino)"
      ],
      "metadata": {
        "id": "-j4JMMfxDdWf"
      },
      "execution_count": 57,
      "outputs": []
    },
    {
      "cell_type": "code",
      "source": [
        "previsoes_rfr_treino = modelo_rfr.transform(treino)"
      ],
      "metadata": {
        "id": "yVzt26pEDhBw"
      },
      "execution_count": 58,
      "outputs": []
    },
    {
      "cell_type": "code",
      "source": [
        "previsoes_rfr_treino.show()"
      ],
      "metadata": {
        "colab": {
          "base_uri": "https://localhost:8080/"
        },
        "id": "zbEQOZEgDoyM",
        "outputId": "b549cd82-3d4d-45ad-f611-9f1bf9ef303e"
      },
      "execution_count": 59,
      "outputs": [
        {
          "output_type": "stream",
          "name": "stdout",
          "text": [
            "+--------------------+---------+------------------+\n",
            "|            features|    label|        prediction|\n",
            "+--------------------+---------+------------------+\n",
            "|(22,[0,1,2,3,4,5,...| 445000.0|353749.82709296077|\n",
            "|(22,[0,1,2,3,4,5,...| 539000.0|  402984.195057041|\n",
            "|(22,[0,1,2,3,4,5,...| 262000.0|470215.75994919706|\n",
            "|(22,[0,1,2,3,4,5,...| 460000.0| 336086.3240018727|\n",
            "|(22,[0,1,2,3,4,5,...| 540000.0| 612086.2377825807|\n",
            "|(22,[0,1,2,3,4,5,...|1047795.0| 667489.4120075089|\n",
            "|(22,[0,1,2,3,4,5,...| 750000.0| 676780.9080635932|\n",
            "|(22,[0,1,2,3,4,5,...| 795000.0| 782285.8340253829|\n",
            "|(22,[0,1,2,3,4,5,...| 391000.0|379210.16681507626|\n",
            "|(22,[0,1,2,3,4,5,...| 473400.0| 485153.7257598934|\n",
            "|(22,[0,1,2,3,4,5,...| 659900.0| 514647.4615972986|\n",
            "|(22,[0,1,2,3,4,5,...| 797204.0| 598542.4073768324|\n",
            "|(22,[0,1,2,3,4,5,...| 499000.0| 617244.4348080646|\n",
            "|(22,[0,1,2,3,4,5,...| 550000.0| 662771.8504180672|\n",
            "|(22,[0,1,2,3,4,5,...|1400000.0|1403538.8029024499|\n",
            "|(22,[0,1,2,3,4,5,...|2450000.0| 2396153.769230769|\n",
            "|(22,[0,1,2,3,4,5,...| 580000.0|486972.37595736136|\n",
            "|(22,[0,1,2,3,4,5,...| 550000.0| 575258.8018472578|\n",
            "|(22,[0,1,2,3,4,5,...| 689500.0| 550334.5304469027|\n",
            "|(22,[0,1,2,3,4,5,...| 980000.0| 956948.2788173234|\n",
            "+--------------------+---------+------------------+\n",
            "only showing top 20 rows\n",
            "\n"
          ]
        }
      ]
    },
    {
      "cell_type": "markdown",
      "source": [
        "## Avaliação dos modelos"
      ],
      "metadata": {
        "id": "XvmrQNWGEFgz"
      }
    },
    {
      "cell_type": "code",
      "source": [
        "from pyspark.ml.evaluation import RegressionEvaluator"
      ],
      "metadata": {
        "id": "ZtAa5JzODrKn"
      },
      "execution_count": 60,
      "outputs": []
    },
    {
      "cell_type": "code",
      "source": [
        "evaluator = RegressionEvaluator()"
      ],
      "metadata": {
        "id": "2qQhML9ZEHxP"
      },
      "execution_count": 61,
      "outputs": []
    },
    {
      "cell_type": "code",
      "source": [
        "# Métricas do Treino\n",
        "\n",
        "print(f'Métricas r2:', evaluator.evaluate(previsoes_rfr_treino, {evaluator.metricName: \"r2\"} ))\n",
        "print(f'Métricas rmse:', evaluator.evaluate(previsoes_rfr_treino, {evaluator.metricName: \"rmse\"}))"
      ],
      "metadata": {
        "colab": {
          "base_uri": "https://localhost:8080/"
        },
        "id": "OMM6bWlcEJgf",
        "outputId": "1bc5fae4-d399-44b0-b777-b78a5dd379a0"
      },
      "execution_count": 62,
      "outputs": [
        {
          "output_type": "stream",
          "name": "stdout",
          "text": [
            "Métricas r2: 0.9170089757352828\n",
            "Métricas rmse: 424991.2660603118\n"
          ]
        }
      ]
    },
    {
      "cell_type": "code",
      "source": [
        "previsoes_rfr_teste = modelo_rfr.transform(teste)\n",
        "previsoes_rfr_teste.show()"
      ],
      "metadata": {
        "colab": {
          "base_uri": "https://localhost:8080/"
        },
        "id": "Wm-ZZbQ6EPCN",
        "outputId": "2c3fc558-7c2e-44f5-9a8f-2c1bad9e837c"
      },
      "execution_count": 63,
      "outputs": [
        {
          "output_type": "stream",
          "name": "stdout",
          "text": [
            "+--------------------+---------+------------------+\n",
            "|            features|    label|        prediction|\n",
            "+--------------------+---------+------------------+\n",
            "|(22,[0,1,2,3,4,5,...| 349000.0| 359032.1452246784|\n",
            "|(22,[0,1,2,3,4,5,...| 400000.0|425192.59633974294|\n",
            "|(22,[0,1,2,3,4,5,...| 318000.0| 429199.8590124885|\n",
            "|(22,[0,1,2,3,4,5,...| 335000.0| 564686.2141512452|\n",
            "|(22,[0,1,2,3,4,5,...| 950000.0|1127167.5035606509|\n",
            "|(22,[0,1,2,3,4,5,...|1250000.0|1309392.5827927727|\n",
            "|(22,[0,1,2,3,4,5,...| 355000.0|402918.19132837123|\n",
            "|(22,[0,1,2,3,4,5,...| 300000.0|   465857.97559377|\n",
            "|(22,[0,1,2,3,4,5,...|1540000.0|1596806.8461538462|\n",
            "|(22,[0,1,2,3,4,5,...| 290000.0| 432471.0476398443|\n",
            "|(22,[0,1,2,3,4,5,...| 750000.0| 631085.7483401328|\n",
            "|(22,[0,1,2,3,4,5,...| 852288.0| 514647.4615972986|\n",
            "|(22,[0,1,2,3,4,5,...| 940000.0| 766183.7312596486|\n",
            "|(22,[0,1,2,3,4,5,...| 650000.0|  846480.047278669|\n",
            "|(22,[0,1,2,3,4,5,...| 750000.0| 429897.5105673917|\n",
            "|(22,[0,1,2,3,4,5,...| 650000.0| 551056.0241813188|\n",
            "|(22,[0,1,2,3,4,5,...| 580000.0| 610591.8322510793|\n",
            "|(22,[0,1,2,3,4,5,...|1350000.0|1425905.8764394647|\n",
            "|(22,[0,1,2,3,4,5,...| 730000.0|  782041.103912981|\n",
            "|(22,[0,1,2,3,4,5,...| 816000.0| 575803.1162674085|\n",
            "+--------------------+---------+------------------+\n",
            "only showing top 20 rows\n",
            "\n"
          ]
        }
      ]
    },
    {
      "cell_type": "code",
      "source": [
        "print('Random Forest Regression')\n",
        "print(\"=\"*30)\n",
        "print(\"Dados de Treino\")\n",
        "print(\"=\"*30)\n",
        "print(\"R²: %f\" % evaluator.evaluate(previsoes_rfr_treino, {evaluator.metricName: \"r2\"}))\n",
        "print(\"RMSE: %f\" % evaluator.evaluate(previsoes_rfr_treino, {evaluator.metricName: \"rmse\"}))\n",
        "print(\"\")\n",
        "print(\"=\"*30)\n",
        "print(\"Dados de Teste\")\n",
        "print(\"=\"*30)\n",
        "print(\"R²: %f\" % evaluator.evaluate(previsoes_rfr_teste, {evaluator.metricName: \"r2\"}))\n",
        "print(\"RMSE: %f\" % evaluator.evaluate(previsoes_rfr_teste, {evaluator.metricName: \"rmse\"}))"
      ],
      "metadata": {
        "colab": {
          "base_uri": "https://localhost:8080/"
        },
        "id": "WnN0ZqavFIX0",
        "outputId": "ddf819b8-2d6b-44b4-f178-a78cc433a7c0"
      },
      "execution_count": 64,
      "outputs": [
        {
          "output_type": "stream",
          "name": "stdout",
          "text": [
            "Random Forest Regression\n",
            "==============================\n",
            "Dados de Treino\n",
            "==============================\n",
            "R²: 0.917009\n",
            "RMSE: 424991.266060\n",
            "\n",
            "==============================\n",
            "Dados de Teste\n",
            "==============================\n",
            "R²: 0.829703\n",
            "RMSE: 604038.468647\n"
          ]
        }
      ]
    },
    {
      "cell_type": "markdown",
      "source": [
        "# Extra: Otimização"
      ],
      "metadata": {
        "id": "0CC0esYfGHIR"
      }
    },
    {
      "cell_type": "code",
      "source": [
        "from pyspark.ml.tuning import CrossValidator, ParamGridBuilder"
      ],
      "metadata": {
        "id": "T8aXP4sFGIGI"
      },
      "execution_count": 65,
      "outputs": []
    },
    {
      "cell_type": "code",
      "source": [
        "rfr = RandomForestRegressor()"
      ],
      "metadata": {
        "id": "utHjrQHgGORl"
      },
      "execution_count": 66,
      "outputs": []
    },
    {
      "cell_type": "code",
      "source": [
        "grid = ParamGridBuilder() \\\n",
        "    .addGrid(rfr.numTrees, [10, 20, 30]) \\\n",
        "    .addGrid(rfr.maxDepth, [5, 10]) \\\n",
        "    .addGrid(rfr.maxBins, [10, 32, 45]) \\\n",
        "    .build()"
      ],
      "metadata": {
        "id": "whKDzaN8GW4Y"
      },
      "execution_count": 67,
      "outputs": []
    },
    {
      "cell_type": "code",
      "source": [
        "evaluator = RegressionEvaluator()"
      ],
      "metadata": {
        "id": "RG0QcK93GaZN"
      },
      "execution_count": 68,
      "outputs": []
    },
    {
      "cell_type": "code",
      "source": [
        "rfr_cv = CrossValidator(\n",
        "    estimator=rfr,\n",
        "    estimatorParamMaps=grid,\n",
        "    evaluator=evaluator,\n",
        "    numFolds=3\n",
        ")"
      ],
      "metadata": {
        "id": "Ca5C_nOOGd9o"
      },
      "execution_count": 69,
      "outputs": []
    },
    {
      "cell_type": "code",
      "source": [
        "modelo_rfr_cv = rfr_cv.fit(treino)"
      ],
      "metadata": {
        "id": "5kTpwh-ZGhxE"
      },
      "execution_count": 70,
      "outputs": []
    },
    {
      "cell_type": "code",
      "source": [
        "# Quais os melhores parâmetros para o modelo?\n",
        "\n",
        "modelo_rfr_cv.bestModel"
      ],
      "metadata": {
        "id": "R2Xo9d8vGkfQ",
        "colab": {
          "base_uri": "https://localhost:8080/"
        },
        "outputId": "096b1aba-1ffa-4dbd-b782-32634242d71e"
      },
      "execution_count": 71,
      "outputs": [
        {
          "output_type": "execute_result",
          "data": {
            "text/plain": [
              "RandomForestRegressionModel: uid=RandomForestRegressor_b51d5d07855d, numTrees=30, numFeatures=22"
            ]
          },
          "metadata": {},
          "execution_count": 71
        }
      ]
    },
    {
      "cell_type": "code",
      "source": [
        "previsoes_rfr_cv_teste = modelo_rfr_cv.transform(teste)"
      ],
      "metadata": {
        "id": "s6wMsNhnHDs-"
      },
      "execution_count": 72,
      "outputs": []
    },
    {
      "cell_type": "code",
      "source": [
        "print('Random Forest')\n",
        "print(\"=\"*30)\n",
        "print(\"Sem Cross Validation\")\n",
        "print(\"=\"*30)\n",
        "print(\"R²: %f\" % evaluator.evaluate(previsoes_rfr_teste, {evaluator.metricName: \"r2\"}))\n",
        "print(\"RMSE: %f\" % evaluator.evaluate(previsoes_rfr_teste, {evaluator.metricName: \"rmse\"}))\n",
        "print(\"\")\n",
        "print(\"=\"*30)\n",
        "print(\"Com Cross Validation\")\n",
        "print(\"=\"*30)\n",
        "print(\"R²: %f\" % evaluator.evaluate(previsoes_rfr_cv_teste, {evaluator.metricName: \"r2\"}))\n",
        "print(\"RMSE: %f\" % evaluator.evaluate(previsoes_rfr_cv_teste, {evaluator.metricName: \"rmse\"}))"
      ],
      "metadata": {
        "id": "zaR4yPALHPGC",
        "colab": {
          "base_uri": "https://localhost:8080/"
        },
        "outputId": "b09d2be3-7c11-4e01-b8f9-cbe7051021f7"
      },
      "execution_count": 73,
      "outputs": [
        {
          "output_type": "stream",
          "name": "stdout",
          "text": [
            "Random Forest\n",
            "==============================\n",
            "Sem Cross Validation\n",
            "==============================\n",
            "R²: 0.829703\n",
            "RMSE: 604038.468647\n",
            "\n",
            "==============================\n",
            "Com Cross Validation\n",
            "==============================\n",
            "R²: 0.832582\n",
            "RMSE: 598911.193272\n"
          ]
        }
      ]
    },
    {
      "cell_type": "markdown",
      "source": [
        "# Extra: Implementando o Gradient-boosted tree regression\n"
      ],
      "metadata": {
        "id": "lOXweCXmH-Pe"
      }
    },
    {
      "cell_type": "code",
      "source": [
        "from pyspark.ml.regression import GBTRegressor\n",
        "\n",
        "gbt = GBTRegressor()"
      ],
      "metadata": {
        "id": "TEiKK-6yHQ5U"
      },
      "execution_count": 74,
      "outputs": []
    },
    {
      "cell_type": "code",
      "source": [
        "modelo_gbt = gbt.fit(treino)"
      ],
      "metadata": {
        "id": "Ts4hKKmBICQu"
      },
      "execution_count": 75,
      "outputs": []
    },
    {
      "cell_type": "code",
      "source": [
        "previsoes_gbt_treino = modelo_gbt.transform(treino);"
      ],
      "metadata": {
        "id": "c_h0oMYVILO4"
      },
      "execution_count": 76,
      "outputs": []
    },
    {
      "cell_type": "code",
      "source": [
        "previsoes_gbt_treino.select(\"prediction\", \"label\", \"features\").show(5)"
      ],
      "metadata": {
        "id": "dKG-mlEZIOu_",
        "colab": {
          "base_uri": "https://localhost:8080/"
        },
        "outputId": "d44207c1-117b-4266-bc4e-56ceb3884141"
      },
      "execution_count": 77,
      "outputs": [
        {
          "output_type": "stream",
          "name": "stdout",
          "text": [
            "+-----------------+--------+--------------------+\n",
            "|       prediction|   label|            features|\n",
            "+-----------------+--------+--------------------+\n",
            "|268023.3007638289|445000.0|(22,[0,1,2,3,4,5,...|\n",
            "|268023.3007638289|539000.0|(22,[0,1,2,3,4,5,...|\n",
            "|477777.5025796987|262000.0|(22,[0,1,2,3,4,5,...|\n",
            "|281965.9687764651|460000.0|(22,[0,1,2,3,4,5,...|\n",
            "|607186.1243671293|540000.0|(22,[0,1,2,3,4,5,...|\n",
            "+-----------------+--------+--------------------+\n",
            "only showing top 5 rows\n",
            "\n"
          ]
        }
      ]
    },
    {
      "cell_type": "code",
      "source": [
        "previsoes_gbt_teste = modelo_gbt.transform(teste);"
      ],
      "metadata": {
        "id": "P-8nguuAIRFD"
      },
      "execution_count": 78,
      "outputs": []
    },
    {
      "cell_type": "code",
      "source": [
        "print(\"RMSE nos dados de teste: %g\" % evaluator.evaluate(previsoes_gbt_teste, {evaluator.metricName: \"rmse\"}))\n",
        "print(\"R2 nos dados de teste: %g\" % evaluator.evaluate(previsoes_gbt_teste, {evaluator.metricName: \"r2\"}))\n"
      ],
      "metadata": {
        "id": "tIWSt54vIUml",
        "colab": {
          "base_uri": "https://localhost:8080/"
        },
        "outputId": "18711e05-8b25-4fac-dafc-46bf5f62f028"
      },
      "execution_count": 79,
      "outputs": [
        {
          "output_type": "stream",
          "name": "stdout",
          "text": [
            "RMSE nos dados de teste: 654487\n",
            "R2 nos dados de teste: 0.800069\n"
          ]
        }
      ]
    }
  ]
}