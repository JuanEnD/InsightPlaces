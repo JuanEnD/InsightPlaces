{
  "cells": [
    {
      "cell_type": "markdown",
      "source": [
        "# Instalando para usar no Colab"
      ],
      "metadata": {
        "id": "Y7x8P1mxn3sG"
      },
      "id": "Y7x8P1mxn3sG"
    },
    {
      "cell_type": "code",
      "source": [
        "!apt-get update -qq\n",
        "!apt-get install openjdk-8-jdk-headless -qq > /dev/null\n",
        "!wget -q https://archive.apache.org/dist/spark/spark-3.1.2/spark-3.1.2-bin-hadoop2.7.tgz\n",
        "!tar xf spark-3.1.2-bin-hadoop2.7.tgz\n",
        "!pip install -q findspark"
      ],
      "metadata": {
        "id": "Bo5MwHAqn7r6"
      },
      "id": "Bo5MwHAqn7r6",
      "execution_count": 1,
      "outputs": []
    },
    {
      "cell_type": "markdown",
      "id": "9f3c0f1e",
      "metadata": {
        "id": "9f3c0f1e"
      },
      "source": [
        "# Importando o Spark"
      ]
    },
    {
      "cell_type": "code",
      "execution_count": 2,
      "id": "ebacf2d2",
      "metadata": {
        "id": "ebacf2d2"
      },
      "outputs": [],
      "source": [
        "import os\n",
        "os.environ[\"JAVA_HOME\"] = \"/usr/lib/jvm/java-8-openjdk-amd64\"\n",
        "os.environ[\"SPARK_HOME\"] = \"/content/spark-3.1.2-bin-hadoop2.7\""
      ]
    },
    {
      "cell_type": "code",
      "execution_count": 3,
      "id": "a7e19df3",
      "metadata": {
        "id": "a7e19df3"
      },
      "outputs": [],
      "source": [
        "import findspark\n",
        "findspark.init()"
      ]
    },
    {
      "cell_type": "code",
      "execution_count": 4,
      "id": "e53fd683",
      "metadata": {
        "id": "e53fd683"
      },
      "outputs": [],
      "source": [
        "from pyspark.sql import SparkSession"
      ]
    },
    {
      "cell_type": "code",
      "execution_count": 5,
      "id": "1f70bf1a",
      "metadata": {
        "id": "1f70bf1a"
      },
      "outputs": [],
      "source": [
        "spark = SparkSession.builder.master('local[*]').appName(\"Challenge Alura Spark\").config('spark.ui.port', '4050').getOrCreate()"
      ]
    },
    {
      "cell_type": "code",
      "execution_count": 6,
      "id": "f346197e",
      "metadata": {
        "id": "f346197e",
        "colab": {
          "base_uri": "https://localhost:8080/",
          "height": 346
        },
        "outputId": "0ddb460e-d17d-4fc6-ae67-2ef554cdcb26"
      },
      "outputs": [
        {
          "output_type": "execute_result",
          "data": {
            "text/plain": [
              "<pyspark.sql.session.SparkSession at 0x7f948862e6d0>"
            ],
            "text/html": [
              "\n",
              "            <div>\n",
              "                <p><b>SparkSession - in-memory</b></p>\n",
              "                \n",
              "        <div>\n",
              "            <p><b>SparkContext</b></p>\n",
              "\n",
              "            <p><a href=\"http://201cf9463234:4050\">Spark UI</a></p>\n",
              "\n",
              "            <dl>\n",
              "              <dt>Version</dt>\n",
              "                <dd><code>v3.1.2</code></dd>\n",
              "              <dt>Master</dt>\n",
              "                <dd><code>local[*]</code></dd>\n",
              "              <dt>AppName</dt>\n",
              "                <dd><code>Challenge Alura Spark</code></dd>\n",
              "            </dl>\n",
              "        </div>\n",
              "        \n",
              "            </div>\n",
              "        "
            ]
          },
          "metadata": {},
          "execution_count": 6
        }
      ],
      "source": [
        "spark"
      ]
    },
    {
      "cell_type": "markdown",
      "source": [
        "# Montando no Drive para caso for usar no Colab\n",
        "\n",
        "\n",
        "\n"
      ],
      "metadata": {
        "id": "ibkW_rwfwAgT"
      },
      "id": "ibkW_rwfwAgT"
    },
    {
      "cell_type": "code",
      "source": [
        "from google.colab import drive\n",
        "drive.mount('/content/drive')"
      ],
      "metadata": {
        "colab": {
          "base_uri": "https://localhost:8080/"
        },
        "id": "KedRyNyNv_vu",
        "outputId": "1a8f52a3-2fe0-40ce-edee-a12257a88280"
      },
      "id": "KedRyNyNv_vu",
      "execution_count": 7,
      "outputs": [
        {
          "output_type": "stream",
          "name": "stdout",
          "text": [
            "Drive already mounted at /content/drive; to attempt to forcibly remount, call drive.mount(\"/content/drive\", force_remount=True).\n"
          ]
        }
      ]
    },
    {
      "cell_type": "markdown",
      "source": [
        "# Colocando a Spark Ui (Colab)"
      ],
      "metadata": {
        "id": "pVrncrOzyaFt"
      },
      "id": "pVrncrOzyaFt"
    },
    {
      "cell_type": "code",
      "source": [
        "!wget -q https://bin.equinox.io/c/4VmDzA7iaHb/ngrok-stable-linux-amd64.zip\n",
        "!unzip ngrok-stable-linux-amd64.zip"
      ],
      "metadata": {
        "colab": {
          "base_uri": "https://localhost:8080/"
        },
        "id": "WB_w8KSuydwh",
        "outputId": "65bdd38c-fb6f-4549-cbe5-bc6b5c4ff1a1"
      },
      "id": "WB_w8KSuydwh",
      "execution_count": 8,
      "outputs": [
        {
          "output_type": "stream",
          "name": "stdout",
          "text": [
            "Archive:  ngrok-stable-linux-amd64.zip\n",
            "replace ngrok? [y]es, [n]o, [A]ll, [N]one, [r]ename: a\n",
            "error:  invalid response [a]\n",
            "replace ngrok? [y]es, [n]o, [A]ll, [N]one, [r]ename: y\n",
            "  inflating: ngrok                   \n"
          ]
        }
      ]
    },
    {
      "cell_type": "code",
      "source": [
        "get_ipython().system_raw('./ngrok authtoken 2Hhcdy8qIixxWoVEa31tc8HJ4rE_2vHqKDdGAJGsM7xgYvoYk')\n",
        "get_ipython().system_raw('./ngrok http 4050 &')"
      ],
      "metadata": {
        "id": "P90P9yFKyr1d"
      },
      "id": "P90P9yFKyr1d",
      "execution_count": 9,
      "outputs": []
    },
    {
      "cell_type": "code",
      "source": [
        "!curl -s http://localhost:4040/api/tunnels"
      ],
      "metadata": {
        "id": "TPKfvTZDyqc7",
        "colab": {
          "base_uri": "https://localhost:8080/"
        },
        "outputId": "41fb310c-a6f3-408a-b65b-f7765d41b4dd"
      },
      "execution_count": 10,
      "outputs": [
        {
          "output_type": "stream",
          "name": "stdout",
          "text": [
            "{\"tunnels\":[{\"name\":\"command_line (http)\",\"uri\":\"/api/tunnels/command_line%20%28http%29\",\"public_url\":\"http://5a94-34-135-61-198.ngrok.io\",\"proto\":\"http\",\"config\":{\"addr\":\"http://localhost:4050\",\"inspect\":true},\"metrics\":{\"conns\":{\"count\":0,\"gauge\":0,\"rate1\":0,\"rate5\":0,\"rate15\":0,\"p50\":0,\"p90\":0,\"p95\":0,\"p99\":0},\"http\":{\"count\":0,\"rate1\":0,\"rate5\":0,\"rate15\":0,\"p50\":0,\"p90\":0,\"p95\":0,\"p99\":0}}},{\"name\":\"command_line\",\"uri\":\"/api/tunnels/command_line\",\"public_url\":\"https://5a94-34-135-61-198.ngrok.io\",\"proto\":\"https\",\"config\":{\"addr\":\"http://localhost:4050\",\"inspect\":true},\"metrics\":{\"conns\":{\"count\":0,\"gauge\":0,\"rate1\":0,\"rate5\":0,\"rate15\":0,\"p50\":0,\"p90\":0,\"p95\":0,\"p99\":0},\"http\":{\"count\":0,\"rate1\":0,\"rate5\":0,\"rate15\":0,\"p50\":0,\"p90\":0,\"p95\":0,\"p99\":0}}}],\"uri\":\"/api/tunnels\"}\n"
          ]
        }
      ],
      "id": "TPKfvTZDyqc7"
    },
    {
      "cell_type": "code",
      "source": [
        "spark"
      ],
      "metadata": {
        "colab": {
          "base_uri": "https://localhost:8080/",
          "height": 221
        },
        "id": "RIcmjc5oy34L",
        "outputId": "0e5c9c85-7d73-4fb5-c17d-b85de578725a"
      },
      "id": "RIcmjc5oy34L",
      "execution_count": 11,
      "outputs": [
        {
          "output_type": "execute_result",
          "data": {
            "text/plain": [
              "<pyspark.sql.session.SparkSession at 0x7f948862e6d0>"
            ],
            "text/html": [
              "\n",
              "            <div>\n",
              "                <p><b>SparkSession - in-memory</b></p>\n",
              "                \n",
              "        <div>\n",
              "            <p><b>SparkContext</b></p>\n",
              "\n",
              "            <p><a href=\"http://201cf9463234:4050\">Spark UI</a></p>\n",
              "\n",
              "            <dl>\n",
              "              <dt>Version</dt>\n",
              "                <dd><code>v3.1.2</code></dd>\n",
              "              <dt>Master</dt>\n",
              "                <dd><code>local[*]</code></dd>\n",
              "              <dt>AppName</dt>\n",
              "                <dd><code>Challenge Alura Spark</code></dd>\n",
              "            </dl>\n",
              "        </div>\n",
              "        \n",
              "            </div>\n",
              "        "
            ]
          },
          "metadata": {},
          "execution_count": 11
        }
      ]
    },
    {
      "cell_type": "markdown",
      "id": "47f94544",
      "metadata": {
        "heading_collapsed": true,
        "id": "47f94544"
      },
      "source": [
        "# Importando os Dados, colocando em um DataFrame"
      ]
    },
    {
      "cell_type": "code",
      "execution_count": 12,
      "id": "c8393644",
      "metadata": {
        "hidden": true,
        "id": "c8393644"
      },
      "outputs": [],
      "source": [
        "dados = spark.read.json('/content/drive/MyDrive/Challenge_Pyspark_Alura/Data/dataset_bruto.json')"
      ]
    },
    {
      "cell_type": "code",
      "execution_count": 13,
      "id": "ae82b68f",
      "metadata": {
        "hidden": true,
        "id": "ae82b68f"
      },
      "outputs": [],
      "source": [
        "linhas = dados.count()\n",
        "colunas = len(dados.columns)"
      ]
    },
    {
      "cell_type": "code",
      "execution_count": 14,
      "id": "aa0012d0",
      "metadata": {
        "hidden": true,
        "id": "aa0012d0",
        "colab": {
          "base_uri": "https://localhost:8080/"
        },
        "outputId": "1d162ea7-b0b0-4db4-f691-642816ba6a92"
      },
      "outputs": [
        {
          "output_type": "stream",
          "name": "stdout",
          "text": [
            "A quantidade de linhas é 89083 e a quantidade de colunas é 3\n"
          ]
        }
      ],
      "source": [
        "print(f'A quantidade de linhas é {linhas} e a quantidade de colunas é {colunas}')"
      ]
    },
    {
      "cell_type": "code",
      "execution_count": 15,
      "id": "80e30d3b",
      "metadata": {
        "hidden": true,
        "id": "80e30d3b",
        "colab": {
          "base_uri": "https://localhost:8080/"
        },
        "outputId": "278aae71-e5e0-4c9f-c814-3d1992bc81f4"
      },
      "outputs": [
        {
          "output_type": "stream",
          "name": "stdout",
          "text": [
            "root\n",
            " |-- anuncio: struct (nullable = true)\n",
            " |    |-- andar: long (nullable = true)\n",
            " |    |-- area_total: array (nullable = true)\n",
            " |    |    |-- element: string (containsNull = true)\n",
            " |    |-- area_util: array (nullable = true)\n",
            " |    |    |-- element: string (containsNull = true)\n",
            " |    |-- banheiros: array (nullable = true)\n",
            " |    |    |-- element: long (containsNull = true)\n",
            " |    |-- caracteristicas: array (nullable = true)\n",
            " |    |    |-- element: string (containsNull = true)\n",
            " |    |-- endereco: struct (nullable = true)\n",
            " |    |    |-- bairro: string (nullable = true)\n",
            " |    |    |-- cep: string (nullable = true)\n",
            " |    |    |-- cidade: string (nullable = true)\n",
            " |    |    |-- estado: string (nullable = true)\n",
            " |    |    |-- latitude: double (nullable = true)\n",
            " |    |    |-- longitude: double (nullable = true)\n",
            " |    |    |-- pais: string (nullable = true)\n",
            " |    |    |-- rua: string (nullable = true)\n",
            " |    |    |-- zona: string (nullable = true)\n",
            " |    |-- id: string (nullable = true)\n",
            " |    |-- quartos: array (nullable = true)\n",
            " |    |    |-- element: long (containsNull = true)\n",
            " |    |-- suites: array (nullable = true)\n",
            " |    |    |-- element: long (containsNull = true)\n",
            " |    |-- tipo_anuncio: string (nullable = true)\n",
            " |    |-- tipo_unidade: string (nullable = true)\n",
            " |    |-- tipo_uso: string (nullable = true)\n",
            " |    |-- vaga: array (nullable = true)\n",
            " |    |    |-- element: long (containsNull = true)\n",
            " |    |-- valores: array (nullable = true)\n",
            " |    |    |-- element: struct (containsNull = true)\n",
            " |    |    |    |-- condominio: string (nullable = true)\n",
            " |    |    |    |-- iptu: string (nullable = true)\n",
            " |    |    |    |-- tipo: string (nullable = true)\n",
            " |    |    |    |-- valor: string (nullable = true)\n",
            " |-- imagens: array (nullable = true)\n",
            " |    |-- element: struct (containsNull = true)\n",
            " |    |    |-- id: string (nullable = true)\n",
            " |    |    |-- url: string (nullable = true)\n",
            " |-- usuario: struct (nullable = true)\n",
            " |    |-- id: string (nullable = true)\n",
            " |    |-- nome: string (nullable = true)\n",
            "\n"
          ]
        }
      ],
      "source": [
        "# Estrutura da Base de Dados\n",
        "\n",
        "dados.printSchema()"
      ]
    },
    {
      "cell_type": "code",
      "execution_count": 16,
      "id": "50aaa293",
      "metadata": {
        "hidden": true,
        "id": "50aaa293",
        "colab": {
          "base_uri": "https://localhost:8080/"
        },
        "outputId": "c87c566a-281e-4ff9-9c99-62a80fc6edac"
      },
      "outputs": [
        {
          "output_type": "stream",
          "name": "stdout",
          "text": [
            "+--------------------+--------------------+--------------------+\n",
            "|             anuncio|             imagens|             usuario|\n",
            "+--------------------+--------------------+--------------------+\n",
            "|{0, [], [16], [0]...|[{39d6282a-71f3-4...|{9d44563d-3405-4e...|\n",
            "|{0, [], [14], [0]...|[{23d2b3ab-45b0-4...|{36245be7-70fe-40...|\n",
            "|{0, [1026], [1026...|[{1da65baa-368b-4...|{9dc415d8-1397-4d...|\n",
            "|{0, [120], [120],...|[{79b542c6-49b4-4...|{9911a2df-f299-4a...|\n",
            "|{0, [3], [3], [0]...|[{e2bc497b-6510-4...|{240a7aab-12e5-40...|\n",
            "|{0, [20], [15], [...|[{2de09d46-dc0d-4...|{3c7057f5-0923-42...|\n",
            "|{3, [43], [43], [...|[{147a80d9-cd40-4...|{5a9736b5-aaa0-4a...|\n",
            "|{2, [42], [42], [...|[{35740004-063d-4...|{ec48d96a-137c-49...|\n",
            "|{0, [], [12], [0]...|[{6d3d2aec-c96f-4...|{dad7db63-e19c-44...|\n",
            "|{1, [41], [41], [...|[{3d404069-418e-4...|{a845f35f-3ab3-46...|\n",
            "|{3, [43], [43], [...|[{5b8a8de7-2088-4...|{8c8de313-45d5-4c...|\n",
            "|{0, [10], [4], [0...|[{5385da42-8276-4...|{0b1d4ee0-2bc3-4c...|\n",
            "|{0, [12], [12], [...|[{7e4c2d03-1188-4...|{d744ac23-f16e-44...|\n",
            "|{0, [17], [17], [...|[{db608e30-f3e0-4...|{edc3fcf6-4441-40...|\n",
            "|{1, [32], [32], [...|[{318d4e40-f759-4...|{84dfa72e-10dd-48...|\n",
            "|{0, [], [10], [0]...|[{9e39e46f-59f8-4...|{fc1d2b73-9d29-4c...|\n",
            "|{2, [43], [43], [...|[{3fe1c1cc-7a9c-4...|{7f2de69f-68f8-40...|\n",
            "|{3, [43], [43], [...|[{fd04f07d-cfdf-4...|{12ce772e-4aac-46...|\n",
            "|{3, [43], [43], [...|[{76f97b59-a61b-4...|{cc17fc2c-6be2-4e...|\n",
            "|{3, [43], [43], [...|[{95d9678e-491f-4...|{286649de-3099-4c...|\n",
            "+--------------------+--------------------+--------------------+\n",
            "only showing top 20 rows\n",
            "\n"
          ]
        }
      ],
      "source": [
        "dados.show()"
      ]
    },
    {
      "cell_type": "markdown",
      "id": "b557a432",
      "metadata": {
        "heading_collapsed": true,
        "id": "b557a432"
      },
      "source": [
        "# Separando os Dados das Colunas e deixando apenas a coluna Anuncio (Porque as outras não são necessárias)"
      ]
    },
    {
      "cell_type": "code",
      "execution_count": 17,
      "id": "ef489efe",
      "metadata": {
        "hidden": true,
        "id": "ef489efe"
      },
      "outputs": [],
      "source": [
        "dados = dados.select('anuncio.*')"
      ]
    },
    {
      "cell_type": "code",
      "execution_count": 18,
      "id": "916b4da5",
      "metadata": {
        "hidden": true,
        "id": "916b4da5",
        "colab": {
          "base_uri": "https://localhost:8080/"
        },
        "outputId": "a0845103-4ab0-4900-d752-a8e53f8dfd92"
      },
      "outputs": [
        {
          "output_type": "stream",
          "name": "stdout",
          "text": [
            "+-----+----------+---------+---------+--------------------+--------------------+--------------------+-------+------+------------+------------+-----------+----+--------------------+\n",
            "|andar|area_total|area_util|banheiros|     caracteristicas|            endereco|                  id|quartos|suites|tipo_anuncio|tipo_unidade|   tipo_uso|vaga|             valores|\n",
            "+-----+----------+---------+---------+--------------------+--------------------+--------------------+-------+------+------------+------------+-----------+----+--------------------+\n",
            "|    0|        []|     [16]|      [0]|                  []|{Centro, 20061003...|47d553e0-79f2-4a4...|    [0]|   [0]|       Usado|      Outros|  Comercial| [1]|[{260, 107, Venda...|\n",
            "|    0|        []|     [14]|      [0]|                  []|{Centro, 20051040...|b6ffbae1-17f6-487...|    [0]|    []|       Usado|      Outros|  Comercial| [0]|[{260, 107, Venda...|\n",
            "|    0|    [1026]|   [1026]|      [0]|                  []|{Maria da Graça, ...|1fb030a5-9e3e-4a1...|    [0]|    []|       Usado|      Outros|  Comercial| [0]|[{null, 1613, Ven...|\n",
            "|    0|     [120]|    [120]|      [0]|[Portão eletrônic...|{Campo Grande, 23...|ac6cb348-69d6-45a...|    [0]|    []|       Usado|      Outros|Residencial|  []|[{80, null, Venda...|\n",
            "|    0|       [3]|      [3]|      [0]|                  []|{São Cristóvão, 2...|e032b908-ef42-4d4...|    [0]|    []|       Usado|      Outros|Residencial|  []|[{0, 0, Venda, 50...|\n",
            "|    0|      [20]|     [15]|      [1]|                  []|{Centro, 20231047...|df9cf0b8-b972-433...|    [0]|    []|       Usado|      Outros|  Comercial| [1]|[{223, 87, Venda,...|\n",
            "|    3|      [43]|     [43]|      [1]|[Academia, Churra...|{Paciência, 23585...|d2e3a3aa-09b5-45a...|    [2]|    []|       Usado| Apartamento|Residencial| [1]|[{245, null, Vend...|\n",
            "|    2|      [42]|     [42]|      [1]|[Churrasqueira, P...|{Paciência, 23585...|085bab2c-87ad-452...|    [2]|    []|       Usado| Apartamento|Residencial| [1]|[{0, 0, Venda, 15...|\n",
            "|    0|        []|     [12]|      [0]|[Portaria 24h, El...|{Centro, 20231047...|096ad966-dc36-47b...|    [0]|    []|       Usado|      Outros|  Comercial| [1]|[{250, null, Vend...|\n",
            "|    1|      [41]|     [41]|      [1]|[Portaria 24h, Co...|{Guaratiba, 23036...|18d22cbe-1b86-476...|    [2]|    []|       Usado| Apartamento|Residencial| [1]|[{0, 0, Venda, 20...|\n",
            "|    3|      [43]|     [43]|      [1]|[Churrasqueira, P...|{Cosmos, 23066271...|bed8a354-9317-442...|    [2]|    []|       Usado| Apartamento|Residencial| [0]|[{285, null, Vend...|\n",
            "|    0|      [10]|      [4]|      [0]|[Elevador, Portar...|{Centro, 20080021...|b7d0fbd3-0b28-420...|    [0]|    []|       Usado|      Outros|  Comercial| [0]|[{200, 86, Venda,...|\n",
            "|    0|      [12]|     [12]|      [1]|      [Portaria 24h]|{Copacabana, 2202...|c6571c11-166e-4a4...|    [0]|    []|       Usado|      Outros|  Comercial|  []|[{470, null, Vend...|\n",
            "|    0|      [17]|     [17]|      [0]|          [Elevador]|{Centro, 20070021...|46d5b560-205f-45f...|    [0]|    []|       Usado|      Outros|  Comercial| [1]|[{294, 98, Venda,...|\n",
            "|    1|      [32]|     [32]|       []|[Elevador, Condom...|{Centro, 20090020...|db197997-00e6-4d6...|     []|    []|       Usado|      Outros|  Comercial| [1]|[{684, null, Vend...|\n",
            "|    0|        []|     [10]|      [0]|[Elevador, Condom...|{Saúde, 20080040,...|835d4338-4aa9-4e4...|    [0]|    []|       Usado|      Outros|  Comercial|  []|[{0, 120, Venda, ...|\n",
            "|    2|      [43]|     [43]|      [1]|[Academia, Churra...|{Guaratiba, 23036...|12a13315-d67f-48f...|    [2]|    []|       Usado| Apartamento|Residencial| [1]|[{245, null, Vend...|\n",
            "|    3|      [43]|     [43]|      [1]|[Churrasqueira, P...|{Cosmos, 23066271...|a2e6d7a5-0ff0-484...|    [2]|   [0]|       Usado| Apartamento|Residencial| [0]|[{285, null, Vend...|\n",
            "|    3|      [43]|     [43]|      [1]|[Churrasqueira, P...|{Paciência, 23585...|a6e3173b-c950-4db...|    [2]|    []|       Usado| Apartamento|Residencial| [1]|[{250, null, Vend...|\n",
            "|    3|      [43]|     [43]|      [1]|[Churrasqueira, P...|{Guaratiba, 23036...|2e6e5dfb-206c-496...|    [2]|   [0]|       Usado| Apartamento|Residencial| [1]|[{245, null, Vend...|\n",
            "+-----+----------+---------+---------+--------------------+--------------------+--------------------+-------+------+------------+------------+-----------+----+--------------------+\n",
            "only showing top 20 rows\n",
            "\n"
          ]
        }
      ],
      "source": [
        "dados.show()"
      ]
    },
    {
      "cell_type": "markdown",
      "id": "c207e1e1",
      "metadata": {
        "heading_collapsed": true,
        "id": "c207e1e1"
      },
      "source": [
        "# Filtrar a base de dados (tipo_uso, tipo_unidade e tipo_anuncio)"
      ]
    },
    {
      "cell_type": "code",
      "execution_count": 19,
      "id": "d41c6996",
      "metadata": {
        "hidden": true,
        "id": "d41c6996",
        "colab": {
          "base_uri": "https://localhost:8080/"
        },
        "outputId": "fe289428-1eeb-43de-c665-a5810cc4eb35"
      },
      "outputs": [
        {
          "output_type": "stream",
          "name": "stdout",
          "text": [
            "+-----------+------------+------------+-----+\n",
            "|   tipo_uso|tipo_unidade|tipo_anuncio|count|\n",
            "+-----------+------------+------------+-----+\n",
            "|Residencial| Apartamento|       Usado|66562|\n",
            "|Residencial|        Casa|       Usado|10224|\n",
            "|Residencial|      Outros|       Usado| 7502|\n",
            "|  Comercial|      Outros|       Usado| 4443|\n",
            "|Residencial| Apartamento|  Lançamento|  235|\n",
            "|  Comercial|        Casa|       Usado|   92|\n",
            "|Residencial|      Outros|  Lançamento|   15|\n",
            "|  Comercial| Apartamento|       Usado|    4|\n",
            "|  Comercial|      Outros|  Lançamento|    3|\n",
            "|Residencial|        Casa|  Lançamento|    3|\n",
            "+-----------+------------+------------+-----+\n",
            "\n"
          ]
        }
      ],
      "source": [
        "dados.groupby(['tipo_uso', 'tipo_unidade', 'tipo_anuncio']).count().orderBy('count', ascending=False).show()"
      ]
    },
    {
      "cell_type": "code",
      "execution_count": 20,
      "id": "57cf6e9a",
      "metadata": {
        "hidden": true,
        "id": "57cf6e9a",
        "colab": {
          "base_uri": "https://localhost:8080/"
        },
        "outputId": "0fa4c412-038b-48fd-e0b6-012cd85ab081"
      },
      "outputs": [
        {
          "output_type": "stream",
          "name": "stdout",
          "text": [
            "+-----------+-----+\n",
            "|   tipo_uso|count|\n",
            "+-----------+-----+\n",
            "|  Comercial| 4542|\n",
            "|Residencial|84541|\n",
            "+-----------+-----+\n",
            "\n"
          ]
        }
      ],
      "source": [
        "dados\\\n",
        "  .select('tipo_uso')\\\n",
        "  .groupBy('tipo_uso')\\\n",
        "  .count()\\\n",
        "  .show()"
      ]
    },
    {
      "cell_type": "code",
      "execution_count": 21,
      "id": "3be4d09b",
      "metadata": {
        "hidden": true,
        "id": "3be4d09b",
        "colab": {
          "base_uri": "https://localhost:8080/"
        },
        "outputId": "9089ec9d-9ba8-4639-e3ef-7d1fe9eac1be"
      },
      "outputs": [
        {
          "output_type": "stream",
          "name": "stdout",
          "text": [
            "+------------+-----+\n",
            "|tipo_unidade|count|\n",
            "+------------+-----+\n",
            "|      Outros|11963|\n",
            "| Apartamento|66801|\n",
            "|        Casa|10319|\n",
            "+------------+-----+\n",
            "\n"
          ]
        }
      ],
      "source": [
        "dados\\\n",
        "    .select('tipo_unidade')\\\n",
        "    .groupBy('tipo_unidade')\\\n",
        "    .count()\\\n",
        "    .show()"
      ]
    },
    {
      "cell_type": "code",
      "execution_count": 22,
      "id": "cc904006",
      "metadata": {
        "hidden": true,
        "id": "cc904006",
        "colab": {
          "base_uri": "https://localhost:8080/"
        },
        "outputId": "346427ec-f3e3-4074-f320-f61f0897a39b"
      },
      "outputs": [
        {
          "output_type": "stream",
          "name": "stdout",
          "text": [
            "+------------+-----+\n",
            "|tipo_anuncio|count|\n",
            "+------------+-----+\n",
            "|       Usado|88827|\n",
            "|  Lançamento|  256|\n",
            "+------------+-----+\n",
            "\n"
          ]
        }
      ],
      "source": [
        "dados\\\n",
        "    .select('tipo_anuncio')\\\n",
        "    .groupBy('tipo_anuncio')\\\n",
        "    .count()\\\n",
        "    .show()"
      ]
    },
    {
      "cell_type": "code",
      "execution_count": 23,
      "id": "cb43e26f",
      "metadata": {
        "hidden": true,
        "id": "cb43e26f"
      },
      "outputs": [],
      "source": [
        "freq = dados\\\n",
        "  .select('*')\\\n",
        "  .where('(tipo_uso==\"Residencial\")')\\\n",
        "  .where('tipo_unidade==\"Apartamento\"')\\\n",
        "  .where('tipo_anuncio==\"Usado\"')"
      ]
    },
    {
      "cell_type": "code",
      "execution_count": 24,
      "id": "6e06faf9",
      "metadata": {
        "hidden": true,
        "id": "6e06faf9",
        "colab": {
          "base_uri": "https://localhost:8080/"
        },
        "outputId": "52f45786-f43a-4141-cc47-f02e2755b7c8"
      },
      "outputs": [
        {
          "output_type": "execute_result",
          "data": {
            "text/plain": [
              "66562"
            ]
          },
          "metadata": {},
          "execution_count": 24
        }
      ],
      "source": [
        "freq.count()"
      ]
    },
    {
      "cell_type": "markdown",
      "id": "6508e089",
      "metadata": {
        "heading_collapsed": true,
        "id": "6508e089"
      },
      "source": [
        "# Transformando as colunas dos cômodos dos imóveis de listas para inteiros (quartos, suites, banheiros, vaga, area_total e area_util)"
      ]
    },
    {
      "cell_type": "code",
      "execution_count": 25,
      "id": "ca078f6a",
      "metadata": {
        "hidden": true,
        "id": "ca078f6a"
      },
      "outputs": [],
      "source": [
        "from pyspark.sql import functions as f\n",
        "from pyspark.sql.types import ArrayType,IntegerType"
      ]
    },
    {
      "cell_type": "code",
      "execution_count": 26,
      "id": "b8b61d4a",
      "metadata": {
        "hidden": true,
        "id": "b8b61d4a",
        "colab": {
          "base_uri": "https://localhost:8080/"
        },
        "outputId": "8a6dbd8c-5a27-4f8d-bfbc-7dfd05532737"
      },
      "outputs": [
        {
          "output_type": "stream",
          "name": "stdout",
          "text": [
            "root\n",
            " |-- andar: long (nullable = true)\n",
            " |-- area_total: array (nullable = true)\n",
            " |    |-- element: string (containsNull = true)\n",
            " |-- area_util: array (nullable = true)\n",
            " |    |-- element: string (containsNull = true)\n",
            " |-- banheiros: array (nullable = true)\n",
            " |    |-- element: long (containsNull = true)\n",
            " |-- caracteristicas: array (nullable = true)\n",
            " |    |-- element: string (containsNull = true)\n",
            " |-- endereco: struct (nullable = true)\n",
            " |    |-- bairro: string (nullable = true)\n",
            " |    |-- cep: string (nullable = true)\n",
            " |    |-- cidade: string (nullable = true)\n",
            " |    |-- estado: string (nullable = true)\n",
            " |    |-- latitude: double (nullable = true)\n",
            " |    |-- longitude: double (nullable = true)\n",
            " |    |-- pais: string (nullable = true)\n",
            " |    |-- rua: string (nullable = true)\n",
            " |    |-- zona: string (nullable = true)\n",
            " |-- id: string (nullable = true)\n",
            " |-- quartos: array (nullable = true)\n",
            " |    |-- element: long (containsNull = true)\n",
            " |-- suites: array (nullable = true)\n",
            " |    |-- element: long (containsNull = true)\n",
            " |-- tipo_anuncio: string (nullable = true)\n",
            " |-- tipo_unidade: string (nullable = true)\n",
            " |-- tipo_uso: string (nullable = true)\n",
            " |-- vaga: array (nullable = true)\n",
            " |    |-- element: long (containsNull = true)\n",
            " |-- valores: array (nullable = true)\n",
            " |    |-- element: struct (containsNull = true)\n",
            " |    |    |-- condominio: string (nullable = true)\n",
            " |    |    |-- iptu: string (nullable = true)\n",
            " |    |    |-- tipo: string (nullable = true)\n",
            " |    |    |-- valor: string (nullable = true)\n",
            "\n"
          ]
        }
      ],
      "source": [
        "dados.printSchema()"
      ]
    },
    {
      "cell_type": "code",
      "execution_count": 27,
      "id": "55a3a7c6",
      "metadata": {
        "hidden": true,
        "id": "55a3a7c6"
      },
      "outputs": [],
      "source": [
        "listas_int = ['quartos', 'suites', 'banheiros', 'vaga', 'area_total', 'area_util']"
      ]
    },
    {
      "cell_type": "code",
      "execution_count": 28,
      "id": "aa74d0ca",
      "metadata": {
        "hidden": true,
        "id": "aa74d0ca",
        "colab": {
          "base_uri": "https://localhost:8080/"
        },
        "outputId": "b7a802b3-42f9-4924-f3b3-f90f644138cf"
      },
      "outputs": [
        {
          "output_type": "stream",
          "name": "stdout",
          "text": [
            "+-------+-----+\n",
            "|quartos|count|\n",
            "+-------+-----+\n",
            "|      1|88120|\n",
            "|      2|  160|\n",
            "|      0|  803|\n",
            "+-------+-----+\n",
            "\n",
            "+------+-----+\n",
            "|suites|count|\n",
            "+------+-----+\n",
            "|     1|79431|\n",
            "|     2|  103|\n",
            "|     0| 9549|\n",
            "+------+-----+\n",
            "\n",
            "+---------+-----+\n",
            "|banheiros|count|\n",
            "+---------+-----+\n",
            "|        1|88798|\n",
            "|        2|  112|\n",
            "|        0|  173|\n",
            "+---------+-----+\n",
            "\n",
            "+----+-----+\n",
            "|vaga|count|\n",
            "+----+-----+\n",
            "|   1|84037|\n",
            "|   2|   94|\n",
            "|   0| 4952|\n",
            "+----+-----+\n",
            "\n",
            "+----------+-----+\n",
            "|area_total|count|\n",
            "+----------+-----+\n",
            "|         1|76488|\n",
            "|         0|12595|\n",
            "+----------+-----+\n",
            "\n",
            "+---------+-----+\n",
            "|area_util|count|\n",
            "+---------+-----+\n",
            "|        1|88846|\n",
            "|        2|  224|\n",
            "|        0|   13|\n",
            "+---------+-----+\n",
            "\n"
          ]
        }
      ],
      "source": [
        "for col in listas_int:\n",
        "    dados\\\n",
        "    .select(f.size(f.col(col)).alias((col)))\\\n",
        "    .groupby(col)\\\n",
        "    .count()\\\n",
        "    .show()"
      ]
    },
    {
      "cell_type": "code",
      "source": [
        "dados.printSchema()"
      ],
      "metadata": {
        "colab": {
          "base_uri": "https://localhost:8080/"
        },
        "id": "KF_ELa9FYOer",
        "outputId": "c34915a8-c961-4624-f749-ff7b9f62b292"
      },
      "id": "KF_ELa9FYOer",
      "execution_count": 42,
      "outputs": [
        {
          "output_type": "stream",
          "name": "stdout",
          "text": [
            "root\n",
            " |-- andar: long (nullable = true)\n",
            " |-- area_total: array (nullable = true)\n",
            " |    |-- element: string (containsNull = true)\n",
            " |-- area_util: array (nullable = true)\n",
            " |    |-- element: string (containsNull = true)\n",
            " |-- banheiros: array (nullable = true)\n",
            " |    |-- element: long (containsNull = true)\n",
            " |-- caracteristicas: array (nullable = true)\n",
            " |    |-- element: string (containsNull = true)\n",
            " |-- id: string (nullable = true)\n",
            " |-- quartos: array (nullable = true)\n",
            " |    |-- element: long (containsNull = true)\n",
            " |-- suites: array (nullable = true)\n",
            " |    |-- element: long (containsNull = true)\n",
            " |-- tipo_anuncio: string (nullable = true)\n",
            " |-- tipo_unidade: string (nullable = true)\n",
            " |-- tipo_uso: string (nullable = true)\n",
            " |-- vaga: array (nullable = true)\n",
            " |    |-- element: long (containsNull = true)\n",
            " |-- bairro: string (nullable = true)\n",
            " |-- zona: string (nullable = true)\n",
            " |-- condominio: string (nullable = true)\n",
            " |-- iptu: string (nullable = true)\n",
            " |-- tipo: string (nullable = true)\n",
            " |-- valor: string (nullable = true)\n",
            "\n"
          ]
        }
      ]
    },
    {
      "cell_type": "code",
      "source": [
        "dados = dados.select([f.col(c)[0].alias(c) if c in listas_int else c for c in dados.columns])"
      ],
      "metadata": {
        "id": "VoZ_I8YBX_pa"
      },
      "id": "VoZ_I8YBX_pa",
      "execution_count": 51,
      "outputs": []
    },
    {
      "cell_type": "markdown",
      "id": "1e06f63c",
      "metadata": {
        "heading_collapsed": true,
        "id": "1e06f63c"
      },
      "source": [
        "# Deixando apenas as colunas Bairro e Zona no DataFrame "
      ]
    },
    {
      "cell_type": "code",
      "execution_count": 29,
      "id": "b344b4be",
      "metadata": {
        "hidden": true,
        "id": "b344b4be",
        "colab": {
          "base_uri": "https://localhost:8080/"
        },
        "outputId": "0763858b-c807-4137-df45-7142c930eb5f"
      },
      "outputs": [
        {
          "output_type": "stream",
          "name": "stdout",
          "text": [
            "+-----+----------+---------+---------+--------------------+--------------------+-------+------+------------+------------+-----------+----+--------------------+--------------+------------+\n",
            "|andar|area_total|area_util|banheiros|     caracteristicas|                  id|quartos|suites|tipo_anuncio|tipo_unidade|   tipo_uso|vaga|             valores|        bairro|        zona|\n",
            "+-----+----------+---------+---------+--------------------+--------------------+-------+------+------------+------------+-----------+----+--------------------+--------------+------------+\n",
            "|    0|        []|     [16]|      [0]|                  []|47d553e0-79f2-4a4...|    [0]|   [0]|       Usado|      Outros|  Comercial| [1]|[{260, 107, Venda...|        Centro|Zona Central|\n",
            "|    0|        []|     [14]|      [0]|                  []|b6ffbae1-17f6-487...|    [0]|    []|       Usado|      Outros|  Comercial| [0]|[{260, 107, Venda...|        Centro|Zona Central|\n",
            "|    0|    [1026]|   [1026]|      [0]|                  []|1fb030a5-9e3e-4a1...|    [0]|    []|       Usado|      Outros|  Comercial| [0]|[{null, 1613, Ven...|Maria da Graça|  Zona Norte|\n",
            "|    0|     [120]|    [120]|      [0]|[Portão eletrônic...|ac6cb348-69d6-45a...|    [0]|    []|       Usado|      Outros|Residencial|  []|[{80, null, Venda...|  Campo Grande|  Zona Oeste|\n",
            "|    0|       [3]|      [3]|      [0]|                  []|e032b908-ef42-4d4...|    [0]|    []|       Usado|      Outros|Residencial|  []|[{0, 0, Venda, 50...| São Cristóvão|  Zona Norte|\n",
            "|    0|      [20]|     [15]|      [1]|                  []|df9cf0b8-b972-433...|    [0]|    []|       Usado|      Outros|  Comercial| [1]|[{223, 87, Venda,...|        Centro|Zona Central|\n",
            "|    3|      [43]|     [43]|      [1]|[Academia, Churra...|d2e3a3aa-09b5-45a...|    [2]|    []|       Usado| Apartamento|Residencial| [1]|[{245, null, Vend...|     Paciência|  Zona Oeste|\n",
            "|    2|      [42]|     [42]|      [1]|[Churrasqueira, P...|085bab2c-87ad-452...|    [2]|    []|       Usado| Apartamento|Residencial| [1]|[{0, 0, Venda, 15...|     Paciência|  Zona Oeste|\n",
            "|    0|        []|     [12]|      [0]|[Portaria 24h, El...|096ad966-dc36-47b...|    [0]|    []|       Usado|      Outros|  Comercial| [1]|[{250, null, Vend...|        Centro|Zona Central|\n",
            "|    1|      [41]|     [41]|      [1]|[Portaria 24h, Co...|18d22cbe-1b86-476...|    [2]|    []|       Usado| Apartamento|Residencial| [1]|[{0, 0, Venda, 20...|     Guaratiba|  Zona Oeste|\n",
            "|    3|      [43]|     [43]|      [1]|[Churrasqueira, P...|bed8a354-9317-442...|    [2]|    []|       Usado| Apartamento|Residencial| [0]|[{285, null, Vend...|        Cosmos|  Zona Oeste|\n",
            "|    0|      [10]|      [4]|      [0]|[Elevador, Portar...|b7d0fbd3-0b28-420...|    [0]|    []|       Usado|      Outros|  Comercial| [0]|[{200, 86, Venda,...|        Centro|Zona Central|\n",
            "|    0|      [12]|     [12]|      [1]|      [Portaria 24h]|c6571c11-166e-4a4...|    [0]|    []|       Usado|      Outros|  Comercial|  []|[{470, null, Vend...|    Copacabana|    Zona Sul|\n",
            "|    0|      [17]|     [17]|      [0]|          [Elevador]|46d5b560-205f-45f...|    [0]|    []|       Usado|      Outros|  Comercial| [1]|[{294, 98, Venda,...|        Centro|Zona Central|\n",
            "|    1|      [32]|     [32]|       []|[Elevador, Condom...|db197997-00e6-4d6...|     []|    []|       Usado|      Outros|  Comercial| [1]|[{684, null, Vend...|        Centro|Zona Central|\n",
            "|    0|        []|     [10]|      [0]|[Elevador, Condom...|835d4338-4aa9-4e4...|    [0]|    []|       Usado|      Outros|  Comercial|  []|[{0, 120, Venda, ...|         Saúde|Zona Central|\n",
            "|    2|      [43]|     [43]|      [1]|[Academia, Churra...|12a13315-d67f-48f...|    [2]|    []|       Usado| Apartamento|Residencial| [1]|[{245, null, Vend...|     Guaratiba|  Zona Oeste|\n",
            "|    3|      [43]|     [43]|      [1]|[Churrasqueira, P...|a2e6d7a5-0ff0-484...|    [2]|   [0]|       Usado| Apartamento|Residencial| [0]|[{285, null, Vend...|        Cosmos|  Zona Oeste|\n",
            "|    3|      [43]|     [43]|      [1]|[Churrasqueira, P...|a6e3173b-c950-4db...|    [2]|    []|       Usado| Apartamento|Residencial| [1]|[{250, null, Vend...|     Paciência|  Zona Oeste|\n",
            "|    3|      [43]|     [43]|      [1]|[Churrasqueira, P...|2e6e5dfb-206c-496...|    [2]|   [0]|       Usado| Apartamento|Residencial| [1]|[{245, null, Vend...|     Guaratiba|  Zona Oeste|\n",
            "+-----+----------+---------+---------+--------------------+--------------------+-------+------+------------+------------+-----------+----+--------------------+--------------+------------+\n",
            "only showing top 20 rows\n",
            "\n"
          ]
        }
      ],
      "source": [
        "dados = dados\\\n",
        "        .withColumn('bairro', dados['endereco']['bairro'])\\\n",
        "        .withColumn('zona', dados['endereco']['zona'])\\\n",
        "        .drop('endereco')\n",
        "dados.show()"
      ]
    },
    {
      "cell_type": "markdown",
      "id": "7e957993",
      "metadata": {
        "heading_collapsed": true,
        "id": "7e957993"
      },
      "source": [
        "# Transformando cada campo da coluna \"valores\" em uma coluna separada"
      ]
    },
    {
      "cell_type": "code",
      "execution_count": 30,
      "id": "77f69e00",
      "metadata": {
        "hidden": true,
        "id": "77f69e00"
      },
      "outputs": [],
      "source": [
        "dados = dados\\\n",
        "        .withColumn('condominio', dados.valores.condominio[0])\\\n",
        "        .withColumn('iptu', dados.valores.iptu[0])\\\n",
        "        .withColumn('tipo', dados.valores.tipo[0])\\\n",
        "        .withColumn('valor', dados.valores.valor[0])\\\n",
        "        .drop(dados.valores)"
      ]
    },
    {
      "cell_type": "code",
      "execution_count": 31,
      "id": "ae7eca23",
      "metadata": {
        "hidden": true,
        "id": "ae7eca23",
        "colab": {
          "base_uri": "https://localhost:8080/"
        },
        "outputId": "3ca1b5aa-c114-4afe-f75c-c6524f634c53"
      },
      "outputs": [
        {
          "output_type": "stream",
          "name": "stdout",
          "text": [
            "root\n",
            " |-- andar: long (nullable = true)\n",
            " |-- area_total: array (nullable = true)\n",
            " |    |-- element: string (containsNull = true)\n",
            " |-- area_util: array (nullable = true)\n",
            " |    |-- element: string (containsNull = true)\n",
            " |-- banheiros: array (nullable = true)\n",
            " |    |-- element: long (containsNull = true)\n",
            " |-- caracteristicas: array (nullable = true)\n",
            " |    |-- element: string (containsNull = true)\n",
            " |-- id: string (nullable = true)\n",
            " |-- quartos: array (nullable = true)\n",
            " |    |-- element: long (containsNull = true)\n",
            " |-- suites: array (nullable = true)\n",
            " |    |-- element: long (containsNull = true)\n",
            " |-- tipo_anuncio: string (nullable = true)\n",
            " |-- tipo_unidade: string (nullable = true)\n",
            " |-- tipo_uso: string (nullable = true)\n",
            " |-- vaga: array (nullable = true)\n",
            " |    |-- element: long (containsNull = true)\n",
            " |-- bairro: string (nullable = true)\n",
            " |-- zona: string (nullable = true)\n",
            " |-- condominio: string (nullable = true)\n",
            " |-- iptu: string (nullable = true)\n",
            " |-- tipo: string (nullable = true)\n",
            " |-- valor: string (nullable = true)\n",
            "\n"
          ]
        }
      ],
      "source": [
        "dados.printSchema()"
      ]
    },
    {
      "cell_type": "code",
      "execution_count": 32,
      "id": "2d2533ea",
      "metadata": {
        "hidden": true,
        "id": "2d2533ea",
        "colab": {
          "base_uri": "https://localhost:8080/"
        },
        "outputId": "6bd4d862-28a7-4018-d262-e6c55a054b7b"
      },
      "outputs": [
        {
          "output_type": "stream",
          "name": "stdout",
          "text": [
            "+-----+----------+---------+---------+--------------------+--------------------+-------+------+------------+------------+-----------+----+--------------+------------+----------+----+-----+-----+\n",
            "|andar|area_total|area_util|banheiros|     caracteristicas|                  id|quartos|suites|tipo_anuncio|tipo_unidade|   tipo_uso|vaga|        bairro|        zona|condominio|iptu| tipo|valor|\n",
            "+-----+----------+---------+---------+--------------------+--------------------+-------+------+------------+------------+-----------+----+--------------+------------+----------+----+-----+-----+\n",
            "|    0|        []|     [16]|      [0]|                  []|47d553e0-79f2-4a4...|    [0]|   [0]|       Usado|      Outros|  Comercial| [1]|        Centro|Zona Central|       260| 107|Venda|10000|\n",
            "|    0|        []|     [14]|      [0]|                  []|b6ffbae1-17f6-487...|    [0]|    []|       Usado|      Outros|  Comercial| [0]|        Centro|Zona Central|       260| 107|Venda|10000|\n",
            "|    0|    [1026]|   [1026]|      [0]|                  []|1fb030a5-9e3e-4a1...|    [0]|    []|       Usado|      Outros|  Comercial| [0]|Maria da Graça|  Zona Norte|      null|1613|Venda|10000|\n",
            "|    0|     [120]|    [120]|      [0]|[Portão eletrônic...|ac6cb348-69d6-45a...|    [0]|    []|       Usado|      Outros|Residencial|  []|  Campo Grande|  Zona Oeste|        80|null|Venda|10000|\n",
            "|    0|       [3]|      [3]|      [0]|                  []|e032b908-ef42-4d4...|    [0]|    []|       Usado|      Outros|Residencial|  []| São Cristóvão|  Zona Norte|         0|   0|Venda| 5000|\n",
            "|    0|      [20]|     [15]|      [1]|                  []|df9cf0b8-b972-433...|    [0]|    []|       Usado|      Outros|  Comercial| [1]|        Centro|Zona Central|       223|  87|Venda|18500|\n",
            "|    3|      [43]|     [43]|      [1]|[Academia, Churra...|d2e3a3aa-09b5-45a...|    [2]|    []|       Usado| Apartamento|Residencial| [1]|     Paciência|  Zona Oeste|       245|null|Venda|15000|\n",
            "|    2|      [42]|     [42]|      [1]|[Churrasqueira, P...|085bab2c-87ad-452...|    [2]|    []|       Usado| Apartamento|Residencial| [1]|     Paciência|  Zona Oeste|         0|   0|Venda|15000|\n",
            "|    0|        []|     [12]|      [0]|[Portaria 24h, El...|096ad966-dc36-47b...|    [0]|    []|       Usado|      Outros|  Comercial| [1]|        Centro|Zona Central|       250|null|Venda|20000|\n",
            "|    1|      [41]|     [41]|      [1]|[Portaria 24h, Co...|18d22cbe-1b86-476...|    [2]|    []|       Usado| Apartamento|Residencial| [1]|     Guaratiba|  Zona Oeste|         0|   0|Venda|20000|\n",
            "|    3|      [43]|     [43]|      [1]|[Churrasqueira, P...|bed8a354-9317-442...|    [2]|    []|       Usado| Apartamento|Residencial| [0]|        Cosmos|  Zona Oeste|       285|null|Venda|20000|\n",
            "|    0|      [10]|      [4]|      [0]|[Elevador, Portar...|b7d0fbd3-0b28-420...|    [0]|    []|       Usado|      Outros|  Comercial| [0]|        Centro|Zona Central|       200|  86|Venda|11500|\n",
            "|    0|      [12]|     [12]|      [1]|      [Portaria 24h]|c6571c11-166e-4a4...|    [0]|    []|       Usado|      Outros|  Comercial|  []|    Copacabana|    Zona Sul|       470|null|Venda|12000|\n",
            "|    0|      [17]|     [17]|      [0]|          [Elevador]|46d5b560-205f-45f...|    [0]|    []|       Usado|      Outros|  Comercial| [1]|        Centro|Zona Central|       294|  98|Venda|18000|\n",
            "|    1|      [32]|     [32]|       []|[Elevador, Condom...|db197997-00e6-4d6...|     []|    []|       Usado|      Outros|  Comercial| [1]|        Centro|Zona Central|       684|null|Venda|15000|\n",
            "|    0|        []|     [10]|      [0]|[Elevador, Condom...|835d4338-4aa9-4e4...|    [0]|    []|       Usado|      Outros|  Comercial|  []|         Saúde|Zona Central|         0| 120|Venda|20000|\n",
            "|    2|      [43]|     [43]|      [1]|[Academia, Churra...|12a13315-d67f-48f...|    [2]|    []|       Usado| Apartamento|Residencial| [1]|     Guaratiba|  Zona Oeste|       245|null|Venda|15000|\n",
            "|    3|      [43]|     [43]|      [1]|[Churrasqueira, P...|a2e6d7a5-0ff0-484...|    [2]|   [0]|       Usado| Apartamento|Residencial| [0]|        Cosmos|  Zona Oeste|       285|null|Venda|20000|\n",
            "|    3|      [43]|     [43]|      [1]|[Churrasqueira, P...|a6e3173b-c950-4db...|    [2]|    []|       Usado| Apartamento|Residencial| [1]|     Paciência|  Zona Oeste|       250|null|Venda|15000|\n",
            "|    3|      [43]|     [43]|      [1]|[Churrasqueira, P...|2e6e5dfb-206c-496...|    [2]|   [0]|       Usado| Apartamento|Residencial| [1]|     Guaratiba|  Zona Oeste|       245|null|Venda|15000|\n",
            "+-----+----------+---------+---------+--------------------+--------------------+-------+------+------------+------------+-----------+----+--------------+------------+----------+----+-----+-----+\n",
            "only showing top 20 rows\n",
            "\n"
          ]
        }
      ],
      "source": [
        "dados.show()"
      ]
    },
    {
      "cell_type": "markdown",
      "id": "0b7208ee",
      "metadata": {
        "id": "0b7208ee"
      },
      "source": [
        "# Selecionando apenas os valores de Venda."
      ]
    },
    {
      "cell_type": "code",
      "execution_count": 33,
      "id": "7e76c2d5",
      "metadata": {
        "id": "7e76c2d5"
      },
      "outputs": [],
      "source": [
        "dados = dados\\\n",
        "            .select('*')\\\n",
        "            .where('tipo==\"venda\"')"
      ]
    },
    {
      "cell_type": "markdown",
      "id": "55fc8c16",
      "metadata": {
        "id": "55fc8c16"
      },
      "source": [
        "# Salvando os dados no formato parquet "
      ]
    },
    {
      "cell_type": "code",
      "execution_count": 34,
      "id": "200a185a",
      "metadata": {
        "id": "200a185a"
      },
      "outputs": [],
      "source": [
        "dados.write.parquet(\n",
        "    path='/content/drive/MyDrive/Challenge_Pyspark_Alura/parquet',\n",
        "    mode='overwrite'\n",
        ")"
      ]
    },
    {
      "cell_type": "code",
      "source": [
        "teste_parquet = spark.read.parquet(\n",
        "    '/content/drive/MyDrive/Challenge_Pyspark_Alura/parquet'\n",
        "  )"
      ],
      "metadata": {
        "id": "LAkxAOoTzj_K"
      },
      "id": "LAkxAOoTzj_K",
      "execution_count": 35,
      "outputs": []
    },
    {
      "cell_type": "code",
      "execution_count": 36,
      "id": "b98f314a",
      "metadata": {
        "id": "b98f314a",
        "colab": {
          "base_uri": "https://localhost:8080/"
        },
        "outputId": "c51c4815-f3f6-4558-c363-2e41f0404f70"
      },
      "outputs": [
        {
          "output_type": "stream",
          "name": "stdout",
          "text": [
            "root\n",
            " |-- andar: long (nullable = true)\n",
            " |-- area_total: array (nullable = true)\n",
            " |    |-- element: string (containsNull = true)\n",
            " |-- area_util: array (nullable = true)\n",
            " |    |-- element: string (containsNull = true)\n",
            " |-- banheiros: array (nullable = true)\n",
            " |    |-- element: long (containsNull = true)\n",
            " |-- caracteristicas: array (nullable = true)\n",
            " |    |-- element: string (containsNull = true)\n",
            " |-- id: string (nullable = true)\n",
            " |-- quartos: array (nullable = true)\n",
            " |    |-- element: long (containsNull = true)\n",
            " |-- suites: array (nullable = true)\n",
            " |    |-- element: long (containsNull = true)\n",
            " |-- tipo_anuncio: string (nullable = true)\n",
            " |-- tipo_unidade: string (nullable = true)\n",
            " |-- tipo_uso: string (nullable = true)\n",
            " |-- vaga: array (nullable = true)\n",
            " |    |-- element: long (containsNull = true)\n",
            " |-- bairro: string (nullable = true)\n",
            " |-- zona: string (nullable = true)\n",
            " |-- condominio: string (nullable = true)\n",
            " |-- iptu: string (nullable = true)\n",
            " |-- tipo: string (nullable = true)\n",
            " |-- valor: string (nullable = true)\n",
            "\n"
          ]
        }
      ],
      "source": [
        "teste_parquet.printSchema()"
      ]
    },
    {
      "cell_type": "markdown",
      "source": [
        "# Salvando os dados em CSV"
      ],
      "metadata": {
        "id": "CTiwzEiRzTtO"
      },
      "id": "CTiwzEiRzTtO"
    },
    {
      "cell_type": "code",
      "source": [
        "from pyspark.sql.types import StringType"
      ],
      "metadata": {
        "id": "MUkyQwlVQvlG"
      },
      "id": "MUkyQwlVQvlG",
      "execution_count": 37,
      "outputs": []
    },
    {
      "cell_type": "code",
      "source": [
        "dados = dados.withColumn('caracteristicas', dados['caracteristicas'].cast(StringType()))\n",
        "dados.select('caracteristicas').printSchema()"
      ],
      "metadata": {
        "colab": {
          "base_uri": "https://localhost:8080/"
        },
        "id": "mWga2NCjQy7W",
        "outputId": "48ed91be-1000-4c48-a7b0-77be7b8e88f9"
      },
      "id": "mWga2NCjQy7W",
      "execution_count": 46,
      "outputs": [
        {
          "output_type": "stream",
          "name": "stdout",
          "text": [
            "root\n",
            " |-- caracteristicas: string (nullable = true)\n",
            "\n"
          ]
        }
      ]
    },
    {
      "cell_type": "code",
      "source": [
        "dados = dados.drop('endereco')\n",
        "dados = dados.drop('valores')"
      ],
      "metadata": {
        "id": "CHaPANZd0PL3"
      },
      "id": "CHaPANZd0PL3",
      "execution_count": 49,
      "outputs": []
    },
    {
      "cell_type": "code",
      "source": [
        "dados.printSchema()"
      ],
      "metadata": {
        "colab": {
          "base_uri": "https://localhost:8080/"
        },
        "id": "W6BmYrYaaDR5",
        "outputId": "1c5d3a6d-db9e-4b42-e860-d3a7565e9acc"
      },
      "id": "W6BmYrYaaDR5",
      "execution_count": 52,
      "outputs": [
        {
          "output_type": "stream",
          "name": "stdout",
          "text": [
            "root\n",
            " |-- andar: long (nullable = true)\n",
            " |-- area_total: string (nullable = true)\n",
            " |-- area_util: string (nullable = true)\n",
            " |-- banheiros: long (nullable = true)\n",
            " |-- caracteristicas: string (nullable = true)\n",
            " |-- id: string (nullable = true)\n",
            " |-- quartos: long (nullable = true)\n",
            " |-- suites: long (nullable = true)\n",
            " |-- tipo_anuncio: string (nullable = true)\n",
            " |-- tipo_unidade: string (nullable = true)\n",
            " |-- tipo_uso: string (nullable = true)\n",
            " |-- vaga: long (nullable = true)\n",
            " |-- bairro: string (nullable = true)\n",
            " |-- zona: string (nullable = true)\n",
            " |-- condominio: string (nullable = true)\n",
            " |-- iptu: string (nullable = true)\n",
            " |-- tipo: string (nullable = true)\n",
            " |-- valor: string (nullable = true)\n",
            "\n"
          ]
        }
      ]
    },
    {
      "cell_type": "code",
      "source": [
        "dados.write.csv(\n",
        "    path='/content/drive/MyDrive/Challenge_Pyspark_Alura/csv',\n",
        "    mode='overwrite',\n",
        "    sep=';',\n",
        "    header=True,\n",
        ")"
      ],
      "metadata": {
        "id": "YrN-2jmC0GbI"
      },
      "id": "YrN-2jmC0GbI",
      "execution_count": 53,
      "outputs": []
    },
    {
      "cell_type": "markdown",
      "source": [
        "# Comparando o Desempenho de Leitura"
      ],
      "metadata": {
        "id": "-a2Ai1N1axGY"
      },
      "id": "-a2Ai1N1axGY"
    },
    {
      "cell_type": "code",
      "source": [
        "%time\n",
        "\n",
        "parquet = spark.read.parquet('/content/drive/MyDrive/Challenge_Pyspark_Alura/parquet')\n",
        "parquet.show()"
      ],
      "metadata": {
        "colab": {
          "base_uri": "https://localhost:8080/"
        },
        "id": "a86Gb4DpRjhq",
        "outputId": "5ccfe5b1-d65f-49e8-81ce-3baceaa462e4"
      },
      "id": "a86Gb4DpRjhq",
      "execution_count": 54,
      "outputs": [
        {
          "output_type": "stream",
          "name": "stdout",
          "text": [
            "CPU times: user 4 µs, sys: 0 ns, total: 4 µs\n",
            "Wall time: 8.11 µs\n",
            "+-----+----------+---------+---------+---------------+---+-------+------+------------+------------+--------+----+------+----+----------+----+----+-----+\n",
            "|andar|area_total|area_util|banheiros|caracteristicas| id|quartos|suites|tipo_anuncio|tipo_unidade|tipo_uso|vaga|bairro|zona|condominio|iptu|tipo|valor|\n",
            "+-----+----------+---------+---------+---------------+---+-------+------+------------+------------+--------+----+------+----+----------+----+----+-----+\n",
            "+-----+----------+---------+---------+---------------+---+-------+------+------------+------------+--------+----+------+----+----------+----+----+-----+\n",
            "\n"
          ]
        }
      ]
    },
    {
      "cell_type": "code",
      "source": [
        "%time\n",
        "\n",
        "csv = spark.read.csv('/content/drive/MyDrive/Challenge_Pyspark_Alura/csv')\n",
        "csv"
      ],
      "metadata": {
        "colab": {
          "base_uri": "https://localhost:8080/"
        },
        "id": "EJhDw6cwbIEO",
        "outputId": "b85af521-04f1-4288-e555-6f339150e9ed"
      },
      "id": "EJhDw6cwbIEO",
      "execution_count": 55,
      "outputs": [
        {
          "output_type": "stream",
          "name": "stdout",
          "text": [
            "CPU times: user 5 µs, sys: 0 ns, total: 5 µs\n",
            "Wall time: 9.78 µs\n"
          ]
        },
        {
          "output_type": "execute_result",
          "data": {
            "text/plain": [
              "DataFrame[_c0: string]"
            ]
          },
          "metadata": {},
          "execution_count": 55
        }
      ]
    },
    {
      "cell_type": "code",
      "source": [
        "spark.stop()"
      ],
      "metadata": {
        "id": "COp3FNq0bQou"
      },
      "id": "COp3FNq0bQou",
      "execution_count": 56,
      "outputs": []
    },
    {
      "cell_type": "code",
      "source": [],
      "metadata": {
        "id": "HNhZpznYbd7k"
      },
      "id": "HNhZpznYbd7k",
      "execution_count": null,
      "outputs": []
    }
  ],
  "metadata": {
    "kernelspec": {
      "display_name": "Python 3 (ipykernel)",
      "language": "python",
      "name": "python3"
    },
    "language_info": {
      "codemirror_mode": {
        "name": "ipython",
        "version": 3
      },
      "file_extension": ".py",
      "mimetype": "text/x-python",
      "name": "python",
      "nbconvert_exporter": "python",
      "pygments_lexer": "ipython3",
      "version": "3.9.12"
    },
    "latex_envs": {
      "LaTeX_envs_menu_present": true,
      "autoclose": false,
      "autocomplete": true,
      "bibliofile": "biblio.bib",
      "cite_by": "apalike",
      "current_citInitial": 1,
      "eqLabelWithNumbers": true,
      "eqNumInitial": 1,
      "hotkeys": {
        "equation": "Ctrl-E",
        "itemize": "Ctrl-I"
      },
      "labels_anchors": false,
      "latex_user_defs": false,
      "report_style_numbering": false,
      "user_envs_cfg": false
    },
    "toc": {
      "base_numbering": 1,
      "nav_menu": {},
      "number_sections": true,
      "sideBar": true,
      "skip_h1_title": false,
      "title_cell": "Table of Contents",
      "title_sidebar": "Contents",
      "toc_cell": false,
      "toc_position": {},
      "toc_section_display": true,
      "toc_window_display": false
    },
    "colab": {
      "provenance": []
    }
  },
  "nbformat": 4,
  "nbformat_minor": 5
}