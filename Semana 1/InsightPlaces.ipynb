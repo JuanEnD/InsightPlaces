{
  "cells": [
    {
      "cell_type": "markdown",
      "id": "9f3c0f1e",
      "metadata": {
        "id": "9f3c0f1e"
      },
      "source": [
        "# Importando o Spark"
      ]
    },
    {
      "cell_type": "code",
      "execution_count": null,
      "id": "ebacf2d2",
      "metadata": {
        "id": "ebacf2d2",
        "colab": {
          "base_uri": "https://localhost:8080/"
        },
        "outputId": "85c7dc9d-1edc-4e78-98c4-29a2996759e9"
      },
      "outputs": [
        {
          "output_type": "stream",
          "name": "stdout",
          "text": [
            "Looking in indexes: https://pypi.org/simple, https://us-python.pkg.dev/colab-wheels/public/simple/\n",
            "Requirement already satisfied: pySpark in /usr/local/lib/python3.9/dist-packages (3.4.0)\n",
            "Requirement already satisfied: py4j==0.10.9.7 in /usr/local/lib/python3.9/dist-packages (from pySpark) (0.10.9.7)\n"
          ]
        }
      ],
      "source": [
        "!pip install pySpark"
      ]
    },
    {
      "cell_type": "code",
      "execution_count": null,
      "id": "e53fd683",
      "metadata": {
        "id": "e53fd683"
      },
      "outputs": [],
      "source": [
        "from pyspark.sql import SparkSession"
      ]
    },
    {
      "cell_type": "code",
      "execution_count": null,
      "id": "1f70bf1a",
      "metadata": {
        "id": "1f70bf1a"
      },
      "outputs": [],
      "source": [
        "spark = SparkSession.builder.master('local[*]').appName(\"Challenge Alura Spark\").config('spark.ui.port', '4050').getOrCreate()"
      ]
    },
    {
      "cell_type": "code",
      "execution_count": null,
      "id": "f346197e",
      "metadata": {
        "id": "f346197e",
        "colab": {
          "base_uri": "https://localhost:8080/",
          "height": 344
        },
        "outputId": "6695dcb3-ac53-407f-97e6-b302ae20448a"
      },
      "outputs": [
        {
          "output_type": "execute_result",
          "data": {
            "text/plain": [
              "<pyspark.sql.session.SparkSession at 0x7f863649d3d0>"
            ],
            "text/html": [
              "\n",
              "            <div>\n",
              "                <p><b>SparkSession - in-memory</b></p>\n",
              "                \n",
              "        <div>\n",
              "            <p><b>SparkContext</b></p>\n",
              "\n",
              "            <p><a href=\"http://36a72763c490:4050\">Spark UI</a></p>\n",
              "\n",
              "            <dl>\n",
              "              <dt>Version</dt>\n",
              "                <dd><code>v3.4.0</code></dd>\n",
              "              <dt>Master</dt>\n",
              "                <dd><code>local[*]</code></dd>\n",
              "              <dt>AppName</dt>\n",
              "                <dd><code>Challenge Alura Spark</code></dd>\n",
              "            </dl>\n",
              "        </div>\n",
              "        \n",
              "            </div>\n",
              "        "
            ]
          },
          "metadata": {},
          "execution_count": 4
        }
      ],
      "source": [
        "spark"
      ]
    },
    {
      "cell_type": "markdown",
      "source": [
        "# Montando no Drive para caso for usar no Colab\n",
        "\n",
        "\n",
        "\n"
      ],
      "metadata": {
        "id": "ibkW_rwfwAgT"
      },
      "id": "ibkW_rwfwAgT"
    },
    {
      "cell_type": "code",
      "source": [
        "from google.colab import drive\n",
        "drive.mount('/content/drive')"
      ],
      "metadata": {
        "colab": {
          "base_uri": "https://localhost:8080/"
        },
        "id": "KedRyNyNv_vu",
        "outputId": "c0ae2f59-9674-412c-93be-35c0a1b5e321"
      },
      "id": "KedRyNyNv_vu",
      "execution_count": null,
      "outputs": [
        {
          "output_type": "stream",
          "name": "stdout",
          "text": [
            "Drive already mounted at /content/drive; to attempt to forcibly remount, call drive.mount(\"/content/drive\", force_remount=True).\n"
          ]
        }
      ]
    },
    {
      "cell_type": "markdown",
      "id": "47f94544",
      "metadata": {
        "heading_collapsed": true,
        "id": "47f94544"
      },
      "source": [
        "# Importando os Dados, colocando em um DataFrame"
      ]
    },
    {
      "cell_type": "code",
      "execution_count": null,
      "id": "c8393644",
      "metadata": {
        "hidden": true,
        "id": "c8393644"
      },
      "outputs": [],
      "source": [
        "dados = spark.read.json('/content/drive/MyDrive/Challenge_Pyspark_Alura/Data/dataset_bruto.json')"
      ]
    },
    {
      "cell_type": "code",
      "execution_count": null,
      "id": "ae82b68f",
      "metadata": {
        "hidden": true,
        "id": "ae82b68f"
      },
      "outputs": [],
      "source": [
        "linhas = dados.count()\n",
        "colunas = len(dados.columns)"
      ]
    },
    {
      "cell_type": "code",
      "execution_count": null,
      "id": "aa0012d0",
      "metadata": {
        "hidden": true,
        "id": "aa0012d0",
        "colab": {
          "base_uri": "https://localhost:8080/"
        },
        "outputId": "4e3c5a2c-3b3c-4fee-f75e-0f980880ade8"
      },
      "outputs": [
        {
          "output_type": "stream",
          "name": "stdout",
          "text": [
            "A quantidade de linhas é 89083 e a quantidade de colunas é 3\n"
          ]
        }
      ],
      "source": [
        "print(f'A quantidade de linhas é {linhas} e a quantidade de colunas é {colunas}')"
      ]
    },
    {
      "cell_type": "code",
      "execution_count": null,
      "id": "80e30d3b",
      "metadata": {
        "hidden": true,
        "id": "80e30d3b",
        "colab": {
          "base_uri": "https://localhost:8080/"
        },
        "outputId": "dcc3b598-7668-4e79-f569-15e8847e3005"
      },
      "outputs": [
        {
          "output_type": "stream",
          "name": "stdout",
          "text": [
            "root\n",
            " |-- anuncio: struct (nullable = true)\n",
            " |    |-- andar: long (nullable = true)\n",
            " |    |-- area_total: array (nullable = true)\n",
            " |    |    |-- element: string (containsNull = true)\n",
            " |    |-- area_util: array (nullable = true)\n",
            " |    |    |-- element: string (containsNull = true)\n",
            " |    |-- banheiros: array (nullable = true)\n",
            " |    |    |-- element: long (containsNull = true)\n",
            " |    |-- caracteristicas: array (nullable = true)\n",
            " |    |    |-- element: string (containsNull = true)\n",
            " |    |-- endereco: struct (nullable = true)\n",
            " |    |    |-- bairro: string (nullable = true)\n",
            " |    |    |-- cep: string (nullable = true)\n",
            " |    |    |-- cidade: string (nullable = true)\n",
            " |    |    |-- estado: string (nullable = true)\n",
            " |    |    |-- latitude: double (nullable = true)\n",
            " |    |    |-- longitude: double (nullable = true)\n",
            " |    |    |-- pais: string (nullable = true)\n",
            " |    |    |-- rua: string (nullable = true)\n",
            " |    |    |-- zona: string (nullable = true)\n",
            " |    |-- id: string (nullable = true)\n",
            " |    |-- quartos: array (nullable = true)\n",
            " |    |    |-- element: long (containsNull = true)\n",
            " |    |-- suites: array (nullable = true)\n",
            " |    |    |-- element: long (containsNull = true)\n",
            " |    |-- tipo_anuncio: string (nullable = true)\n",
            " |    |-- tipo_unidade: string (nullable = true)\n",
            " |    |-- tipo_uso: string (nullable = true)\n",
            " |    |-- vaga: array (nullable = true)\n",
            " |    |    |-- element: long (containsNull = true)\n",
            " |    |-- valores: array (nullable = true)\n",
            " |    |    |-- element: struct (containsNull = true)\n",
            " |    |    |    |-- condominio: string (nullable = true)\n",
            " |    |    |    |-- iptu: string (nullable = true)\n",
            " |    |    |    |-- tipo: string (nullable = true)\n",
            " |    |    |    |-- valor: string (nullable = true)\n",
            " |-- imagens: array (nullable = true)\n",
            " |    |-- element: struct (containsNull = true)\n",
            " |    |    |-- id: string (nullable = true)\n",
            " |    |    |-- url: string (nullable = true)\n",
            " |-- usuario: struct (nullable = true)\n",
            " |    |-- id: string (nullable = true)\n",
            " |    |-- nome: string (nullable = true)\n",
            "\n"
          ]
        }
      ],
      "source": [
        "# Estrutura da Base de Dados\n",
        "\n",
        "dados.printSchema()"
      ]
    },
    {
      "cell_type": "code",
      "execution_count": null,
      "id": "50aaa293",
      "metadata": {
        "hidden": true,
        "id": "50aaa293",
        "colab": {
          "base_uri": "https://localhost:8080/"
        },
        "outputId": "bf0622fb-a5de-407e-8146-87c521fdf047"
      },
      "outputs": [
        {
          "output_type": "stream",
          "name": "stdout",
          "text": [
            "+--------------------+--------------------+--------------------+\n",
            "|             anuncio|             imagens|             usuario|\n",
            "+--------------------+--------------------+--------------------+\n",
            "|{0, [], [16], [0]...|[{39d6282a-71f3-4...|{9d44563d-3405-4e...|\n",
            "|{0, [], [14], [0]...|[{23d2b3ab-45b0-4...|{36245be7-70fe-40...|\n",
            "|{0, [1026], [1026...|[{1da65baa-368b-4...|{9dc415d8-1397-4d...|\n",
            "|{0, [120], [120],...|[{79b542c6-49b4-4...|{9911a2df-f299-4a...|\n",
            "|{0, [3], [3], [0]...|[{e2bc497b-6510-4...|{240a7aab-12e5-40...|\n",
            "|{0, [20], [15], [...|[{2de09d46-dc0d-4...|{3c7057f5-0923-42...|\n",
            "|{3, [43], [43], [...|[{147a80d9-cd40-4...|{5a9736b5-aaa0-4a...|\n",
            "|{2, [42], [42], [...|[{35740004-063d-4...|{ec48d96a-137c-49...|\n",
            "|{0, [], [12], [0]...|[{6d3d2aec-c96f-4...|{dad7db63-e19c-44...|\n",
            "|{1, [41], [41], [...|[{3d404069-418e-4...|{a845f35f-3ab3-46...|\n",
            "|{3, [43], [43], [...|[{5b8a8de7-2088-4...|{8c8de313-45d5-4c...|\n",
            "|{0, [10], [4], [0...|[{5385da42-8276-4...|{0b1d4ee0-2bc3-4c...|\n",
            "|{0, [12], [12], [...|[{7e4c2d03-1188-4...|{d744ac23-f16e-44...|\n",
            "|{0, [17], [17], [...|[{db608e30-f3e0-4...|{edc3fcf6-4441-40...|\n",
            "|{1, [32], [32], [...|[{318d4e40-f759-4...|{84dfa72e-10dd-48...|\n",
            "|{0, [], [10], [0]...|[{9e39e46f-59f8-4...|{fc1d2b73-9d29-4c...|\n",
            "|{2, [43], [43], [...|[{3fe1c1cc-7a9c-4...|{7f2de69f-68f8-40...|\n",
            "|{3, [43], [43], [...|[{fd04f07d-cfdf-4...|{12ce772e-4aac-46...|\n",
            "|{3, [43], [43], [...|[{76f97b59-a61b-4...|{cc17fc2c-6be2-4e...|\n",
            "|{3, [43], [43], [...|[{95d9678e-491f-4...|{286649de-3099-4c...|\n",
            "+--------------------+--------------------+--------------------+\n",
            "only showing top 20 rows\n",
            "\n"
          ]
        }
      ],
      "source": [
        "dados.show()"
      ]
    },
    {
      "cell_type": "markdown",
      "id": "b557a432",
      "metadata": {
        "heading_collapsed": true,
        "id": "b557a432"
      },
      "source": [
        "# Separando os Dados das Colunas e deixando apenas a coluna Anuncio (Porque as outras não são necessárias)"
      ]
    },
    {
      "cell_type": "code",
      "execution_count": null,
      "id": "ef489efe",
      "metadata": {
        "hidden": true,
        "id": "ef489efe"
      },
      "outputs": [],
      "source": [
        "anuncio = dados.select('anuncio.*')"
      ]
    },
    {
      "cell_type": "code",
      "execution_count": null,
      "id": "916b4da5",
      "metadata": {
        "hidden": true,
        "id": "916b4da5",
        "colab": {
          "base_uri": "https://localhost:8080/"
        },
        "outputId": "99c9c5ed-07f4-4dec-d609-7516a4559db2"
      },
      "outputs": [
        {
          "output_type": "stream",
          "name": "stdout",
          "text": [
            "+-----+----------+---------+---------+--------------------+--------------------+--------------------+-------+------+------------+------------+-----------+----+--------------------+\n",
            "|andar|area_total|area_util|banheiros|     caracteristicas|            endereco|                  id|quartos|suites|tipo_anuncio|tipo_unidade|   tipo_uso|vaga|             valores|\n",
            "+-----+----------+---------+---------+--------------------+--------------------+--------------------+-------+------+------------+------------+-----------+----+--------------------+\n",
            "|    0|        []|     [16]|      [0]|                  []|{Centro, 20061003...|47d553e0-79f2-4a4...|    [0]|   [0]|       Usado|      Outros|  Comercial| [1]|[{260, 107, Venda...|\n",
            "|    0|        []|     [14]|      [0]|                  []|{Centro, 20051040...|b6ffbae1-17f6-487...|    [0]|    []|       Usado|      Outros|  Comercial| [0]|[{260, 107, Venda...|\n",
            "|    0|    [1026]|   [1026]|      [0]|                  []|{Maria da Graça, ...|1fb030a5-9e3e-4a1...|    [0]|    []|       Usado|      Outros|  Comercial| [0]|[{null, 1613, Ven...|\n",
            "|    0|     [120]|    [120]|      [0]|[Portão eletrônic...|{Campo Grande, 23...|ac6cb348-69d6-45a...|    [0]|    []|       Usado|      Outros|Residencial|  []|[{80, null, Venda...|\n",
            "|    0|       [3]|      [3]|      [0]|                  []|{São Cristóvão, 2...|e032b908-ef42-4d4...|    [0]|    []|       Usado|      Outros|Residencial|  []|[{0, 0, Venda, 50...|\n",
            "|    0|      [20]|     [15]|      [1]|                  []|{Centro, 20231047...|df9cf0b8-b972-433...|    [0]|    []|       Usado|      Outros|  Comercial| [1]|[{223, 87, Venda,...|\n",
            "|    3|      [43]|     [43]|      [1]|[Academia, Churra...|{Paciência, 23585...|d2e3a3aa-09b5-45a...|    [2]|    []|       Usado| Apartamento|Residencial| [1]|[{245, null, Vend...|\n",
            "|    2|      [42]|     [42]|      [1]|[Churrasqueira, P...|{Paciência, 23585...|085bab2c-87ad-452...|    [2]|    []|       Usado| Apartamento|Residencial| [1]|[{0, 0, Venda, 15...|\n",
            "|    0|        []|     [12]|      [0]|[Portaria 24h, El...|{Centro, 20231047...|096ad966-dc36-47b...|    [0]|    []|       Usado|      Outros|  Comercial| [1]|[{250, null, Vend...|\n",
            "|    1|      [41]|     [41]|      [1]|[Portaria 24h, Co...|{Guaratiba, 23036...|18d22cbe-1b86-476...|    [2]|    []|       Usado| Apartamento|Residencial| [1]|[{0, 0, Venda, 20...|\n",
            "|    3|      [43]|     [43]|      [1]|[Churrasqueira, P...|{Cosmos, 23066271...|bed8a354-9317-442...|    [2]|    []|       Usado| Apartamento|Residencial| [0]|[{285, null, Vend...|\n",
            "|    0|      [10]|      [4]|      [0]|[Elevador, Portar...|{Centro, 20080021...|b7d0fbd3-0b28-420...|    [0]|    []|       Usado|      Outros|  Comercial| [0]|[{200, 86, Venda,...|\n",
            "|    0|      [12]|     [12]|      [1]|      [Portaria 24h]|{Copacabana, 2202...|c6571c11-166e-4a4...|    [0]|    []|       Usado|      Outros|  Comercial|  []|[{470, null, Vend...|\n",
            "|    0|      [17]|     [17]|      [0]|          [Elevador]|{Centro, 20070021...|46d5b560-205f-45f...|    [0]|    []|       Usado|      Outros|  Comercial| [1]|[{294, 98, Venda,...|\n",
            "|    1|      [32]|     [32]|       []|[Elevador, Condom...|{Centro, 20090020...|db197997-00e6-4d6...|     []|    []|       Usado|      Outros|  Comercial| [1]|[{684, null, Vend...|\n",
            "|    0|        []|     [10]|      [0]|[Elevador, Condom...|{Saúde, 20080040,...|835d4338-4aa9-4e4...|    [0]|    []|       Usado|      Outros|  Comercial|  []|[{0, 120, Venda, ...|\n",
            "|    2|      [43]|     [43]|      [1]|[Academia, Churra...|{Guaratiba, 23036...|12a13315-d67f-48f...|    [2]|    []|       Usado| Apartamento|Residencial| [1]|[{245, null, Vend...|\n",
            "|    3|      [43]|     [43]|      [1]|[Churrasqueira, P...|{Cosmos, 23066271...|a2e6d7a5-0ff0-484...|    [2]|   [0]|       Usado| Apartamento|Residencial| [0]|[{285, null, Vend...|\n",
            "|    3|      [43]|     [43]|      [1]|[Churrasqueira, P...|{Paciência, 23585...|a6e3173b-c950-4db...|    [2]|    []|       Usado| Apartamento|Residencial| [1]|[{250, null, Vend...|\n",
            "|    3|      [43]|     [43]|      [1]|[Churrasqueira, P...|{Guaratiba, 23036...|2e6e5dfb-206c-496...|    [2]|   [0]|       Usado| Apartamento|Residencial| [1]|[{245, null, Vend...|\n",
            "+-----+----------+---------+---------+--------------------+--------------------+--------------------+-------+------+------------+------------+-----------+----+--------------------+\n",
            "only showing top 20 rows\n",
            "\n"
          ]
        }
      ],
      "source": [
        "anuncio.show()"
      ]
    },
    {
      "cell_type": "markdown",
      "id": "c207e1e1",
      "metadata": {
        "heading_collapsed": true,
        "id": "c207e1e1"
      },
      "source": [
        "# Filtrar a base de dados (tipo_uso, tipo_unidade e tipo_anuncio)"
      ]
    },
    {
      "cell_type": "code",
      "execution_count": null,
      "id": "d41c6996",
      "metadata": {
        "hidden": true,
        "id": "d41c6996",
        "colab": {
          "base_uri": "https://localhost:8080/"
        },
        "outputId": "7536fc90-3fba-4211-9554-b6fe1d34d2bd"
      },
      "outputs": [
        {
          "output_type": "stream",
          "name": "stdout",
          "text": [
            "+-----------+------------+------------+-----+\n",
            "|   tipo_uso|tipo_unidade|tipo_anuncio|count|\n",
            "+-----------+------------+------------+-----+\n",
            "|Residencial| Apartamento|       Usado|66562|\n",
            "|Residencial|        Casa|       Usado|10224|\n",
            "|Residencial|      Outros|       Usado| 7502|\n",
            "|  Comercial|      Outros|       Usado| 4443|\n",
            "|Residencial| Apartamento|  Lançamento|  235|\n",
            "|  Comercial|        Casa|       Usado|   92|\n",
            "|Residencial|      Outros|  Lançamento|   15|\n",
            "|  Comercial| Apartamento|       Usado|    4|\n",
            "|  Comercial|      Outros|  Lançamento|    3|\n",
            "|Residencial|        Casa|  Lançamento|    3|\n",
            "+-----------+------------+------------+-----+\n",
            "\n"
          ]
        }
      ],
      "source": [
        "anuncio.groupby(['tipo_uso', 'tipo_unidade', 'tipo_anuncio']).count().orderBy('count', ascending=False).show()"
      ]
    },
    {
      "cell_type": "markdown",
      "source": [
        "## Coluna: Tipo_Uso"
      ],
      "metadata": {
        "id": "ONoVe5a1uzen"
      },
      "id": "ONoVe5a1uzen"
    },
    {
      "cell_type": "code",
      "execution_count": null,
      "id": "57cf6e9a",
      "metadata": {
        "hidden": true,
        "id": "57cf6e9a",
        "colab": {
          "base_uri": "https://localhost:8080/"
        },
        "outputId": "4004f675-710c-4e7e-b223-979bf662ad7c"
      },
      "outputs": [
        {
          "output_type": "stream",
          "name": "stdout",
          "text": [
            "+-----------+-----+\n",
            "|   tipo_uso|count|\n",
            "+-----------+-----+\n",
            "|  Comercial| 4542|\n",
            "|Residencial|84541|\n",
            "+-----------+-----+\n",
            "\n"
          ]
        }
      ],
      "source": [
        "anuncio\\\n",
        "  .select('tipo_uso')\\\n",
        "  .groupBy('tipo_uso')\\\n",
        "  .count()\\\n",
        "  .show()"
      ]
    },
    {
      "cell_type": "code",
      "source": [
        "anuncio=anuncio.filter('tipo_uso=\"Residencial\"')"
      ],
      "metadata": {
        "id": "fNswG6vnuKDh"
      },
      "id": "fNswG6vnuKDh",
      "execution_count": null,
      "outputs": []
    },
    {
      "cell_type": "code",
      "source": [
        "anuncio\\\n",
        "    .groupBy('tipo_uso')\\\n",
        "    .count()\\\n",
        "    .show()"
      ],
      "metadata": {
        "colab": {
          "base_uri": "https://localhost:8080/"
        },
        "id": "WwoLl2klupPn",
        "outputId": "80b6d0bc-6517-47e5-9b98-0d3a0a700a61"
      },
      "id": "WwoLl2klupPn",
      "execution_count": null,
      "outputs": [
        {
          "output_type": "stream",
          "name": "stdout",
          "text": [
            "+-----------+-----+\n",
            "|   tipo_uso|count|\n",
            "+-----------+-----+\n",
            "|Residencial|84541|\n",
            "+-----------+-----+\n",
            "\n"
          ]
        }
      ]
    },
    {
      "cell_type": "markdown",
      "source": [
        "## Coluna: TIpo_Unidade"
      ],
      "metadata": {
        "id": "Uqh6LFObu8PH"
      },
      "id": "Uqh6LFObu8PH"
    },
    {
      "cell_type": "code",
      "execution_count": null,
      "id": "3be4d09b",
      "metadata": {
        "hidden": true,
        "id": "3be4d09b",
        "colab": {
          "base_uri": "https://localhost:8080/"
        },
        "outputId": "dbbd8a4e-f401-4ffa-9a57-d9ba3d09df70"
      },
      "outputs": [
        {
          "output_type": "stream",
          "name": "stdout",
          "text": [
            "+------------+-----+\n",
            "|tipo_unidade|count|\n",
            "+------------+-----+\n",
            "|      Outros| 7517|\n",
            "| Apartamento|66797|\n",
            "|        Casa|10227|\n",
            "+------------+-----+\n",
            "\n"
          ]
        }
      ],
      "source": [
        "anuncio\\\n",
        "    .select('tipo_unidade')\\\n",
        "    .groupBy('tipo_unidade')\\\n",
        "    .count()\\\n",
        "    .show()"
      ]
    },
    {
      "cell_type": "code",
      "source": [
        "anuncio = anuncio.filter('tipo_unidade==\"Apartamento\"')"
      ],
      "metadata": {
        "id": "l6vPJpMzu_mg"
      },
      "id": "l6vPJpMzu_mg",
      "execution_count": null,
      "outputs": []
    },
    {
      "cell_type": "code",
      "source": [
        "anuncio\\\n",
        "    .groupBy('tipo_unidade')\\\n",
        "    .count()\\\n",
        "    .show()"
      ],
      "metadata": {
        "colab": {
          "base_uri": "https://localhost:8080/"
        },
        "id": "V5dRzY4UvOcD",
        "outputId": "b419bfb6-9436-4240-db73-53271aeb497e"
      },
      "id": "V5dRzY4UvOcD",
      "execution_count": null,
      "outputs": [
        {
          "output_type": "stream",
          "name": "stdout",
          "text": [
            "+------------+-----+\n",
            "|tipo_unidade|count|\n",
            "+------------+-----+\n",
            "| Apartamento|66797|\n",
            "+------------+-----+\n",
            "\n"
          ]
        }
      ]
    },
    {
      "cell_type": "markdown",
      "source": [
        "## Coluna: TIpo_Anuncio"
      ],
      "metadata": {
        "id": "N-YadyG1viE7"
      },
      "id": "N-YadyG1viE7"
    },
    {
      "cell_type": "code",
      "execution_count": null,
      "id": "cc904006",
      "metadata": {
        "hidden": true,
        "id": "cc904006",
        "colab": {
          "base_uri": "https://localhost:8080/"
        },
        "outputId": "8bd8456e-cb20-471d-f22d-3b02296cbe13"
      },
      "outputs": [
        {
          "output_type": "stream",
          "name": "stdout",
          "text": [
            "+------------+-----+\n",
            "|tipo_anuncio|count|\n",
            "+------------+-----+\n",
            "|       Usado|66562|\n",
            "|  Lançamento|  235|\n",
            "+------------+-----+\n",
            "\n"
          ]
        }
      ],
      "source": [
        "anuncio\\\n",
        "    .select('tipo_anuncio')\\\n",
        "    .groupBy('tipo_anuncio')\\\n",
        "    .count()\\\n",
        "    .show()"
      ]
    },
    {
      "cell_type": "code",
      "source": [
        "anuncio = anuncio.filter('tipo_anuncio==\"Usado\"')"
      ],
      "metadata": {
        "id": "DNoBhGjovnQP"
      },
      "id": "DNoBhGjovnQP",
      "execution_count": null,
      "outputs": []
    },
    {
      "cell_type": "code",
      "source": [
        "anuncio\\\n",
        "    .groupBy('tipo_anuncio')\\\n",
        "    .count()\\\n",
        "    .show()"
      ],
      "metadata": {
        "colab": {
          "base_uri": "https://localhost:8080/"
        },
        "id": "nStlAmhNvt_b",
        "outputId": "a9cd110a-8798-419e-a6df-a730e9a9fee4"
      },
      "id": "nStlAmhNvt_b",
      "execution_count": null,
      "outputs": [
        {
          "output_type": "stream",
          "name": "stdout",
          "text": [
            "+------------+-----+\n",
            "|tipo_anuncio|count|\n",
            "+------------+-----+\n",
            "|       Usado|66562|\n",
            "+------------+-----+\n",
            "\n"
          ]
        }
      ]
    },
    {
      "cell_type": "markdown",
      "source": [
        "## Frequência que aparece o anuncio que seja uso Residencial, do tipo Apartamento e usado."
      ],
      "metadata": {
        "id": "6A_xVSKmwK2w"
      },
      "id": "6A_xVSKmwK2w"
    },
    {
      "cell_type": "code",
      "execution_count": null,
      "id": "cb43e26f",
      "metadata": {
        "hidden": true,
        "id": "cb43e26f"
      },
      "outputs": [],
      "source": [
        "freq = anuncio\\\n",
        "  .select('*')\\\n",
        "  .where('tipo_uso==\"Residencial\"')\\\n",
        "  .where('tipo_unidade==\"Apartamento\"')\\\n",
        "  .where('tipo_anuncio==\"Usado\"')"
      ]
    },
    {
      "cell_type": "code",
      "execution_count": null,
      "id": "6e06faf9",
      "metadata": {
        "hidden": true,
        "id": "6e06faf9",
        "colab": {
          "base_uri": "https://localhost:8080/"
        },
        "outputId": "3cb289f0-832b-4e94-dfe4-f9b65b5edfd8"
      },
      "outputs": [
        {
          "output_type": "execute_result",
          "data": {
            "text/plain": [
              "66562"
            ]
          },
          "metadata": {},
          "execution_count": 24
        }
      ],
      "source": [
        "freq.count()"
      ]
    },
    {
      "cell_type": "markdown",
      "id": "6508e089",
      "metadata": {
        "heading_collapsed": true,
        "id": "6508e089"
      },
      "source": [
        "# Transformando as colunas dos cômodos dos imóveis de listas para inteiros (quartos, suites, banheiros, vaga, area_total e area_util)"
      ]
    },
    {
      "cell_type": "code",
      "execution_count": null,
      "id": "ca078f6a",
      "metadata": {
        "hidden": true,
        "id": "ca078f6a"
      },
      "outputs": [],
      "source": [
        "from pyspark.sql import functions as f\n",
        "from pyspark.sql.types import ArrayType,IntegerType"
      ]
    },
    {
      "cell_type": "code",
      "execution_count": null,
      "id": "b8b61d4a",
      "metadata": {
        "hidden": true,
        "id": "b8b61d4a",
        "colab": {
          "base_uri": "https://localhost:8080/"
        },
        "outputId": "53eeacdb-c17e-476a-ac65-c8e0b97a0b7b"
      },
      "outputs": [
        {
          "output_type": "stream",
          "name": "stdout",
          "text": [
            "root\n",
            " |-- andar: long (nullable = true)\n",
            " |-- area_total: array (nullable = true)\n",
            " |    |-- element: string (containsNull = true)\n",
            " |-- area_util: array (nullable = true)\n",
            " |    |-- element: string (containsNull = true)\n",
            " |-- banheiros: array (nullable = true)\n",
            " |    |-- element: long (containsNull = true)\n",
            " |-- caracteristicas: array (nullable = true)\n",
            " |    |-- element: string (containsNull = true)\n",
            " |-- endereco: struct (nullable = true)\n",
            " |    |-- bairro: string (nullable = true)\n",
            " |    |-- cep: string (nullable = true)\n",
            " |    |-- cidade: string (nullable = true)\n",
            " |    |-- estado: string (nullable = true)\n",
            " |    |-- latitude: double (nullable = true)\n",
            " |    |-- longitude: double (nullable = true)\n",
            " |    |-- pais: string (nullable = true)\n",
            " |    |-- rua: string (nullable = true)\n",
            " |    |-- zona: string (nullable = true)\n",
            " |-- id: string (nullable = true)\n",
            " |-- quartos: array (nullable = true)\n",
            " |    |-- element: long (containsNull = true)\n",
            " |-- suites: array (nullable = true)\n",
            " |    |-- element: long (containsNull = true)\n",
            " |-- tipo_anuncio: string (nullable = true)\n",
            " |-- tipo_unidade: string (nullable = true)\n",
            " |-- tipo_uso: string (nullable = true)\n",
            " |-- vaga: array (nullable = true)\n",
            " |    |-- element: long (containsNull = true)\n",
            " |-- valores: array (nullable = true)\n",
            " |    |-- element: struct (containsNull = true)\n",
            " |    |    |-- condominio: string (nullable = true)\n",
            " |    |    |-- iptu: string (nullable = true)\n",
            " |    |    |-- tipo: string (nullable = true)\n",
            " |    |    |-- valor: string (nullable = true)\n",
            "\n"
          ]
        }
      ],
      "source": [
        "anuncio.printSchema()"
      ]
    },
    {
      "cell_type": "code",
      "execution_count": null,
      "id": "55a3a7c6",
      "metadata": {
        "hidden": true,
        "id": "55a3a7c6"
      },
      "outputs": [],
      "source": [
        "listas_int = ['quartos', 'suites', 'banheiros', 'vaga', 'area_total', 'area_util']"
      ]
    },
    {
      "cell_type": "code",
      "execution_count": null,
      "id": "aa74d0ca",
      "metadata": {
        "hidden": true,
        "id": "aa74d0ca",
        "colab": {
          "base_uri": "https://localhost:8080/"
        },
        "outputId": "6f2fd858-9811-4ecc-db1d-94f88c27ddd8"
      },
      "outputs": [
        {
          "output_type": "stream",
          "name": "stdout",
          "text": [
            "+-------+-----+\n",
            "|quartos|count|\n",
            "+-------+-----+\n",
            "|      1|66562|\n",
            "+-------+-----+\n",
            "\n",
            "+------+-----+\n",
            "|suites|count|\n",
            "+------+-----+\n",
            "|     1|61008|\n",
            "|     0| 5554|\n",
            "+------+-----+\n",
            "\n",
            "+---------+-----+\n",
            "|banheiros|count|\n",
            "+---------+-----+\n",
            "|        1|66562|\n",
            "+---------+-----+\n",
            "\n",
            "+----+-----+\n",
            "|vaga|count|\n",
            "+----+-----+\n",
            "|   1|63545|\n",
            "|   0| 3017|\n",
            "+----+-----+\n",
            "\n",
            "+----------+-----+\n",
            "|area_total|count|\n",
            "+----------+-----+\n",
            "|         1|57368|\n",
            "|         0| 9194|\n",
            "+----------+-----+\n",
            "\n",
            "+---------+-----+\n",
            "|area_util|count|\n",
            "+---------+-----+\n",
            "|        1|66562|\n",
            "+---------+-----+\n",
            "\n"
          ]
        }
      ],
      "source": [
        "for col in listas_int:\n",
        "    anuncio\\\n",
        "    .select(f.size(f.col(col)).alias((col)))\\\n",
        "    .groupby(col)\\\n",
        "    .count()\\\n",
        "    .show()"
      ]
    },
    {
      "cell_type": "code",
      "source": [
        "dados.printSchema()"
      ],
      "metadata": {
        "colab": {
          "base_uri": "https://localhost:8080/"
        },
        "id": "KF_ELa9FYOer",
        "outputId": "a4496a9c-2fc1-458c-c023-58378a22b870"
      },
      "id": "KF_ELa9FYOer",
      "execution_count": null,
      "outputs": [
        {
          "output_type": "stream",
          "name": "stdout",
          "text": [
            "root\n",
            " |-- anuncio: struct (nullable = true)\n",
            " |    |-- andar: long (nullable = true)\n",
            " |    |-- area_total: array (nullable = true)\n",
            " |    |    |-- element: string (containsNull = true)\n",
            " |    |-- area_util: array (nullable = true)\n",
            " |    |    |-- element: string (containsNull = true)\n",
            " |    |-- banheiros: array (nullable = true)\n",
            " |    |    |-- element: long (containsNull = true)\n",
            " |    |-- caracteristicas: array (nullable = true)\n",
            " |    |    |-- element: string (containsNull = true)\n",
            " |    |-- endereco: struct (nullable = true)\n",
            " |    |    |-- bairro: string (nullable = true)\n",
            " |    |    |-- cep: string (nullable = true)\n",
            " |    |    |-- cidade: string (nullable = true)\n",
            " |    |    |-- estado: string (nullable = true)\n",
            " |    |    |-- latitude: double (nullable = true)\n",
            " |    |    |-- longitude: double (nullable = true)\n",
            " |    |    |-- pais: string (nullable = true)\n",
            " |    |    |-- rua: string (nullable = true)\n",
            " |    |    |-- zona: string (nullable = true)\n",
            " |    |-- id: string (nullable = true)\n",
            " |    |-- quartos: array (nullable = true)\n",
            " |    |    |-- element: long (containsNull = true)\n",
            " |    |-- suites: array (nullable = true)\n",
            " |    |    |-- element: long (containsNull = true)\n",
            " |    |-- tipo_anuncio: string (nullable = true)\n",
            " |    |-- tipo_unidade: string (nullable = true)\n",
            " |    |-- tipo_uso: string (nullable = true)\n",
            " |    |-- vaga: array (nullable = true)\n",
            " |    |    |-- element: long (containsNull = true)\n",
            " |    |-- valores: array (nullable = true)\n",
            " |    |    |-- element: struct (containsNull = true)\n",
            " |    |    |    |-- condominio: string (nullable = true)\n",
            " |    |    |    |-- iptu: string (nullable = true)\n",
            " |    |    |    |-- tipo: string (nullable = true)\n",
            " |    |    |    |-- valor: string (nullable = true)\n",
            " |-- imagens: array (nullable = true)\n",
            " |    |-- element: struct (containsNull = true)\n",
            " |    |    |-- id: string (nullable = true)\n",
            " |    |    |-- url: string (nullable = true)\n",
            " |-- usuario: struct (nullable = true)\n",
            " |    |-- id: string (nullable = true)\n",
            " |    |-- nome: string (nullable = true)\n",
            "\n"
          ]
        }
      ]
    },
    {
      "cell_type": "code",
      "source": [
        "anuncio = anuncio.select([f.col(c)[0].alias(c) if c in listas_int else c for c in anuncio.columns])"
      ],
      "metadata": {
        "id": "VoZ_I8YBX_pa"
      },
      "id": "VoZ_I8YBX_pa",
      "execution_count": null,
      "outputs": []
    },
    {
      "cell_type": "markdown",
      "id": "1e06f63c",
      "metadata": {
        "heading_collapsed": true,
        "id": "1e06f63c"
      },
      "source": [
        "# Deixando apenas as colunas Bairro e Zona no DataFrame "
      ]
    },
    {
      "cell_type": "code",
      "source": [
        "anuncio\\\n",
        "    .select('endereco.*')\\\n",
        "    .show()"
      ],
      "metadata": {
        "colab": {
          "base_uri": "https://localhost:8080/"
        },
        "id": "TBn1C64_yPZx",
        "outputId": "d42fc261-6644-4242-b2f2-4993003397fc"
      },
      "id": "TBn1C64_yPZx",
      "execution_count": null,
      "outputs": [
        {
          "output_type": "stream",
          "name": "stdout",
          "text": [
            "+--------------------+--------+--------------+--------------+----------+----------+----+--------------------+----------+\n",
            "|              bairro|     cep|        cidade|        estado|  latitude| longitude|pais|                 rua|      zona|\n",
            "+--------------------+--------+--------------+--------------+----------+----------+----+--------------------+----------+\n",
            "|           Paciência|23585430|Rio de Janeiro|Rio de Janeiro|-22.919851|-43.634034|  BR|Estrada de Santa ...|Zona Oeste|\n",
            "|           Paciência|23585430|Rio de Janeiro|Rio de Janeiro|-22.928108|-43.635375|  BR|Estrada de Santa ...|Zona Oeste|\n",
            "|           Guaratiba|23036060|Rio de Janeiro|Rio de Janeiro|-22.948756|-43.582824|  BR|Estrada Cabuçu de...|Zona Oeste|\n",
            "|              Cosmos|23066271|Rio de Janeiro|Rio de Janeiro|-22.888194|-43.629602|  BR|Estrada da Paciência|Zona Oeste|\n",
            "|           Guaratiba|23036060|Rio de Janeiro|Rio de Janeiro|-22.948291|-43.582205|  BR|Estrada Cabuçu de...|Zona Oeste|\n",
            "|              Cosmos|23066271|Rio de Janeiro|Rio de Janeiro|-22.888194|-43.629602|  BR|Estrada da Paciência|Zona Oeste|\n",
            "|           Paciência|23585430|Rio de Janeiro|Rio de Janeiro|-22.919851|-43.634034|  BR|Estrada de Santa ...|Zona Oeste|\n",
            "|           Guaratiba|23036060|Rio de Janeiro|Rio de Janeiro|-22.948291|-43.582205|  BR|Estrada Cabuçu de...|Zona Oeste|\n",
            "|           Paciência|23585430|Rio de Janeiro|Rio de Janeiro|-22.919851|-43.634034|  BR|Estrada de Santa ...|Zona Oeste|\n",
            "|           Guaratiba|23036060|Rio de Janeiro|Rio de Janeiro|-22.948291|-43.582205|  BR|Estrada Cabuçu de...|Zona Oeste|\n",
            "|  Pedra de Guaratiba|23025018|Rio de Janeiro|Rio de Janeiro|-22.991393|-43.628042|  BR|Rua Cento e Trint...|Zona Oeste|\n",
            "|              Cosmos|23056630|Rio de Janeiro|Rio de Janeiro|-22.918594|-43.611184|  BR|   Rua das Amoreiras|Zona Oeste|\n",
            "|        Campo Grande|23070600|Rio de Janeiro|Rio de Janeiro|-22.883694|-43.593646|  BR|    Rua Constituinte|Zona Oeste|\n",
            "|          Santa Cruz|23520560|Rio de Janeiro|Rio de Janeiro|-22.945648|-43.640029|  BR|Estrada de Santa ...|Zona Oeste|\n",
            "|           Guaratiba|23020135|Rio de Janeiro|Rio de Janeiro|-22.936475|-43.583306|  BR|   Rua Seis de Julho|Zona Oeste|\n",
            "|Recreio dos Bande...|22790880|Rio de Janeiro|Rio de Janeiro|-23.022323|-43.509961|  BR|Rua Luiz Carlos S...|Zona Oeste|\n",
            "|              Cosmos|23066271|Rio de Janeiro|Rio de Janeiro| -22.88939|-43.629587|  BR|Estrada da Paciência|Zona Oeste|\n",
            "|            Realengo|21725180|Rio de Janeiro|Rio de Janeiro|-22.857776|-43.448282|  BR| Rua Hélio do Amaral|Zona Oeste|\n",
            "|              Cosmos|23058001|Rio de Janeiro|Rio de Janeiro|-22.915615| -43.61736|  BR|Avenida Cesário d...|Zona Oeste|\n",
            "|     Todos os Santos|20770240|Rio de Janeiro|Rio de Janeiro|-22.896488|-43.282714|  BR|  Rua José Bonifácio|Zona Norte|\n",
            "+--------------------+--------+--------------+--------------+----------+----------+----+--------------------+----------+\n",
            "only showing top 20 rows\n",
            "\n"
          ]
        }
      ]
    },
    {
      "cell_type": "code",
      "source": [
        "anuncio\\\n",
        "    .select('endereco.bairro', 'endereco.zona')\\\n",
        "    .show()"
      ],
      "metadata": {
        "colab": {
          "base_uri": "https://localhost:8080/"
        },
        "id": "W6RI1hu0yfZx",
        "outputId": "9e0bc8ba-7162-425d-c5eb-56f54d58c0c2"
      },
      "id": "W6RI1hu0yfZx",
      "execution_count": null,
      "outputs": [
        {
          "output_type": "stream",
          "name": "stdout",
          "text": [
            "+--------------------+----------+\n",
            "|              bairro|      zona|\n",
            "+--------------------+----------+\n",
            "|           Paciência|Zona Oeste|\n",
            "|           Paciência|Zona Oeste|\n",
            "|           Guaratiba|Zona Oeste|\n",
            "|              Cosmos|Zona Oeste|\n",
            "|           Guaratiba|Zona Oeste|\n",
            "|              Cosmos|Zona Oeste|\n",
            "|           Paciência|Zona Oeste|\n",
            "|           Guaratiba|Zona Oeste|\n",
            "|           Paciência|Zona Oeste|\n",
            "|           Guaratiba|Zona Oeste|\n",
            "|  Pedra de Guaratiba|Zona Oeste|\n",
            "|              Cosmos|Zona Oeste|\n",
            "|        Campo Grande|Zona Oeste|\n",
            "|          Santa Cruz|Zona Oeste|\n",
            "|           Guaratiba|Zona Oeste|\n",
            "|Recreio dos Bande...|Zona Oeste|\n",
            "|              Cosmos|Zona Oeste|\n",
            "|            Realengo|Zona Oeste|\n",
            "|              Cosmos|Zona Oeste|\n",
            "|     Todos os Santos|Zona Norte|\n",
            "+--------------------+----------+\n",
            "only showing top 20 rows\n",
            "\n"
          ]
        }
      ]
    },
    {
      "cell_type": "code",
      "execution_count": null,
      "id": "b344b4be",
      "metadata": {
        "hidden": true,
        "id": "b344b4be",
        "colab": {
          "base_uri": "https://localhost:8080/"
        },
        "outputId": "ac32e0c6-8603-4bc6-ff98-ef7cf2f8ba8f"
      },
      "outputs": [
        {
          "output_type": "stream",
          "name": "stdout",
          "text": [
            "+-----+----------+---------+---------+--------------------+--------------------+-------+------+------------+------------+-----------+----+--------------------+--------------------+----------+\n",
            "|andar|area_total|area_util|banheiros|     caracteristicas|                  id|quartos|suites|tipo_anuncio|tipo_unidade|   tipo_uso|vaga|             valores|              bairro|      zona|\n",
            "+-----+----------+---------+---------+--------------------+--------------------+-------+------+------------+------------+-----------+----+--------------------+--------------------+----------+\n",
            "|    3|        43|       43|        1|[Academia, Churra...|d2e3a3aa-09b5-45a...|      2|  null|       Usado| Apartamento|Residencial|   1|[{245, null, Vend...|           Paciência|Zona Oeste|\n",
            "|    2|        42|       42|        1|[Churrasqueira, P...|085bab2c-87ad-452...|      2|  null|       Usado| Apartamento|Residencial|   1|[{0, 0, Venda, 15...|           Paciência|Zona Oeste|\n",
            "|    1|        41|       41|        1|[Portaria 24h, Co...|18d22cbe-1b86-476...|      2|  null|       Usado| Apartamento|Residencial|   1|[{0, 0, Venda, 20...|           Guaratiba|Zona Oeste|\n",
            "|    3|        43|       43|        1|[Churrasqueira, P...|bed8a354-9317-442...|      2|  null|       Usado| Apartamento|Residencial|   0|[{285, null, Vend...|              Cosmos|Zona Oeste|\n",
            "|    2|        43|       43|        1|[Academia, Churra...|12a13315-d67f-48f...|      2|  null|       Usado| Apartamento|Residencial|   1|[{245, null, Vend...|           Guaratiba|Zona Oeste|\n",
            "|    3|        43|       43|        1|[Churrasqueira, P...|a2e6d7a5-0ff0-484...|      2|     0|       Usado| Apartamento|Residencial|   0|[{285, null, Vend...|              Cosmos|Zona Oeste|\n",
            "|    3|        43|       43|        1|[Churrasqueira, P...|a6e3173b-c950-4db...|      2|  null|       Usado| Apartamento|Residencial|   1|[{250, null, Vend...|           Paciência|Zona Oeste|\n",
            "|    3|        43|       43|        1|[Churrasqueira, P...|2e6e5dfb-206c-496...|      2|     0|       Usado| Apartamento|Residencial|   1|[{245, null, Vend...|           Guaratiba|Zona Oeste|\n",
            "|    3|        43|       43|        1|[Churrasqueira, P...|99f8d0f9-95a4-461...|      2|     0|       Usado| Apartamento|Residencial|   1|[{245, null, Vend...|           Paciência|Zona Oeste|\n",
            "|    4|        43|       43|        1|[Churrasqueira, P...|b3f44c1a-2d50-4d5...|      2|  null|       Usado| Apartamento|Residencial|   1|[{240, null, Vend...|           Guaratiba|Zona Oeste|\n",
            "|    0|        60|       60|        1|[Condomínio fechado]|dc99d9e1-4c63-41f...|      2|  null|       Usado| Apartamento|Residencial|   1|[{0, 0, Venda, 15...|  Pedra de Guaratiba|Zona Oeste|\n",
            "|    1|        43|       43|        1|[Churrasqueira, P...|aa3606d8-8bcd-45e...|      2|  null|       Usado| Apartamento|Residencial|   1|[{240, 0, Venda, ...|              Cosmos|Zona Oeste|\n",
            "|    0|        43|       43|        1|[Churrasqueira, P...|df80b0d5-677c-4be...|      2|     0|       Usado| Apartamento|Residencial|   0|[{245, null, Vend...|        Campo Grande|Zona Oeste|\n",
            "|    2|        43|       43|        1|[Academia, Churra...|3d6c0218-9b7d-474...|      2|  null|       Usado| Apartamento|Residencial|   2|[{290, null, Vend...|          Santa Cruz|Zona Oeste|\n",
            "|    3|        43|       43|        1|[Salão de festas,...|304266cc-62d1-4ce...|      2|  null|       Usado| Apartamento|Residencial|null|[{285, null, Vend...|           Guaratiba|Zona Oeste|\n",
            "|    4|        55|       55|        2|[Academia, Churra...|111472a2-afa1-4a7...|      2|     1|       Usado| Apartamento|Residencial|   1|[{0, 0, Venda, 30...|Recreio dos Bande...|Zona Oeste|\n",
            "|    0|        45|       45|        1|[Playground, Pisc...|275c1589-6537-4bf...|      2|     0|       Usado| Apartamento|Residencial|   1|[{null, null, Ven...|              Cosmos|Zona Oeste|\n",
            "|    5|        42|       42|        1|[Condomínio fecha...|ab8f367f-7509-45c...|      2|     0|       Usado| Apartamento|Residencial|   0|[{280, 0, Venda, ...|            Realengo|Zona Oeste|\n",
            "|    1|        43|       43|        1|[Churrasqueira, P...|e0a3d370-66dd-4f5...|      2|  null|       Usado| Apartamento|Residencial|   1|[{280, null, Vend...|              Cosmos|Zona Oeste|\n",
            "|    3|      null|       55|        1|[Academia, Churra...|09c8ba2d-dbf1-487...|      2|     1|       Usado| Apartamento|Residencial|   1|[{0, 0, Venda, 26...|     Todos os Santos|Zona Norte|\n",
            "+-----+----------+---------+---------+--------------------+--------------------+-------+------+------------+------------+-----------+----+--------------------+--------------------+----------+\n",
            "only showing top 20 rows\n",
            "\n"
          ]
        }
      ],
      "source": [
        "anuncio = anuncio\\\n",
        "    .select('*',  'endereco.bairro', 'endereco.zona')\\\n",
        "    .drop('endereco')\n",
        "anuncio.show()"
      ]
    },
    {
      "cell_type": "markdown",
      "id": "7e957993",
      "metadata": {
        "heading_collapsed": true,
        "id": "7e957993"
      },
      "source": [
        "# Transformando cada campo da coluna \"valores\" em uma coluna separada e deixando apenas do Tipo Venda"
      ]
    },
    {
      "cell_type": "code",
      "source": [
        "anuncio\\\n",
        "    .select('valores')\\\n",
        "    .show()"
      ],
      "metadata": {
        "colab": {
          "base_uri": "https://localhost:8080/"
        },
        "id": "cpI5ijQ75Bi5",
        "outputId": "3b8299e5-9bc5-4596-f2d6-114ac6bdb485"
      },
      "id": "cpI5ijQ75Bi5",
      "execution_count": null,
      "outputs": [
        {
          "output_type": "stream",
          "name": "stdout",
          "text": [
            "+--------------------+\n",
            "|             valores|\n",
            "+--------------------+\n",
            "|[{245, null, Vend...|\n",
            "|[{0, 0, Venda, 15...|\n",
            "|[{0, 0, Venda, 20...|\n",
            "|[{285, null, Vend...|\n",
            "|[{245, null, Vend...|\n",
            "|[{285, null, Vend...|\n",
            "|[{250, null, Vend...|\n",
            "|[{245, null, Vend...|\n",
            "|[{245, null, Vend...|\n",
            "|[{240, null, Vend...|\n",
            "|[{0, 0, Venda, 15...|\n",
            "|[{240, 0, Venda, ...|\n",
            "|[{245, null, Vend...|\n",
            "|[{290, null, Vend...|\n",
            "|[{285, null, Vend...|\n",
            "|[{0, 0, Venda, 30...|\n",
            "|[{null, null, Ven...|\n",
            "|[{280, 0, Venda, ...|\n",
            "|[{280, null, Vend...|\n",
            "|[{0, 0, Venda, 26...|\n",
            "+--------------------+\n",
            "only showing top 20 rows\n",
            "\n"
          ]
        }
      ]
    },
    {
      "cell_type": "code",
      "source": [
        "anuncio\\\n",
        "      .select(f.explode('valores').alias('valores'))\\\n",
        "      .select('valores.*')\\\n",
        "      .filter('valores.tipo==\"Venda\"')\\\n",
        "      .count()"
      ],
      "metadata": {
        "colab": {
          "base_uri": "https://localhost:8080/"
        },
        "id": "-aJDqmwS4edB",
        "outputId": "2b292ca4-1c63-439a-89fe-e5c03c2628a0"
      },
      "id": "-aJDqmwS4edB",
      "execution_count": null,
      "outputs": [
        {
          "output_type": "execute_result",
          "data": {
            "text/plain": [
              "66562"
            ]
          },
          "metadata": {},
          "execution_count": 35
        }
      ]
    },
    {
      "cell_type": "code",
      "execution_count": null,
      "id": "77f69e00",
      "metadata": {
        "hidden": true,
        "id": "77f69e00",
        "colab": {
          "base_uri": "https://localhost:8080/"
        },
        "outputId": "efe26f83-2be7-4d5e-8a0c-3310e174f996"
      },
      "outputs": [
        {
          "output_type": "stream",
          "name": "stdout",
          "text": [
            "+------------------------------------+----------+----+-------+-----+\n",
            "|id                                  |condominio|iptu|tipo   |valor|\n",
            "+------------------------------------+----------+----+-------+-----+\n",
            "|d2e3a3aa-09b5-45a0-9dcd-918847cd3ca3|245       |null|Venda  |15000|\n",
            "|085bab2c-87ad-452a-bd0f-8b1451509f84|0         |0   |Venda  |15000|\n",
            "|18d22cbe-1b86-4764-8def-70c615f15a61|0         |0   |Venda  |20000|\n",
            "|bed8a354-9317-4426-b27e-1c798f864271|285       |null|Venda  |20000|\n",
            "|12a13315-d67f-48f0-9497-017b83252781|245       |null|Venda  |15000|\n",
            "|a2e6d7a5-0ff0-484d-b3d8-3a8f15e2d80e|285       |null|Venda  |20000|\n",
            "|a6e3173b-c950-4db4-9b7b-80c44bd75e90|250       |null|Venda  |15000|\n",
            "|2e6e5dfb-206c-4968-944b-ea4c3918b50d|245       |null|Venda  |15000|\n",
            "|99f8d0f9-95a4-4613-a55d-c949e7a73e90|245       |null|Venda  |15000|\n",
            "|b3f44c1a-2d50-4d56-b1fb-a94d59b55ab8|240       |null|Venda  |17999|\n",
            "|dc99d9e1-4c63-41f7-a53d-678b2b3ccb52|0         |0   |Venda  |15000|\n",
            "|aa3606d8-8bcd-45ec-a609-d68a58a12014|240       |0   |Venda  |19999|\n",
            "|df80b0d5-677c-4be7-93c4-ddef578125ac|245       |null|Venda  |19999|\n",
            "|3d6c0218-9b7d-474b-9a44-cd3e005375f9|290       |null|Venda  |25000|\n",
            "|304266cc-62d1-4ce7-909b-21198c306839|285       |null|Venda  |29999|\n",
            "|111472a2-afa1-4a73-a8b3-3588ffba362c|0         |0   |Venda  |30000|\n",
            "|275c1589-6537-4bf7-9504-74410dbf01fc|null      |null|Venda  |30000|\n",
            "|ab8f367f-7509-45c7-ad9a-f51f84584376|280       |0   |Venda  |25000|\n",
            "|e0a3d370-66dd-4f50-a3d9-cf09c8212318|280       |null|Venda  |27999|\n",
            "|09c8ba2d-dbf1-4879-ba5b-1345355dc415|0         |0   |Venda  |26000|\n",
            "|33da5489-72c9-4d18-883c-a85363348bcc|200       |0   |Venda  |23000|\n",
            "|08511604-dffe-40a4-801b-2ee1e73d49c5|245       |null|Venda  |29999|\n",
            "|a8de531f-5e85-4217-aa7d-578b9cc3ee97|null      |0   |Venda  |27000|\n",
            "|03a386b6-7ab8-4eff-891d-f8a16efc1989|285       |null|Venda  |22999|\n",
            "|f63ae653-c3ac-4d1a-a87e-9f3f1fb27c7f|200       |0   |Venda  |23000|\n",
            "|c2676515-0633-4375-958e-b7b1644a4108|null      |null|Venda  |28000|\n",
            "|01de0250-50cc-4e75-9c01-b886c5059ddc|200       |0   |Venda  |24999|\n",
            "|6b196ad0-fca5-4a2b-98f3-8e4abb633e5b|200       |0   |Venda  |23000|\n",
            "|57ac572e-34e2-4427-b3fa-d2198c4e9203|null      |0   |Venda  |25000|\n",
            "|fa17e63c-0a23-4a87-a985-9b7bd258353b|240       |null|Venda  |39999|\n",
            "|ae90e3f7-4b9e-4e68-a28c-7e98b6b3bd97|233       |null|Venda  |35000|\n",
            "|fca04c66-5f6d-4e9c-a2bd-b97eb179ad1b|270       |0   |Venda  |40000|\n",
            "|4f1755c9-862f-4dcd-a5f5-09af9ae74313|459       |0   |Venda  |40000|\n",
            "|61a40854-1fee-4f50-8c3c-d9fa4d9e16c7|233       |null|Venda  |39999|\n",
            "|d7ed40c6-96b2-4456-8ee6-c33e21772ba6|300       |null|Venda  |38000|\n",
            "|b8d40915-3fbd-4671-9797-e13e12f2d554|197       |0   |Venda  |40000|\n",
            "|891745fd-7826-425f-afb1-7a80425ebf1d|0         |0   |Venda  |35000|\n",
            "|47334896-dbd7-45ba-9b3f-c59bccdd54fb|275       |10  |Venda  |37000|\n",
            "|354e0850-cc2f-4a98-931b-af3ebb1527d0|0         |0   |Venda  |35000|\n",
            "|2cdbb771-2ae4-4979-a483-dcc6099d0893|350       |null|Venda  |50000|\n",
            "|42433229-ceef-4bb6-896a-46fdc1f85515|120       |0   |Venda  |43500|\n",
            "|c543da32-a895-45ee-9116-7f6387fcbc1b|299       |null|Venda  |50000|\n",
            "|31709fc3-0503-4e57-912f-e2fb0640cdf1|295       |null|Venda  |42000|\n",
            "|c425f585-53e3-44b6-8bb6-6b9b766b0e30|350       |20  |Venda  |49000|\n",
            "|c425f585-53e3-44b6-8bb6-6b9b766b0e30|350       |20  |Aluguel|700  |\n",
            "|df481ce5-65d0-4c15-936e-f4732ef96c49|0         |null|Venda  |50000|\n",
            "|df481ce5-65d0-4c15-936e-f4732ef96c49|0         |null|Aluguel|800  |\n",
            "|78c4d364-bed2-4af7-bbf4-fd2ffa83f7dd|150       |0   |Venda  |48000|\n",
            "|7e7d054f-0fb2-4c55-a66e-1c38de34e83a|null      |0   |Venda  |45000|\n",
            "|e1513f1d-2b36-4223-a94e-10e0b0ca42ba|50        |0   |Venda  |50000|\n",
            "+------------------------------------+----------+----+-------+-----+\n",
            "only showing top 50 rows\n",
            "\n"
          ]
        }
      ],
      "source": [
        "anuncio\\\n",
        "    .select('id', f.explode('valores').alias('valores'))\\\n",
        "    .select('id', 'valores.*')\\\n",
        "    .show(50, truncate=False)"
      ]
    },
    {
      "cell_type": "code",
      "source": [
        "anuncio\\\n",
        "    .select('id', f.explode('valores').alias('valores'))\\\n",
        "    .select('id', 'valores.*')\\\n",
        "    .filter('valores.tipo==\"Venda\"')\\\n",
        "    .show(truncate=False)"
      ],
      "metadata": {
        "colab": {
          "base_uri": "https://localhost:8080/"
        },
        "id": "mMdrXud0zr4H",
        "outputId": "9a8228e7-17fd-420f-a352-1c6022ca3960"
      },
      "id": "mMdrXud0zr4H",
      "execution_count": null,
      "outputs": [
        {
          "output_type": "stream",
          "name": "stdout",
          "text": [
            "+------------------------------------+----------+----+-----+-----+\n",
            "|id                                  |condominio|iptu|tipo |valor|\n",
            "+------------------------------------+----------+----+-----+-----+\n",
            "|d2e3a3aa-09b5-45a0-9dcd-918847cd3ca3|245       |null|Venda|15000|\n",
            "|085bab2c-87ad-452a-bd0f-8b1451509f84|0         |0   |Venda|15000|\n",
            "|18d22cbe-1b86-4764-8def-70c615f15a61|0         |0   |Venda|20000|\n",
            "|bed8a354-9317-4426-b27e-1c798f864271|285       |null|Venda|20000|\n",
            "|12a13315-d67f-48f0-9497-017b83252781|245       |null|Venda|15000|\n",
            "|a2e6d7a5-0ff0-484d-b3d8-3a8f15e2d80e|285       |null|Venda|20000|\n",
            "|a6e3173b-c950-4db4-9b7b-80c44bd75e90|250       |null|Venda|15000|\n",
            "|2e6e5dfb-206c-4968-944b-ea4c3918b50d|245       |null|Venda|15000|\n",
            "|99f8d0f9-95a4-4613-a55d-c949e7a73e90|245       |null|Venda|15000|\n",
            "|b3f44c1a-2d50-4d56-b1fb-a94d59b55ab8|240       |null|Venda|17999|\n",
            "|dc99d9e1-4c63-41f7-a53d-678b2b3ccb52|0         |0   |Venda|15000|\n",
            "|aa3606d8-8bcd-45ec-a609-d68a58a12014|240       |0   |Venda|19999|\n",
            "|df80b0d5-677c-4be7-93c4-ddef578125ac|245       |null|Venda|19999|\n",
            "|3d6c0218-9b7d-474b-9a44-cd3e005375f9|290       |null|Venda|25000|\n",
            "|304266cc-62d1-4ce7-909b-21198c306839|285       |null|Venda|29999|\n",
            "|111472a2-afa1-4a73-a8b3-3588ffba362c|0         |0   |Venda|30000|\n",
            "|275c1589-6537-4bf7-9504-74410dbf01fc|null      |null|Venda|30000|\n",
            "|ab8f367f-7509-45c7-ad9a-f51f84584376|280       |0   |Venda|25000|\n",
            "|e0a3d370-66dd-4f50-a3d9-cf09c8212318|280       |null|Venda|27999|\n",
            "|09c8ba2d-dbf1-4879-ba5b-1345355dc415|0         |0   |Venda|26000|\n",
            "+------------------------------------+----------+----+-----+-----+\n",
            "only showing top 20 rows\n",
            "\n"
          ]
        }
      ]
    },
    {
      "cell_type": "code",
      "source": [
        "valores = anuncio\\\n",
        "    .select('id', f.explode('valores').alias('valores'))\\\n",
        "    .select('id', 'valores.*')\\\n",
        "    .filter('valores.tipo==\"Venda\"')"
      ],
      "metadata": {
        "id": "Ry2bUNIO7sWM"
      },
      "id": "Ry2bUNIO7sWM",
      "execution_count": null,
      "outputs": []
    },
    {
      "cell_type": "markdown",
      "source": [
        "# Unir os dois DataFrames usando o 'id' como primary key"
      ],
      "metadata": {
        "id": "9eI9EUkv76t0"
      },
      "id": "9eI9EUkv76t0"
    },
    {
      "cell_type": "code",
      "execution_count": null,
      "id": "ae7eca23",
      "metadata": {
        "hidden": true,
        "id": "ae7eca23",
        "colab": {
          "base_uri": "https://localhost:8080/"
        },
        "outputId": "c9878540-a051-4b30-a3c8-96f4954c9cd5"
      },
      "outputs": [
        {
          "output_type": "execute_result",
          "data": {
            "text/plain": [
              "66562"
            ]
          },
          "metadata": {},
          "execution_count": 39
        }
      ],
      "source": [
        "anuncio.join(valores, 'id', how='inner').count()"
      ]
    },
    {
      "cell_type": "code",
      "execution_count": null,
      "id": "2d2533ea",
      "metadata": {
        "hidden": true,
        "id": "2d2533ea",
        "colab": {
          "base_uri": "https://localhost:8080/"
        },
        "outputId": "e387c394-812c-4925-e2be-f43429a4e41e"
      },
      "outputs": [
        {
          "output_type": "stream",
          "name": "stdout",
          "text": [
            "+--------------------+-----+----------+---------+---------+--------------------+-------+------+------------+------------+-----------+----+--------------------+--------------------+------------+----------+----+-----+------+\n",
            "|                  id|andar|area_total|area_util|banheiros|     caracteristicas|quartos|suites|tipo_anuncio|tipo_unidade|   tipo_uso|vaga|             valores|              bairro|        zona|condominio|iptu| tipo| valor|\n",
            "+--------------------+-----+----------+---------+---------+--------------------+-------+------+------------+------------+-----------+----+--------------------+--------------------+------------+----------+----+-----+------+\n",
            "|03a386b6-7ab8-4ef...|    0|        43|       43|        1|[Churrasqueira, A...|      2|  null|       Usado| Apartamento|Residencial|   1|[{285, null, Vend...|            Realengo|  Zona Oeste|       285|null|Venda| 22999|\n",
            "|1fe78d41-b8e0-4d2...|    0|        44|       44|        1|                  []|      2|     0|       Usado| Apartamento|Residencial|   0|[{170, 0, Venda, ...|               Irajá|  Zona Norte|       170|   0|Venda|110000|\n",
            "|1fa1c1e5-e98c-433...|    4|      null|       55|        1|                  []|      2|     0|       Usado| Apartamento|Residencial|   1|[{null, null, Ven...|              Cosmos|  Zona Oeste|      null|null|Venda|115000|\n",
            "|a6ab01ae-3d40-40e...|    2|      null|       55|        1|                  []|      2|     0|       Usado| Apartamento|Residencial|   0|[{null, null, Ven...|        Tomás Coelho|  Zona Norte|      null|null|Venda|115000|\n",
            "|1d8ff7a2-16bd-4e3...|    0|      null|       50|        1|                  []|      1|  null|       Usado| Apartamento|Residencial|   0|[{1300, 2679, Ven...|              Centro|Zona Central|      1300|2679|Venda|125000|\n",
            "|40a2cbde-946b-42d...|    2|        47|       47|        1|[Condomínio fecha...|      2|     0|       Usado| Apartamento|Residencial|   1|[{380, null, Vend...|        Campo Grande|  Zona Oeste|       380|null|Venda|138000|\n",
            "|be269ddf-a4a3-4a7...|    0|     17089|       45|        1|[Churrasqueira, C...|      2|     0|       Usado| Apartamento|Residencial|   1|[{356, 0, Venda, ...|        Campo Grande|  Zona Oeste|       356|   0|Venda|140000|\n",
            "|4b7e3d59-34fd-4ba...|    3|        48|       48|        1|[Churrasqueira, P...|      2|  null|       Usado| Apartamento|Residencial|   1|[{0, 0, Venda, 15...|        Campo Grande|  Zona Oeste|         0|   0|Venda|150000|\n",
            "|a1a0c2ac-4fa8-4b0...|    9|      null|       55|        1|[Churrasqueira, E...|      2|  null|       Usado| Apartamento|Residencial|   1|[{780, 660, Venda...|Freguesia (Jacare...|  Zona Oeste|       780| 660|Venda|160000|\n",
            "|390d2b88-e06d-47e...|    0|        70|       70|        2|   [Salão de festas]|      2|     0|       Usado| Apartamento|Residencial|   1|[{420000, null, V...|          Praça Seca|  Zona Oeste|    420000|null|Venda|159000|\n",
            "|07bb07c1-21cc-4da...|    2|        50|       48|        1|[Condomínio fecha...|      1|     0|       Usado| Apartamento|Residencial|   0|[{10, 10, Venda, ...|             Piedade|  Zona Norte|        10|  10|Venda|170000|\n",
            "|7d3a1bae-988c-44b...|    5|        40|       40|        1|[Playground, Chur...|      2|     0|       Usado| Apartamento|Residencial|   1|[{150, 120, Venda...|        Braz de Pina|  Zona Norte|       150| 120|Venda|189000|\n",
            "|47af17f0-1c81-474...|    0|        65|       65|        1|                  []|      2|     0|       Usado| Apartamento|Residencial|   1|[{432, null, Vend...|            Campinho|  Zona Oeste|       432|null|Venda|185000|\n",
            "|a9bd1575-e9f2-43d...|    2|        50|       50|        1|[Condomínio fecha...|      1|     0|       Usado| Apartamento|Residencial|   1|[{650, 1, Venda, ...|           Madureira|  Zona Norte|       650|   1|Venda|185000|\n",
            "|cfca7253-3d02-4cd...|    5|        45|       45|        1|[Academia, Churra...|      2|     1|       Usado| Apartamento|Residencial|   0|[{150, 40, Venda,...|             Taquara|  Zona Oeste|       150|  40|Venda|199000|\n",
            "|b571ae97-e3d8-4fb...|    0|        48|       48|        1|[Academia, Condom...|      2|  null|       Usado| Apartamento|Residencial|   0|[{0, 0, Venda, 20...|          Bonsucesso|  Zona Norte|         0|   0|Venda|205933|\n",
            "|eb5fdc65-acae-45f...|    0|        44|       44|        1|[Academia, Condom...|      2|  null|       Usado| Apartamento|Residencial|   0|[{0, 0, Venda, 20...|          Bonsucesso|  Zona Norte|         0|   0|Venda|206000|\n",
            "|77cd0388-e3ff-40c...|    2|        64|       64|        1|                  []|      2|     0|       Usado| Apartamento|Residencial|   0|[{0, 0, Venda, 22...|      Jardim América|  Zona Norte|         0|   0|Venda|220000|\n",
            "|74a91f07-7387-4a8...|    0|        55|       55|        2|[Salão de festas,...|      1|     0|       Usado| Apartamento|Residencial|   1|[{600, 652, Venda...|        Engenho Novo|  Zona Norte|       600| 652|Venda|219130|\n",
            "|6aab1165-508d-455...|    3|        60|       60|        1|[Animais permitidos]|      3|     0|       Usado| Apartamento|Residencial|   1|[{98, 1, Venda, 2...|           Cascadura|  Zona Norte|        98|   1|Venda|230000|\n",
            "+--------------------+-----+----------+---------+---------+--------------------+-------+------+------------+------------+-----------+----+--------------------+--------------------+------------+----------+----+-----+------+\n",
            "only showing top 20 rows\n",
            "\n"
          ]
        }
      ],
      "source": [
        "anuncio.join(valores, 'id', how='inner').show()"
      ]
    },
    {
      "cell_type": "code",
      "source": [
        "anuncio.join(valores, 'id', how='inner').drop('valores').show()"
      ],
      "metadata": {
        "colab": {
          "base_uri": "https://localhost:8080/"
        },
        "id": "lFpmAtYC8H6b",
        "outputId": "d8690571-c4f7-46bf-e7a0-2edc99a9499a"
      },
      "id": "lFpmAtYC8H6b",
      "execution_count": null,
      "outputs": [
        {
          "output_type": "stream",
          "name": "stdout",
          "text": [
            "+--------------------+-----+----------+---------+---------+--------------------+-------+------+------------+------------+-----------+----+--------------------+------------+----------+----+-----+------+\n",
            "|                  id|andar|area_total|area_util|banheiros|     caracteristicas|quartos|suites|tipo_anuncio|tipo_unidade|   tipo_uso|vaga|              bairro|        zona|condominio|iptu| tipo| valor|\n",
            "+--------------------+-----+----------+---------+---------+--------------------+-------+------+------------+------------+-----------+----+--------------------+------------+----------+----+-----+------+\n",
            "|03a386b6-7ab8-4ef...|    0|        43|       43|        1|[Churrasqueira, A...|      2|  null|       Usado| Apartamento|Residencial|   1|            Realengo|  Zona Oeste|       285|null|Venda| 22999|\n",
            "|1fe78d41-b8e0-4d2...|    0|        44|       44|        1|                  []|      2|     0|       Usado| Apartamento|Residencial|   0|               Irajá|  Zona Norte|       170|   0|Venda|110000|\n",
            "|1fa1c1e5-e98c-433...|    4|      null|       55|        1|                  []|      2|     0|       Usado| Apartamento|Residencial|   1|              Cosmos|  Zona Oeste|      null|null|Venda|115000|\n",
            "|a6ab01ae-3d40-40e...|    2|      null|       55|        1|                  []|      2|     0|       Usado| Apartamento|Residencial|   0|        Tomás Coelho|  Zona Norte|      null|null|Venda|115000|\n",
            "|1d8ff7a2-16bd-4e3...|    0|      null|       50|        1|                  []|      1|  null|       Usado| Apartamento|Residencial|   0|              Centro|Zona Central|      1300|2679|Venda|125000|\n",
            "|40a2cbde-946b-42d...|    2|        47|       47|        1|[Condomínio fecha...|      2|     0|       Usado| Apartamento|Residencial|   1|        Campo Grande|  Zona Oeste|       380|null|Venda|138000|\n",
            "|be269ddf-a4a3-4a7...|    0|     17089|       45|        1|[Churrasqueira, C...|      2|     0|       Usado| Apartamento|Residencial|   1|        Campo Grande|  Zona Oeste|       356|   0|Venda|140000|\n",
            "|4b7e3d59-34fd-4ba...|    3|        48|       48|        1|[Churrasqueira, P...|      2|  null|       Usado| Apartamento|Residencial|   1|        Campo Grande|  Zona Oeste|         0|   0|Venda|150000|\n",
            "|a1a0c2ac-4fa8-4b0...|    9|      null|       55|        1|[Churrasqueira, E...|      2|  null|       Usado| Apartamento|Residencial|   1|Freguesia (Jacare...|  Zona Oeste|       780| 660|Venda|160000|\n",
            "|390d2b88-e06d-47e...|    0|        70|       70|        2|   [Salão de festas]|      2|     0|       Usado| Apartamento|Residencial|   1|          Praça Seca|  Zona Oeste|    420000|null|Venda|159000|\n",
            "|07bb07c1-21cc-4da...|    2|        50|       48|        1|[Condomínio fecha...|      1|     0|       Usado| Apartamento|Residencial|   0|             Piedade|  Zona Norte|        10|  10|Venda|170000|\n",
            "|7d3a1bae-988c-44b...|    5|        40|       40|        1|[Playground, Chur...|      2|     0|       Usado| Apartamento|Residencial|   1|        Braz de Pina|  Zona Norte|       150| 120|Venda|189000|\n",
            "|47af17f0-1c81-474...|    0|        65|       65|        1|                  []|      2|     0|       Usado| Apartamento|Residencial|   1|            Campinho|  Zona Oeste|       432|null|Venda|185000|\n",
            "|a9bd1575-e9f2-43d...|    2|        50|       50|        1|[Condomínio fecha...|      1|     0|       Usado| Apartamento|Residencial|   1|           Madureira|  Zona Norte|       650|   1|Venda|185000|\n",
            "|cfca7253-3d02-4cd...|    5|        45|       45|        1|[Academia, Churra...|      2|     1|       Usado| Apartamento|Residencial|   0|             Taquara|  Zona Oeste|       150|  40|Venda|199000|\n",
            "|b571ae97-e3d8-4fb...|    0|        48|       48|        1|[Academia, Condom...|      2|  null|       Usado| Apartamento|Residencial|   0|          Bonsucesso|  Zona Norte|         0|   0|Venda|205933|\n",
            "|eb5fdc65-acae-45f...|    0|        44|       44|        1|[Academia, Condom...|      2|  null|       Usado| Apartamento|Residencial|   0|          Bonsucesso|  Zona Norte|         0|   0|Venda|206000|\n",
            "|77cd0388-e3ff-40c...|    2|        64|       64|        1|                  []|      2|     0|       Usado| Apartamento|Residencial|   0|      Jardim América|  Zona Norte|         0|   0|Venda|220000|\n",
            "|74a91f07-7387-4a8...|    0|        55|       55|        2|[Salão de festas,...|      1|     0|       Usado| Apartamento|Residencial|   1|        Engenho Novo|  Zona Norte|       600| 652|Venda|219130|\n",
            "|6aab1165-508d-455...|    3|        60|       60|        1|[Animais permitidos]|      3|     0|       Usado| Apartamento|Residencial|   1|           Cascadura|  Zona Norte|        98|   1|Venda|230000|\n",
            "+--------------------+-----+----------+---------+---------+--------------------+-------+------+------------+------------+-----------+----+--------------------+------------+----------+----+-----+------+\n",
            "only showing top 20 rows\n",
            "\n"
          ]
        }
      ]
    },
    {
      "cell_type": "code",
      "source": [
        "anuncio = anuncio.join(valores, 'id', how='inner').drop('valores')"
      ],
      "metadata": {
        "id": "guWKiGvc8W2C"
      },
      "id": "guWKiGvc8W2C",
      "execution_count": null,
      "outputs": []
    },
    {
      "cell_type": "markdown",
      "id": "55fc8c16",
      "metadata": {
        "id": "55fc8c16"
      },
      "source": [
        "# Salvando os dados no formato parquet "
      ]
    },
    {
      "cell_type": "code",
      "execution_count": null,
      "id": "200a185a",
      "metadata": {
        "id": "200a185a"
      },
      "outputs": [],
      "source": [
        "anuncio.write.parquet(\n",
        "    path='/content/drive/MyDrive/Challenge_Pyspark_Alura/parquet',\n",
        "    mode='overwrite'\n",
        ")"
      ]
    },
    {
      "cell_type": "code",
      "source": [
        "anuncio_Parquet = spark.read.parquet('/content/drive/MyDrive/Challenge_Pyspark_Alura/parquet/part-00000-67f0ea53-49e1-482e-954e-8c385eabc181-c000.snappy.parquet')"
      ],
      "metadata": {
        "id": "1qBATHSa8lMm"
      },
      "id": "1qBATHSa8lMm",
      "execution_count": null,
      "outputs": []
    },
    {
      "cell_type": "code",
      "source": [
        "anuncio_Parquet.count()"
      ],
      "metadata": {
        "colab": {
          "base_uri": "https://localhost:8080/"
        },
        "id": "mgYFbERu_ZJU",
        "outputId": "f135f335-80b9-4bc7-8041-b252c759a46e"
      },
      "id": "mgYFbERu_ZJU",
      "execution_count": null,
      "outputs": [
        {
          "output_type": "execute_result",
          "data": {
            "text/plain": [
              "66562"
            ]
          },
          "metadata": {},
          "execution_count": 47
        }
      ]
    },
    {
      "cell_type": "markdown",
      "source": [
        "# Salvando os dados em CSV"
      ],
      "metadata": {
        "id": "CTiwzEiRzTtO"
      },
      "id": "CTiwzEiRzTtO"
    },
    {
      "cell_type": "code",
      "source": [
        "from pyspark.sql.types import StringType"
      ],
      "metadata": {
        "id": "MUkyQwlVQvlG"
      },
      "id": "MUkyQwlVQvlG",
      "execution_count": null,
      "outputs": []
    },
    {
      "cell_type": "code",
      "source": [
        "anuncio= anuncio.withColumn('caracteristicas', anuncio['caracteristicas'].cast(StringType()))\n",
        "anuncio.select('caracteristicas').printSchema()"
      ],
      "metadata": {
        "colab": {
          "base_uri": "https://localhost:8080/"
        },
        "id": "mWga2NCjQy7W",
        "outputId": "a6f16fae-6a22-4ee0-b098-81d92c8ced65"
      },
      "id": "mWga2NCjQy7W",
      "execution_count": null,
      "outputs": [
        {
          "output_type": "stream",
          "name": "stdout",
          "text": [
            "root\n",
            " |-- caracteristicas: string (nullable = true)\n",
            "\n"
          ]
        }
      ]
    },
    {
      "cell_type": "code",
      "source": [
        "anuncio = anuncio.drop('endereco')\n",
        "anuncio = anuncio.drop('valores')"
      ],
      "metadata": {
        "id": "CHaPANZd0PL3"
      },
      "id": "CHaPANZd0PL3",
      "execution_count": null,
      "outputs": []
    },
    {
      "cell_type": "code",
      "source": [
        "anuncio.printSchema()"
      ],
      "metadata": {
        "colab": {
          "base_uri": "https://localhost:8080/"
        },
        "id": "W6BmYrYaaDR5",
        "outputId": "a511708c-5ab4-4931-c17e-a60fdba6f575"
      },
      "id": "W6BmYrYaaDR5",
      "execution_count": null,
      "outputs": [
        {
          "output_type": "stream",
          "name": "stdout",
          "text": [
            "root\n",
            " |-- id: string (nullable = true)\n",
            " |-- andar: long (nullable = true)\n",
            " |-- area_total: string (nullable = true)\n",
            " |-- area_util: string (nullable = true)\n",
            " |-- banheiros: long (nullable = true)\n",
            " |-- caracteristicas: string (nullable = true)\n",
            " |-- quartos: long (nullable = true)\n",
            " |-- suites: long (nullable = true)\n",
            " |-- tipo_anuncio: string (nullable = true)\n",
            " |-- tipo_unidade: string (nullable = true)\n",
            " |-- tipo_uso: string (nullable = true)\n",
            " |-- vaga: long (nullable = true)\n",
            " |-- bairro: string (nullable = true)\n",
            " |-- zona: string (nullable = true)\n",
            " |-- condominio: string (nullable = true)\n",
            " |-- iptu: string (nullable = true)\n",
            " |-- tipo: string (nullable = true)\n",
            " |-- valor: string (nullable = true)\n",
            "\n"
          ]
        }
      ]
    },
    {
      "cell_type": "code",
      "source": [
        "anuncio.write.csv(\n",
        "    path='/content/drive/MyDrive/Challenge_Pyspark_Alura/csv',\n",
        "    mode='overwrite',\n",
        "    sep=';',\n",
        "    header=True,\n",
        ")"
      ],
      "metadata": {
        "id": "YrN-2jmC0GbI"
      },
      "id": "YrN-2jmC0GbI",
      "execution_count": null,
      "outputs": []
    },
    {
      "cell_type": "markdown",
      "source": [
        "# Comparando o Desempenho de Leitura"
      ],
      "metadata": {
        "id": "-a2Ai1N1axGY"
      },
      "id": "-a2Ai1N1axGY"
    },
    {
      "cell_type": "code",
      "source": [
        "%time\n",
        "\n",
        "parquet = spark.read.parquet('/content/drive/MyDrive/Challenge_Pyspark_Alura/parquet')\n",
        "parquet.show()"
      ],
      "metadata": {
        "colab": {
          "base_uri": "https://localhost:8080/"
        },
        "id": "a86Gb4DpRjhq",
        "outputId": "27aa0355-d5a6-4387-a60f-a5548e6620d1"
      },
      "id": "a86Gb4DpRjhq",
      "execution_count": null,
      "outputs": [
        {
          "output_type": "stream",
          "name": "stdout",
          "text": [
            "CPU times: user 4 µs, sys: 0 ns, total: 4 µs\n",
            "Wall time: 9.78 µs\n",
            "+--------------------+-----+----------+---------+---------+--------------------+-------+------+------------+------------+-----------+----+--------------------+------------+----------+----+-----+------+\n",
            "|                  id|andar|area_total|area_util|banheiros|     caracteristicas|quartos|suites|tipo_anuncio|tipo_unidade|   tipo_uso|vaga|              bairro|        zona|condominio|iptu| tipo| valor|\n",
            "+--------------------+-----+----------+---------+---------+--------------------+-------+------+------------+------------+-----------+----+--------------------+------------+----------+----+-----+------+\n",
            "|03a386b6-7ab8-4ef...|    0|        43|       43|        1|[Churrasqueira, A...|      2|  null|       Usado| Apartamento|Residencial|   1|            Realengo|  Zona Oeste|       285|null|Venda| 22999|\n",
            "|1fe78d41-b8e0-4d2...|    0|        44|       44|        1|                  []|      2|     0|       Usado| Apartamento|Residencial|   0|               Irajá|  Zona Norte|       170|   0|Venda|110000|\n",
            "|1fa1c1e5-e98c-433...|    4|      null|       55|        1|                  []|      2|     0|       Usado| Apartamento|Residencial|   1|              Cosmos|  Zona Oeste|      null|null|Venda|115000|\n",
            "|a6ab01ae-3d40-40e...|    2|      null|       55|        1|                  []|      2|     0|       Usado| Apartamento|Residencial|   0|        Tomás Coelho|  Zona Norte|      null|null|Venda|115000|\n",
            "|1d8ff7a2-16bd-4e3...|    0|      null|       50|        1|                  []|      1|  null|       Usado| Apartamento|Residencial|   0|              Centro|Zona Central|      1300|2679|Venda|125000|\n",
            "|40a2cbde-946b-42d...|    2|        47|       47|        1|[Condomínio fecha...|      2|     0|       Usado| Apartamento|Residencial|   1|        Campo Grande|  Zona Oeste|       380|null|Venda|138000|\n",
            "|be269ddf-a4a3-4a7...|    0|     17089|       45|        1|[Churrasqueira, C...|      2|     0|       Usado| Apartamento|Residencial|   1|        Campo Grande|  Zona Oeste|       356|   0|Venda|140000|\n",
            "|4b7e3d59-34fd-4ba...|    3|        48|       48|        1|[Churrasqueira, P...|      2|  null|       Usado| Apartamento|Residencial|   1|        Campo Grande|  Zona Oeste|         0|   0|Venda|150000|\n",
            "|a1a0c2ac-4fa8-4b0...|    9|      null|       55|        1|[Churrasqueira, E...|      2|  null|       Usado| Apartamento|Residencial|   1|Freguesia (Jacare...|  Zona Oeste|       780| 660|Venda|160000|\n",
            "|390d2b88-e06d-47e...|    0|        70|       70|        2|   [Salão de festas]|      2|     0|       Usado| Apartamento|Residencial|   1|          Praça Seca|  Zona Oeste|    420000|null|Venda|159000|\n",
            "|07bb07c1-21cc-4da...|    2|        50|       48|        1|[Condomínio fecha...|      1|     0|       Usado| Apartamento|Residencial|   0|             Piedade|  Zona Norte|        10|  10|Venda|170000|\n",
            "|7d3a1bae-988c-44b...|    5|        40|       40|        1|[Playground, Chur...|      2|     0|       Usado| Apartamento|Residencial|   1|        Braz de Pina|  Zona Norte|       150| 120|Venda|189000|\n",
            "|47af17f0-1c81-474...|    0|        65|       65|        1|                  []|      2|     0|       Usado| Apartamento|Residencial|   1|            Campinho|  Zona Oeste|       432|null|Venda|185000|\n",
            "|a9bd1575-e9f2-43d...|    2|        50|       50|        1|[Condomínio fecha...|      1|     0|       Usado| Apartamento|Residencial|   1|           Madureira|  Zona Norte|       650|   1|Venda|185000|\n",
            "|cfca7253-3d02-4cd...|    5|        45|       45|        1|[Academia, Churra...|      2|     1|       Usado| Apartamento|Residencial|   0|             Taquara|  Zona Oeste|       150|  40|Venda|199000|\n",
            "|b571ae97-e3d8-4fb...|    0|        48|       48|        1|[Academia, Condom...|      2|  null|       Usado| Apartamento|Residencial|   0|          Bonsucesso|  Zona Norte|         0|   0|Venda|205933|\n",
            "|eb5fdc65-acae-45f...|    0|        44|       44|        1|[Academia, Condom...|      2|  null|       Usado| Apartamento|Residencial|   0|          Bonsucesso|  Zona Norte|         0|   0|Venda|206000|\n",
            "|77cd0388-e3ff-40c...|    2|        64|       64|        1|                  []|      2|     0|       Usado| Apartamento|Residencial|   0|      Jardim América|  Zona Norte|         0|   0|Venda|220000|\n",
            "|74a91f07-7387-4a8...|    0|        55|       55|        2|[Salão de festas,...|      1|     0|       Usado| Apartamento|Residencial|   1|        Engenho Novo|  Zona Norte|       600| 652|Venda|219130|\n",
            "|6aab1165-508d-455...|    3|        60|       60|        1|[Animais permitidos]|      3|     0|       Usado| Apartamento|Residencial|   1|           Cascadura|  Zona Norte|        98|   1|Venda|230000|\n",
            "+--------------------+-----+----------+---------+---------+--------------------+-------+------+------------+------------+-----------+----+--------------------+------------+----------+----+-----+------+\n",
            "only showing top 20 rows\n",
            "\n"
          ]
        }
      ]
    },
    {
      "cell_type": "code",
      "source": [
        "%time\n",
        "\n",
        "csv = spark.read.csv('/content/drive/MyDrive/Challenge_Pyspark_Alura/csv')\n",
        "csv"
      ],
      "metadata": {
        "colab": {
          "base_uri": "https://localhost:8080/"
        },
        "id": "EJhDw6cwbIEO",
        "outputId": "6ec1a710-c5f7-4390-f5c3-ec40ff371731"
      },
      "id": "EJhDw6cwbIEO",
      "execution_count": null,
      "outputs": [
        {
          "output_type": "stream",
          "name": "stdout",
          "text": [
            "CPU times: user 4 µs, sys: 0 ns, total: 4 µs\n",
            "Wall time: 8.34 µs\n"
          ]
        },
        {
          "output_type": "execute_result",
          "data": {
            "text/plain": [
              "DataFrame[_c0: string]"
            ]
          },
          "metadata": {},
          "execution_count": 54
        }
      ]
    },
    {
      "cell_type": "code",
      "source": [
        "spark.stop()"
      ],
      "metadata": {
        "id": "COp3FNq0bQou"
      },
      "id": "COp3FNq0bQou",
      "execution_count": null,
      "outputs": []
    }
  ],
  "metadata": {
    "kernelspec": {
      "display_name": "Python 3 (ipykernel)",
      "language": "python",
      "name": "python3"
    },
    "language_info": {
      "codemirror_mode": {
        "name": "ipython",
        "version": 3
      },
      "file_extension": ".py",
      "mimetype": "text/x-python",
      "name": "python",
      "nbconvert_exporter": "python",
      "pygments_lexer": "ipython3",
      "version": "3.9.12"
    },
    "latex_envs": {
      "LaTeX_envs_menu_present": true,
      "autoclose": false,
      "autocomplete": true,
      "bibliofile": "biblio.bib",
      "cite_by": "apalike",
      "current_citInitial": 1,
      "eqLabelWithNumbers": true,
      "eqNumInitial": 1,
      "hotkeys": {
        "equation": "Ctrl-E",
        "itemize": "Ctrl-I"
      },
      "labels_anchors": false,
      "latex_user_defs": false,
      "report_style_numbering": false,
      "user_envs_cfg": false
    },
    "toc": {
      "base_numbering": 1,
      "nav_menu": {},
      "number_sections": true,
      "sideBar": true,
      "skip_h1_title": false,
      "title_cell": "Table of Contents",
      "title_sidebar": "Contents",
      "toc_cell": false,
      "toc_position": {},
      "toc_section_display": true,
      "toc_window_display": false
    },
    "colab": {
      "provenance": [],
      "collapsed_sections": [
        "ibkW_rwfwAgT",
        "47f94544",
        "b557a432",
        "c207e1e1",
        "ONoVe5a1uzen",
        "Uqh6LFObu8PH",
        "N-YadyG1viE7",
        "6A_xVSKmwK2w"
      ]
    }
  },
  "nbformat": 4,
  "nbformat_minor": 5
}